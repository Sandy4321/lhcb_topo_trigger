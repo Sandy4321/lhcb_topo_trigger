{
 "metadata": {
  "name": "",
  "signature": "sha256:5ec133ed76a177c6c691128f79b6316dba8850d5633edc2cfb2c37f854746b62"
 },
 "nbformat": 3,
 "nbformat_minor": 0,
 "worksheets": [
  {
   "cells": [
    {
     "cell_type": "markdown",
     "metadata": {},
     "source": [
      "# About\n",
      "\n",
      "Fix some parameters for Matrixnet and AdaBoost. Fix 0.2 size for signal training (instead 0.5). Bck and signal test is 0.5 from all dataset  \n",
      "\n",
      "\n",
      "1) Compare 7 features for training and all features, all features without nmu\n",
      "\n",
      "\n",
      "2) Compare train on dataset and on dataset with svr.minpt > 500\n",
      "\n",
      "\n",
      "3) Test 2) on \n",
      "\n",
      "\n",
      "    a) all test dataset \n",
      "    b) for svr.minpt <= 500 we say that this not pass presel \n",
      "    \n",
      "4) Compare TMVA and Sklearn AdaBoost\n",
      "\n",
      "5) train best on trumatch==1"
     ]
    },
    {
     "cell_type": "code",
     "collapsed": false,
     "input": [
      "channels_all = [\"mod_11114001.csv\", \"mod_11124001.csv\", \n",
      "                \"mod_11296013.csv\", \"mod_11874042.csv\", \n",
      "                \"mod_12103035.csv\", \"mod_12165106.csv\", \n",
      "                \"mod_12265042.csv\", \"mod_30000000.csv\"]\n",
      "folder = \"Topo/csv_data_true_update/\"\n",
      "cl_folder = 'train_anal_goodgen_update-8-10/'"
     ],
     "language": "python",
     "metadata": {},
     "outputs": [],
     "prompt_number": 1
    },
    {
     "cell_type": "code",
     "collapsed": false,
     "input": [
      "import io\n",
      "from IPython.nbformat import current\n",
      "\n",
      "def execute_notebook(nbfile):\n",
      "    \n",
      "    with io.open(nbfile) as f:\n",
      "        nb = current.read(f, 'json')\n",
      "    \n",
      "    ip = get_ipython()\n",
      "    \n",
      "    for cell in nb.worksheets[0].cells:\n",
      "        if cell.cell_type != 'code':\n",
      "            continue\n",
      "        ip.run_cell(cell.input)\n",
      "\n",
      "        \n",
      "import sys\n",
      "sys.path.insert(0, '/local/userdata/shelf/notebook/antares/work/REP')\n",
      "import cern_utils\n",
      "from cern_utils import converter_csv\n",
      "\n",
      "execute_notebook('metric_generate.ipynb')"
     ],
     "language": "python",
     "metadata": {},
     "outputs": [],
     "prompt_number": 39
    },
    {
     "cell_type": "code",
     "collapsed": false,
     "input": [
      "# head = True\n",
      "# for channel in channels_all[:-1]:\n",
      "#     t = pandas.read_csv(folder + channel, sep='\\t')\n",
      "#     t.to_csv(folder + 'signal.csv', header=head, index=False, sep='\\t', mode='a')\n",
      "#     head = False"
     ],
     "language": "python",
     "metadata": {},
     "outputs": [],
     "prompt_number": 3
    },
    {
     "cell_type": "markdown",
     "metadata": {},
     "source": [
      "# Variables"
     ]
    },
    {
     "cell_type": "code",
     "collapsed": false,
     "input": [
      "variables = [\"sumpt\",\n",
      "             \"m\",\n",
      "             \"mcor\",\n",
      "             \"ipchi2\",\n",
      "             \"vchi2\",\n",
      "             \"sumipchi2\",\n",
      "             \"fdr\",\n",
      "             \"nlt16\",\n",
      "             \"minpt\",\n",
      "             \"ptau\",\n",
      "             \"q\",\n",
      "             \"eta\",\n",
      "             \"nhlt1\",\n",
      "             \"nmu\",\n",
      "             \"n\",\n",
      "             \"fdchi2\"]\n",
      "\n",
      "variables_small = [\"sumpt\",\n",
      "             \"m\",\n",
      "             \"mcor\",\n",
      "             \"ipchi2\",\n",
      "             \"vchi2\",\n",
      "             \"fdchi2\",\n",
      "             \"minpt\"]\n",
      "\n",
      "variables_out_nmu = [\"sumpt\",\n",
      "             \"m\",\n",
      "             \"mcor\",\n",
      "             \"ipchi2\",\n",
      "             \"vchi2\",\n",
      "             \"sumipchi2\",\n",
      "             \"fdr\",\n",
      "             \"nlt16\",\n",
      "             \"minpt\",\n",
      "             \"ptau\",\n",
      "             \"q\",\n",
      "             \"eta\",\n",
      "             \"nhlt1\",\n",
      "             #\"nmu\",\n",
      "             \"n\",\n",
      "             \"fdchi2\"]"
     ],
     "language": "python",
     "metadata": {},
     "outputs": [],
     "prompt_number": 4
    },
    {
     "cell_type": "code",
     "collapsed": false,
     "input": [
      "sig_data = converter_csv.load_from_csv(folder + 'signal.csv', sep='\\t')\n",
      "bck_data = converter_csv.load_from_csv(folder + channels_all[-1], sep='\\t')"
     ],
     "language": "python",
     "metadata": {},
     "outputs": [],
     "prompt_number": 5
    },
    {
     "cell_type": "code",
     "collapsed": false,
     "input": [
      "def get_channel_labels(ds):\n",
      "    channel_label = []\n",
      "\n",
      "    for element in ds['# event_id']:\n",
      "        channel_label.append(int(element.split('_')[0]))\n",
      "    return channel_label"
     ],
     "language": "python",
     "metadata": {},
     "outputs": [],
     "prompt_number": 6
    },
    {
     "cell_type": "code",
     "collapsed": false,
     "input": [
      "from sklearn.preprocessing import LabelEncoder\n",
      "from sklearn import preprocessing\n",
      "le = preprocessing.LabelEncoder()\n",
      "le.fit(map(lambda x: int(x[4:-4]), channels_all))\n",
      "sig_data = sig_data.add_columns({'channel': le.transform(get_channel_labels(sig_data)), \n",
      "                                 'channel_label': get_channel_labels(sig_data)})\n",
      "bck_data = bck_data.add_columns({'channel': le.transform(get_channel_labels(bck_data)),\n",
      "                                 'channel_label': get_channel_labels(bck_data)})"
     ],
     "language": "python",
     "metadata": {},
     "outputs": []
    },
    {
     "cell_type": "code",
     "collapsed": false,
     "input": [
      "bck_data_train, bck_data_test = bck_data.get_train_test(train_size=0.5, \n",
      "                                                        test_size=0.5, group_columns='# event_id')\n",
      "sig_data_train, sig_data_test = sig_data.get_train_test(train_size=0.5, test_size=0.5, group_columns='# event_id')\n",
      "bck_data_train = bck_data_train.select('presel==1')\n",
      "sig_data_train = sig_data_train.select('presel==1')\n",
      "print len(sig_data_train)"
     ],
     "language": "python",
     "metadata": {},
     "outputs": []
    },
    {
     "cell_type": "code",
     "collapsed": false,
     "input": [
      "sig_data_train, _ = sig_data_train.get_train_test(train_size=0.3, group_columns='# event_id')\n",
      "len(sig_data), len(bck_data), len(sig_data_train), len(bck_data_train)"
     ],
     "language": "python",
     "metadata": {},
     "outputs": []
    },
    {
     "cell_type": "code",
     "collapsed": false,
     "input": [
      "print 'SVR', len(sig_data_train), len(bck_data_train)"
     ],
     "language": "python",
     "metadata": {},
     "outputs": [
      {
       "output_type": "stream",
       "stream": "stdout",
       "text": [
        " SVR 1141477 223355\n"
       ]
      }
     ],
     "prompt_number": 81
    },
    {
     "cell_type": "markdown",
     "metadata": {},
     "source": [
      "## Signal training events"
     ]
    },
    {
     "cell_type": "code",
     "collapsed": false,
     "input": [
      "print 'Events', len(numpy.unique(numpy.array(sig_data_train['# event_id'])))"
     ],
     "language": "python",
     "metadata": {},
     "outputs": [
      {
       "output_type": "stream",
       "stream": "stdout",
       "text": [
        "Events "
       ]
      },
      {
       "output_type": "stream",
       "stream": "stdout",
       "text": [
        "7818\n"
       ]
      }
     ]
    },
    {
     "cell_type": "markdown",
     "metadata": {},
     "source": [
      "## Bck training events"
     ]
    },
    {
     "cell_type": "code",
     "collapsed": false,
     "input": [
      "print 'Events', len(numpy.unique(numpy.array(bck_data_train['# event_id'])))"
     ],
     "language": "python",
     "metadata": {},
     "outputs": [
      {
       "output_type": "stream",
       "stream": "stdout",
       "text": [
        "Events "
       ]
      },
      {
       "output_type": "stream",
       "stream": "stdout",
       "text": [
        "11548\n"
       ]
      }
     ],
     "prompt_number": 83
    },
    {
     "cell_type": "markdown",
     "metadata": {},
     "source": [
      "# Matrixnet training"
     ]
    },
    {
     "cell_type": "code",
     "collapsed": false,
     "input": [
      "import sklearn\n",
      "from cern_utils import sklearn_classifier, ef_classifier"
     ],
     "language": "python",
     "metadata": {},
     "outputs": []
    },
    {
     "cell_type": "code",
     "collapsed": false,
     "input": [
      "mn_feat = ef_classifier.ClassifierEF(directory=cl_folder + 'mn_feat_all', formula_name='topo_mn_train', \n",
      "                                     dataset_name='topo_mn_train_all_features', url_base='test02cern.vs.os.yandex.net')\n",
      "mn_feat.set_params(features=variables, iterations=5000, sync=False)\n",
      "mn_feat.fit(sig_data_train, bck_data_train)"
     ],
     "language": "python",
     "metadata": {},
     "outputs": [
      {
       "metadata": {},
       "output_type": "pyout",
       "prompt_number": 28,
       "text": [
        "<cern_utils.ef_classifier.ClassifierEF at 0x16e5c7d0>"
       ]
      }
     ],
     "prompt_number": 28
    },
    {
     "cell_type": "code",
     "collapsed": false,
     "input": [
      "mn_feat7 = ef_classifier.ClassifierEF(directory=cl_folder + 'mn_feat_7', formula_name='topo_mn_train', \n",
      "                                     dataset_name='topo_mn_train_7_features', url_base='test02cern.vs.os.yandex.net')\n",
      "mn_feat7.set_params(features=variables_small, iterations=5000, sync=False)\n",
      "mn_feat7.fit(sig_data_train, bck_data_train)"
     ],
     "language": "python",
     "metadata": {},
     "outputs": [
      {
       "metadata": {},
       "output_type": "pyout",
       "prompt_number": 29,
       "text": [
        "<cern_utils.ef_classifier.ClassifierEF at 0x1548e8d0>"
       ]
      }
     ],
     "prompt_number": 29
    },
    {
     "cell_type": "code",
     "collapsed": false,
     "input": [
      "mn_minpt = ef_classifier.ClassifierEF(directory=cl_folder + 'mn_minpt', formula_name='topo_mn_train', \n",
      "                                     dataset_name='topo_mn_train_minpt', url_base='test02cern.vs.os.yandex.net')\n",
      "mn_minpt.set_params(features=variables, iterations=5000, sync=False)\n",
      "mn_minpt.fit(sig_data_train.select('minpt > 500'), bck_data_train.select('minpt > 500'))"
     ],
     "language": "python",
     "metadata": {},
     "outputs": [
      {
       "metadata": {},
       "output_type": "pyout",
       "prompt_number": 30,
       "text": [
        "<cern_utils.ef_classifier.ClassifierEF at 0x7fc1c768f810>"
       ]
      }
     ],
     "prompt_number": 30
    },
    {
     "cell_type": "code",
     "collapsed": false,
     "input": [
      "mn_out_nmu = ef_classifier.ClassifierEF(directory=cl_folder + 'mn_feat_all_out_nmu', formula_name='topo_mn_train', \n",
      "                                     dataset_name='topo_mn_train_all_features_out_nmu_', url_base='test02cern.vs.os.yandex.net')\n",
      "mn_out_nmu.set_params(features=variables_out_nmu, iterations=5000, sync=False)\n",
      "mn_out_nmu.fit(sig_data_train, bck_data_train)"
     ],
     "language": "python",
     "metadata": {},
     "outputs": [
      {
       "metadata": {},
       "output_type": "pyout",
       "prompt_number": 31,
       "text": [
        "<cern_utils.ef_classifier.ClassifierEF at 0x7fc1c768f410>"
       ]
      }
     ],
     "prompt_number": 31
    },
    {
     "cell_type": "code",
     "collapsed": false,
     "input": [
      "mn_feat_true = ef_classifier.ClassifierEF(directory=cl_folder + 'mn_feat_all_truematch', formula_name='topo_mn_train', \n",
      "                                     dataset_name='topo_mn_train_all_features_truematch', url_base='test02cern.vs.os.yandex.net')\n",
      "mn_feat_true.set_params(features=variables, iterations=5000, sync=False)\n",
      "mn_feat_true.fit(sig_data_train.select('truematch==1'), bck_data_train)"
     ],
     "language": "python",
     "metadata": {},
     "outputs": [
      {
       "metadata": {},
       "output_type": "pyout",
       "prompt_number": 32,
       "text": [
        "<cern_utils.ef_classifier.ClassifierEF at 0x7fc1c768f7d0>"
       ]
      }
     ],
     "prompt_number": 32
    },
    {
     "cell_type": "markdown",
     "metadata": {},
     "source": [
      "# Ada Boost training"
     ]
    },
    {
     "cell_type": "code",
     "collapsed": false,
     "input": [
      "from sklearn.ensemble import AdaBoostClassifier\n",
      "from sklearn.tree import DecisionTreeClassifier"
     ],
     "language": "python",
     "metadata": {},
     "outputs": []
    },
    {
     "cell_type": "code",
     "collapsed": false,
     "input": [
      "ada_feat = sklearn_classifier.ClassifierSklearn(base_classifier=AdaBoostClassifier(n_estimators=400, \n",
      "                                                                                   learning_rate=0.01, random_state=13,\n",
      "                              base_estimator=DecisionTreeClassifier(max_depth=6, min_samples_leaf=30, max_features=6,\n",
      "                                                                    random_state=13)),\n",
      "                                                directory=cl_folder + 'ada_feat_all')\n",
      "ada_feat.set_params(features=variables)\n",
      "ada_feat.fit(sig_data_train, bck_data_train)\n",
      "\n",
      "ada_feat7 = sklearn_classifier.ClassifierSklearn(base_classifier=AdaBoostClassifier(n_estimators=400, \n",
      "                                                                                   learning_rate=0.01, random_state=13,\n",
      "                              base_estimator=DecisionTreeClassifier(max_depth=6, min_samples_leaf=30, max_features=6,\n",
      "                                                                    random_state=13)),\n",
      "                                                  directory=cl_folder + 'ada_feat_7')\n",
      "ada_feat7.set_params(features=variables_small)\n",
      "ada_feat7.fit(sig_data_train, bck_data_train)\n",
      "\n",
      "ada_minpt = sklearn_classifier.ClassifierSklearn(base_classifier=AdaBoostClassifier(n_estimators=400, \n",
      "                                                                                   learning_rate=0.01, random_state=13,\n",
      "                              base_estimator=DecisionTreeClassifier(max_depth=6, min_samples_leaf=30, max_features=6,\n",
      "                                                                    random_state=13)),\n",
      "                                                  directory=cl_folder + 'ada_minpt')\n",
      "ada_minpt.set_params(features=variables)\n",
      "ada_minpt.fit(sig_data_train.select('minpt > 500'), bck_data_train.select('minpt > 500'))\n",
      "\n",
      "ada_out_nmu = sklearn_classifier.ClassifierSklearn(base_classifier=AdaBoostClassifier(n_estimators=400, \n",
      "                                                                                   learning_rate=0.01, random_state=13,\n",
      "                              base_estimator=DecisionTreeClassifier(max_depth=6, min_samples_leaf=30, max_features=6,\n",
      "                                                                    random_state=13)),\n",
      "                                                directory=cl_folder + 'ada_feat_all_out_nmu')\n",
      "ada_out_nmu.set_params(features=variables_out_nmu)\n",
      "ada_out_nmu.fit(sig_data_train, bck_data_train)\n",
      "\n",
      "ada_feat_true = sklearn_classifier.ClassifierSklearn(base_classifier=AdaBoostClassifier(n_estimators=400, \n",
      "                                                                                   learning_rate=0.01, random_state=13,\n",
      "                              base_estimator=DecisionTreeClassifier(max_depth=6, min_samples_leaf=30, max_features=6,\n",
      "                                                                    random_state=13)),\n",
      "                                                directory=cl_folder + 'ada_feat_all_truematch')\n",
      "ada_feat_true.set_params(features=variables)\n",
      "ada_feat_true.fit(sig_data_train.select('truematch==1'), bck_data_train)"
     ],
     "language": "python",
     "metadata": {},
     "outputs": []
    },
    {
     "cell_type": "code",
     "collapsed": false,
     "input": [
      "test_all = sig_data_test.union([sig_data_test, bck_data_test])\n",
      "eff_to_plot = metric_generate(test_all.get_data(), metric_plot=True)\n",
      "signal_labels = [1] * len(sig_data_test) + [0] * len(bck_data_test)"
     ],
     "language": "python",
     "metadata": {},
     "outputs": []
    },
    {
     "cell_type": "code",
     "collapsed": false,
     "input": [
      "empty_events = {11114001: 164, \n",
      "                11124001: 49,\n",
      "                11296013: 23,\n",
      "                11874042: 129, \n",
      "                12103035: 421,\n",
      "                12165106: 273,\n",
      "                12265042: 53,\n",
      "                30000000: 107352}"
     ],
     "language": "python",
     "metadata": {},
     "outputs": []
    },
    {
     "cell_type": "code",
     "collapsed": false,
     "input": [
      "test_all_mod = test_all.get_data()\n",
      "presel = numpy.array(test_all_mod['presel'])\n",
      "presel[numpy.array(test_all_mod['minpt']) <= 500] = 0\n",
      "test_all_mod['presel'] = presel\n",
      "eff_to_plot_mod = metric_generate(test_all_mod, metric_plot=True)"
     ],
     "language": "python",
     "metadata": {},
     "outputs": []
    },
    {
     "cell_type": "code",
     "collapsed": false,
     "input": [
      "mn_probs = {}\n",
      "mn_probs['all features'] = mn_feat.predict(test_all)\n",
      "mn_probs['7 features'] = mn_feat7.predict(test_all)\n",
      "mn_probs['minpt > 500 for train'] = mn_minpt.predict(test_all)"
     ],
     "language": "python",
     "metadata": {},
     "outputs": []
    },
    {
     "cell_type": "code",
     "collapsed": false,
     "input": [
      "mn_probs['all features out nmu'] = mn_out_nmu.predict(test_all)\n",
      "mn_probs['all features truematch'] = mn_feat_true.predict(test_all)"
     ],
     "language": "python",
     "metadata": {},
     "outputs": []
    },
    {
     "cell_type": "code",
     "collapsed": false,
     "input": [
      "ada_probs = {}\n",
      "ada_probs['all features'] = ada_feat.predict(test_all)\n",
      "ada_probs['7 features'] = ada_feat7.predict(test_all)\n",
      "ada_probs['minpt > 500 for train'] = ada_minpt.predict(test_all)\n",
      "ada_probs['all features out nmu'] = ada_out_nmu.predict(test_all)\n",
      "ada_probs['all features truematch'] = ada_feat_true.predict(test_all)"
     ],
     "language": "python",
     "metadata": {},
     "outputs": []
    },
    {
     "cell_type": "markdown",
     "metadata": {},
     "source": [
      "# Compare channels"
     ]
    },
    {
     "cell_type": "code",
     "collapsed": false,
     "input": [
      "to_plot_res = {}\n",
      "num = 0\n",
      "color = ['b', 'g', 'cyan', 'pink', 'orange', 'black', 'yellow', 'brown']\n",
      "for ind, (key, prob_mn) in enumerate(mn_probs.iteritems()):\n",
      "    color_cur = color[num]\n",
      "    if key == 'all features truematch':\n",
      "        color_cur = 'violet'\n",
      "        num -= 1\n",
      "    to_plot_res[key] = {'data': eff_to_plot(signal_labels, prob_mn), \n",
      "                                  'color': color_cur, 'move': 3 + ind, 'alpha': 1,\n",
      "                                  'p_label': 'p_empty', 'total': 'total_empty'}\n",
      "    num += 1"
     ],
     "language": "python",
     "metadata": {},
     "outputs": []
    },
    {
     "cell_type": "code",
     "collapsed": false,
     "input": [
      "to_plot_res['minpt > 500 for train (cut on test minpt > 500)'] = {'data': eff_to_plot_mod(signal_labels, \n",
      "                                                                                       mn_probs['minpt > 500 for train']), \n",
      "                                  'color': color[4], 'move': 3 + 5, 'alpha': 1,\n",
      "                                  'p_label': 'p_empty', 'total': 'total_empty'}\n",
      "to_plot_res['all features (cut on test minpt > 500)'] = {'data': eff_to_plot_mod(signal_labels, \n",
      "                                                                                       mn_probs['all features']), \n",
      "                                  'color': color[5], 'move': 3 + 6, 'alpha': 1,\n",
      "                                  'p_label': 'p_empty', 'total': 'total_empty'}\n",
      "to_plot_res['BDT'] = {'data': eff_to_plot(signal_labels, numpy.zeros(len(signal_labels))), 'color': 'r', 'move': 3 + 7,\n",
      "                      'p_label': 'bdt_passed', 'total': 'total_empty'}"
     ],
     "language": "python",
     "metadata": {},
     "outputs": []
    },
    {
     "cell_type": "code",
     "collapsed": false,
     "input": [
      "to_plot_res_ada = {}\n",
      "num = 0\n",
      "color = ['b', 'g', 'cyan', 'pink', 'orange', 'black', 'yellow', 'brown']\n",
      "for ind, (key, prob_ada) in enumerate(ada_probs.iteritems()):\n",
      "    color_cur = color[num]\n",
      "    if key == 'all features truematch':\n",
      "        color_cur = 'violet'\n",
      "        num -= 1\n",
      "    to_plot_res_ada[key] = {'data': eff_to_plot(signal_labels, prob_ada), \n",
      "                                  'color': color_cur, 'move': 3 + ind, 'alpha': 1,\n",
      "                                  'p_label': 'p_empty', 'total': 'total_empty'}\n",
      "    num += 1"
     ],
     "language": "python",
     "metadata": {},
     "outputs": [
      {
       "output_type": "stream",
       "stream": "stdout",
       "text": [
        "182\n",
        "0.727032408823\n",
        "182\n",
        "182"
       ]
      },
      {
       "output_type": "stream",
       "stream": "stdout",
       "text": [
        "\n",
        "0.700073419197\n",
        "182\n",
        "182"
       ]
      },
      {
       "output_type": "stream",
       "stream": "stdout",
       "text": [
        "\n",
        "0.729768448875\n",
        "182\n",
        "182"
       ]
      },
      {
       "output_type": "stream",
       "stream": "stdout",
       "text": [
        "\n",
        "0.724747499663\n",
        "182\n",
        "182"
       ]
      },
      {
       "output_type": "stream",
       "stream": "stdout",
       "text": [
        "\n",
        "0.724376488884\n",
        "182\n"
       ]
      }
     ],
     "prompt_number": 53
    },
    {
     "cell_type": "code",
     "collapsed": false,
     "input": [
      "to_plot_res_ada['minpt > 500 for train (cut on test minpt > 500)'] = {'data': eff_to_plot_mod(signal_labels, \n",
      "                                                                                       ada_probs['minpt > 500 for train']), \n",
      "                                  'color': color[5], 'move': 3 + 5, 'alpha': 1,\n",
      "                                  'p_label': 'p_empty', 'total': 'total_empty'}\n",
      "to_plot_res_ada['all features (cut on test minpt > 500)'] = {'data': eff_to_plot_mod(signal_labels, \n",
      "                                                                                       ada_probs['all features']), \n",
      "                                  'color': color[6], 'move': 3 + 6, 'alpha': 1,\n",
      "                                  'p_label': 'p_empty', 'total': 'total_empty'}\n",
      "to_plot_res_ada['BDT'] = {'data': eff_to_plot(signal_labels, numpy.zeros(len(signal_labels))), 'color': 'r', 'move': 3 + 7,\n",
      "                          'p_label': 'bdt_passed', 'total': 'total_empty'}"
     ],
     "language": "python",
     "metadata": {},
     "outputs": [
      {
       "output_type": "stream",
       "stream": "stdout",
       "text": [
        "182\n",
        "0.72458303687\n",
        "182\n",
        "182"
       ]
      },
      {
       "output_type": "stream",
       "stream": "stdout",
       "text": [
        "\n",
        "0.721644481744\n",
        "182\n",
        "182"
       ]
      },
      {
       "output_type": "stream",
       "stream": "stdout",
       "text": [
        "\n",
        "0.0\n",
        "0\n"
       ]
      }
     ],
     "prompt_number": 54
    },
    {
     "cell_type": "code",
     "collapsed": false,
     "input": [
      "plt.subplots(figsize=(13,7))\n",
      "plot_eff(to_plot_res, p_label='p_empty', total_label='total_empty', length=10)\n",
      "plt.xlabel('Modes')\n",
      "plt.ylabel('Inefficiency')\n",
      "plt.title('Classifier Inefficiency for Matrixnet')\n",
      "plt.legend(loc='best')\n",
      "plt.tight_layout()"
     ],
     "language": "python",
     "metadata": {},
     "outputs": [
      {
       "metadata": {},
       "output_type": "display_data",
       "png": "[encoded data removed]",
       "text": [
        "<matplotlib.figure.Figure at 0xe090c90>"
       ]
      }
     ],
     "prompt_number": 65
    },
    {
     "cell_type": "code",
     "collapsed": false,
     "input": [
      "plt.subplots(figsize=(13,7))\n",
      "plot_eff(to_plot_res_ada, p_label='p_empty', total_label='total_empty', length=10)\n",
      "plt.xlabel('Modes')\n",
      "plt.ylabel('Inefficiency')\n",
      "plt.title('Classifier Inefficiency for AdaBoost')\n",
      "plt.legend(loc='best')\n",
      "plt.tight_layout()"
     ],
     "language": "python",
     "metadata": {},
     "outputs": [
      {
       "metadata": {},
       "output_type": "display_data",
       "png": "[encoded data removed]",
       "text": [
        "<matplotlib.figure.Figure at 0x8bcca50>"
       ]
      }
     ],
     "prompt_number": 66
    },
    {
     "cell_type": "code",
     "collapsed": false,
     "input": [
      "import cPickle\n",
      "with open(cl_folder + 'ada_compare', 'w') as file:\n",
      "    cPickle.dump(to_plot_res_ada, file)"
     ],
     "language": "python",
     "metadata": {},
     "outputs": [],
     "prompt_number": 67
    },
    {
     "cell_type": "code",
     "collapsed": false,
     "input": [
      "import cPickle\n",
      "with open(cl_folder + 'mn_compare', 'w') as file:\n",
      "    cPickle.dump(to_plot_res, file)"
     ],
     "language": "python",
     "metadata": {},
     "outputs": [],
     "prompt_number": 68
    },
    {
     "cell_type": "markdown",
     "metadata": {},
     "source": [
      "# TODO"
     ]
    },
    {
     "cell_type": "markdown",
     "metadata": {},
     "source": [
      "# Compare TMVA Ada and Sklearn Ada\n",
      "\n",
      "If take Ada TMVA with the same learining rate as in Sklearn (0.01) then we can't find threshold, which gives us 2,5 rate on bck. Threshold was equal 1., so inefficincy = 1. That is why I put learning rate 0.04, so this works better, but Ada in Sklearn is better.\n",
      "\n",
      "__In fact maybe I did't do complete mapping of sklearn parameters to tmva. Please, check it if you can!__"
     ]
    },
    {
     "cell_type": "markdown",
     "metadata": {},
     "source": [
      "## TMVA - \n",
      "\n",
      "`\"!H:!V:NTrees=400:BoostType=AdaBoost:MaxDepth=6:AdaBoostBeta=0.04:nCuts=20:NEventsMin=30\"`"
     ]
    },
    {
     "cell_type": "markdown",
     "metadata": {},
     "source": [
      "## Sklearn - \n",
      "\n",
      "`n_estimators=400, learning_rate=0.01, random_state=13, base_estimator=DecisionTreeClassifier(max_depth=6, min_samples_leaf=30, max_features=6, random_state=13)`"
     ]
    },
    {
     "cell_type": "code",
     "collapsed": false,
     "input": [
      "from cern_utils import tmva_classifier"
     ],
     "language": "python",
     "metadata": {},
     "outputs": [],
     "prompt_number": 69
    },
    {
     "cell_type": "code",
     "collapsed": false,
     "input": [
      "tmva = tmva_classifier.ClassifierTMVA(cl_folder + 'tmva_ada')\n",
      "tmva.set_params(tmva_method = ('ADA', \n",
      "                                \"!H:!V:NTrees=400:BoostType=AdaBoost:MaxDepth=6:AdaBoostBeta=0.04:nCuts=-1:NEventsMin=30\", \n",
      "                                'kBDT'),\n",
      "                features=variables)"
     ],
     "language": "python",
     "metadata": {},
     "outputs": [],
     "prompt_number": 70
    },
    {
     "cell_type": "code",
     "collapsed": false,
     "input": [
      "tmva.fit(sig_data_train, bck_data_train)"
     ],
     "language": "python",
     "metadata": {},
     "outputs": []
    },
    {
     "cell_type": "code",
     "collapsed": false,
     "input": [
      "tmva_prob = tmva.predict(test_all)"
     ],
     "language": "python",
     "metadata": {},
     "outputs": []
    },
    {
     "cell_type": "code",
     "collapsed": false,
     "input": [
      "compare_ada_tmva = {}\n",
      "compare_ada_tmva['ada sklearn'] = to_plot_res_ada['all features']\n",
      "compare_ada_tmva['ada tmva'] = {'data': eff_to_plot(signal_labels, tmva_prob), \n",
      "                                  'color': color[0], 'move': 3 + 4, 'alpha': 1,\n",
      "                                  'p_label': 'p_empty', 'total': 'total_empty'}"
     ],
     "language": "python",
     "metadata": {},
     "outputs": [
      {
       "output_type": "stream",
       "stream": "stdout",
       "text": [
        "182\n",
        "0.974124120494\n",
        "182\n"
       ]
      }
     ],
     "prompt_number": 79
    },
    {
     "cell_type": "code",
     "collapsed": false,
     "input": [
      "plt.subplots(figsize=(13,7))\n",
      "plot_eff(compare_ada_tmva)\n",
      "plt.xlabel('Modes')\n",
      "plt.ylabel('Inefficiency')\n",
      "plt.title('Classifier Inefficiency for AdaBoost')\n",
      "plt.legend(loc='best')\n",
      "plt.tight_layout()"
     ],
     "language": "python",
     "metadata": {},
     "outputs": [
      {
       "metadata": {},
       "output_type": "display_data",
       "png": "[encoded data removed]",
       "text": [
        "<matplotlib.figure.Figure at 0x8bda990>"
       ]
      }
     ],
     "prompt_number": 78
    },
    {
     "cell_type": "code",
     "collapsed": false,
     "input": [],
     "language": "python",
     "metadata": {},
     "outputs": []
    }
   ],
   "metadata": {}
  }
 ]
}