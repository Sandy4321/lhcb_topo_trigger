{
 "metadata": {
  "name": "",
  "signature": "sha256:d10912c87b4abebcb5da5ae54200bcb698e621a58c007856919f65b07fd2c1e1"
 },
 "nbformat": 3,
 "nbformat_minor": 0,
 "worksheets": [
  {
   "cells": [
    {
     "cell_type": "markdown",
     "metadata": {},
     "source": [
      "# About\n",
      "\n",
      "Fix some parameters for Matrixnet and AdaBoost. Fix 0.2 size for signal training (instead 0.5). Bck and signal test is 0.5 from all dataset  \n",
      "\n",
      "\n",
      "1) Compare 7 features for training and all features\n",
      "\n",
      "\n",
      "2) Compare train on dataset and on dataset with svr.minpt > 500\n",
      "\n",
      "\n",
      "3) Test 2) on \n",
      "\n",
      "\n",
      "    a) all test dataset \n",
      "    b) for svr.minpt <= 500 we say that this not pass presel "
     ]
    },
    {
     "cell_type": "code",
     "collapsed": false,
     "input": [
      "channels_all = [\"mod_11114001.csv\", \"mod_11124001.csv\", \n",
      "                \"mod_11296013.csv\", \"mod_11874042.csv\", \n",
      "                \"mod_12103035.csv\", \"mod_12165106.csv\", \n",
      "                \"mod_12265042.csv\", \"mod_30000000.csv\"]\n",
      "folder = \"Topo/csv_data/\""
     ],
     "language": "python",
     "metadata": {},
     "outputs": [],
     "prompt_number": 1
    },
    {
     "cell_type": "code",
     "collapsed": false,
     "input": [
      "import io\n",
      "from IPython.nbformat import current\n",
      "\n",
      "def execute_notebook(nbfile):\n",
      "    \n",
      "    with io.open(nbfile) as f:\n",
      "        nb = current.read(f, 'json')\n",
      "    \n",
      "    ip = get_ipython()\n",
      "    \n",
      "    for cell in nb.worksheets[0].cells:\n",
      "        if cell.cell_type != 'code':\n",
      "            continue\n",
      "        ip.run_cell(cell.input)\n",
      "\n",
      "        \n",
      "import sys\n",
      "sys.path.insert(0, '/local/userdata/shelf/notebook/antares/work/REP')\n",
      "import cern_utils\n",
      "from cern_utils import converter_csv\n",
      "\n",
      "execute_notebook('metric_generate.ipynb')"
     ],
     "language": "python",
     "metadata": {},
     "outputs": [],
     "prompt_number": 2
    },
    {
     "cell_type": "code",
     "collapsed": false,
     "input": [
      "# head = True\n",
      "# for channel in channels_all:\n",
      "#     t = pandas.read_csv(folder + channel, sep='\\t')\n",
      "#     t.to_csv(folder + 'signal.csv', header=head, index=False, sep='\\t', mode='a')\n",
      "#     head = False"
     ],
     "language": "python",
     "metadata": {},
     "outputs": [],
     "prompt_number": 3
    },
    {
     "cell_type": "markdown",
     "metadata": {},
     "source": [
      "# Variables"
     ]
    },
    {
     "cell_type": "code",
     "collapsed": false,
     "input": [
      "variables = [\"sumpt\",\n",
      "             \"m\",\n",
      "             \"mcor\",\n",
      "             \"ipchi2\",\n",
      "             \"vchi2\",\n",
      "             \"sumipchi2\",\n",
      "             \"fdr\",\n",
      "             \"nlt16\",\n",
      "             \"minpt\",\n",
      "             \"ptau\",\n",
      "             \"q\",\n",
      "             \"eta\",\n",
      "             \"nhlt1\",\n",
      "             \"nmu\",\n",
      "             \"n\",\n",
      "             \"fdchi2\"]\n",
      "\n",
      "variables_small = [\"sumpt\",\n",
      "             \"m\",\n",
      "             \"mcor\",\n",
      "             \"ipchi2\",\n",
      "             \"vchi2\",\n",
      "             \"fdchi2\",\n",
      "             \"minpt\"]"
     ],
     "language": "python",
     "metadata": {},
     "outputs": [],
     "prompt_number": 16
    },
    {
     "cell_type": "code",
     "collapsed": false,
     "input": [
      "sig_data = converter_csv.load_from_csv(folder + 'signal.csv', sep='\\t')\n",
      "bck_data = converter_csv.load_from_csv(folder + channels_all[-1], sep='\\t')"
     ],
     "language": "python",
     "metadata": {},
     "outputs": [],
     "prompt_number": 6
    },
    {
     "cell_type": "code",
     "collapsed": false,
     "input": [
      "def get_channel_labels(ds):\n",
      "    channel_label = []\n",
      "\n",
      "    for element in ds['# event_id']:\n",
      "        channel_label.append(int(element.split('_')[0]))\n",
      "    return channel_label"
     ],
     "language": "python",
     "metadata": {},
     "outputs": [],
     "prompt_number": 7
    },
    {
     "cell_type": "code",
     "collapsed": false,
     "input": [
      "from sklearn.preprocessing import LabelEncoder\n",
      "from sklearn import preprocessing\n",
      "le = preprocessing.LabelEncoder()\n",
      "le.fit(map(lambda x: int(x[4:-4]), channels_all))\n",
      "sig_data = sig_data.add_columns({'channel': le.transform(get_channel_labels(sig_data)), \n",
      "                                 'channel_label': get_channel_labels(sig_data)})\n",
      "bck_data = bck_data.add_columns({'channel': le.transform(get_channel_labels(bck_data)),\n",
      "                                 'channel_label': get_channel_labels(bck_data)})"
     ],
     "language": "python",
     "metadata": {},
     "outputs": [],
     "prompt_number": 8
    },
    {
     "cell_type": "code",
     "collapsed": false,
     "input": [
      "bck_data_train, bck_data_test = bck_data.get_train_test(train_size=0.5, \n",
      "                                                        test_size=0.5, group_columns='# event_id')\n",
      "sig_data_train, sig_data_test = sig_data.get_train_test(train_size=0.2, test_size=0.5, group_columns='# event_id')\n",
      "bck_data_train = bck_data_train.select('presel==1')\n",
      "sig_data_train = sig_data_train.select('presel==1')"
     ],
     "language": "python",
     "metadata": {},
     "outputs": [],
     "prompt_number": 9
    },
    {
     "cell_type": "code",
     "collapsed": false,
     "input": [
      "len(sig_data), len(bck_data), len(sig_data_train), len(bck_data_train)"
     ],
     "language": "python",
     "metadata": {},
     "outputs": [
      {
       "metadata": {},
       "output_type": "pyout",
       "prompt_number": 12,
       "text": [
        "(11011932, 1562996, 667524, 201421)"
       ]
      }
     ],
     "prompt_number": 12
    },
    {
     "cell_type": "markdown",
     "metadata": {},
     "source": [
      "# Matrixnet training"
     ]
    },
    {
     "cell_type": "code",
     "collapsed": false,
     "input": [
      "import sklearn\n",
      "from cern_utils import sklearn_classifier, ef_classifier"
     ],
     "language": "python",
     "metadata": {},
     "outputs": [],
     "prompt_number": 13
    },
    {
     "cell_type": "code",
     "collapsed": false,
     "input": [
      "mn_feat = ef_classifier.ClassifierEF(directory='train_anal/mn_feat_all', formula_name='topo_mn_train', \n",
      "                                     dataset_name='topo_mn_train_all_features', url_base='test02cern.vs.os.yandex.net')\n",
      "mn_feat.set_params(features=variables, iterations=5000, sync=False)\n",
      "mn_feat.fit(sig_data_train, bck_data_train)"
     ],
     "language": "python",
     "metadata": {},
     "outputs": [
      {
       "metadata": {},
       "output_type": "pyout",
       "prompt_number": 14,
       "text": [
        "<cern_utils.ef_classifier.ClassifierEF at 0x10dd1b10>"
       ]
      }
     ],
     "prompt_number": 14
    },
    {
     "cell_type": "code",
     "collapsed": false,
     "input": [
      "mn_feat7 = ef_classifier.ClassifierEF(directory='train_anal/mn_feat_7', formula_name='topo_mn_train', \n",
      "                                     dataset_name='topo_mn_train_7_features', url_base='test02cern.vs.os.yandex.net')\n",
      "mn_feat7.set_params(features=variables_small, iterations=5000, sync=False)\n",
      "mn_feat7.fit(sig_data_train, bck_data_train)"
     ],
     "language": "python",
     "metadata": {},
     "outputs": [
      {
       "metadata": {},
       "output_type": "pyout",
       "prompt_number": 17,
       "text": [
        "<cern_utils.ef_classifier.ClassifierEF at 0x13211890>"
       ]
      }
     ],
     "prompt_number": 17
    },
    {
     "cell_type": "code",
     "collapsed": false,
     "input": [
      "mn_minpt = ef_classifier.ClassifierEF(directory='train_anal/mn_minpt', formula_name='topo_mn_train', \n",
      "                                     dataset_name='topo_mn_train_minpt', url_base='test02cern.vs.os.yandex.net')\n",
      "mn_minpt.set_params(features=variables, iterations=5000, sync=False)\n",
      "mn_minpt.fit(sig_data_train.select('minpt > 500'), bck_data_train.select('minpt > 500'))"
     ],
     "language": "python",
     "metadata": {},
     "outputs": [
      {
       "metadata": {},
       "output_type": "pyout",
       "prompt_number": 19,
       "text": [
        "<cern_utils.ef_classifier.ClassifierEF at 0x5f95150>"
       ]
      }
     ],
     "prompt_number": 19
    },
    {
     "cell_type": "markdown",
     "metadata": {},
     "source": [
      "# Ada Boost training"
     ]
    },
    {
     "cell_type": "code",
     "collapsed": false,
     "input": [
      "from sklearn.ensemble import AdaBoostClassifier\n",
      "from sklearn.tree import DecisionTreeClassifier"
     ],
     "language": "python",
     "metadata": {},
     "outputs": [],
     "prompt_number": 24
    },
    {
     "cell_type": "code",
     "collapsed": false,
     "input": [
      "ada_feat = sklearn_classifier.ClassifierSklearn(base_classifier=AdaBoostClassifier(n_estimators=400, \n",
      "                                                                                   learning_rate=0.01, random_state=13,\n",
      "                              base_estimator=DecisionTreeClassifier(max_depth=6, min_samples_leaf=30, max_features=6,\n",
      "                                                                    random_state=13)),\n",
      "                                                directory='train_anal/ada_feat_all')\n",
      "ada_feat.set_params(features=variables)\n",
      "ada_feat.fit(sig_data_train, bck_data_train)\n",
      "\n",
      "ada_feat7 = sklearn_classifier.ClassifierSklearn(base_classifier=AdaBoostClassifier(n_estimators=400, \n",
      "                                                                                   learning_rate=0.01, random_state=13,\n",
      "                              base_estimator=DecisionTreeClassifier(max_depth=6, min_samples_leaf=30, max_features=6,\n",
      "                                                                    random_state=13)),\n",
      "                                                  directory='train_anal/ada_feat_7')\n",
      "ada_feat7.set_params(features=variables_small)\n",
      "ada_feat7.fit(sig_data_train, bck_data_train)\n",
      "\n",
      "ada_minpt = sklearn_classifier.ClassifierSklearn(base_classifier=AdaBoostClassifier(n_estimators=400, \n",
      "                                                                                   learning_rate=0.01, random_state=13,\n",
      "                              base_estimator=DecisionTreeClassifier(max_depth=6, min_samples_leaf=30, max_features=6,\n",
      "                                                                    random_state=13)),\n",
      "                                                  directory='train_anal/ada_minpt')\n",
      "ada_minpt.set_params(features=variables)\n",
      "ada_minpt.fit(sig_data_train.select('minpt > 500'), bck_data_train.select('minpt > 500'))"
     ],
     "language": "python",
     "metadata": {},
     "outputs": []
    },
    {
     "cell_type": "code",
     "collapsed": false,
     "input": [
      "test_all = sig_data_test.union([sig_data_test, bck_data_test])\n",
      "eff_to_plot = metric_generate(test_all.get_data(), metric_plot=True)\n",
      "signal_labels = [1] * len(sig_data_test) + [0] * len(bck_data_test)"
     ],
     "language": "python",
     "metadata": {},
     "outputs": [
      {
       "output_type": "stream",
       "stream": "stdout",
       "text": [
        "182\n"
       ]
      }
     ],
     "prompt_number": 29
    },
    {
     "cell_type": "code",
     "collapsed": false,
     "input": [
      "test_all_mod = test_all.get_data()\n",
      "presel = numpy.array(test_all_mod['presel'])\n",
      "presel[numpy.array(test_all_mod['minpt']) <= 500] = 0\n",
      "test_all_mod['presel'] = presel\n",
      "eff_to_plot_mod = metric_generate(test_all_mod, metric_plot=True)"
     ],
     "language": "python",
     "metadata": {},
     "outputs": [
      {
       "output_type": "stream",
       "stream": "stdout",
       "text": [
        "182\n"
       ]
      }
     ],
     "prompt_number": 42
    },
    {
     "cell_type": "code",
     "collapsed": false,
     "input": [
      "mn_probs = {}\n",
      "mn_probs['all features'] = mn_feat.predict(test_all)\n",
      "mn_probs['7 features'] = mn_feat7.predict(test_all)\n",
      "mn_probs['minpt > 500 for train'] = mn_minpt.predict(test_all)"
     ],
     "language": "python",
     "metadata": {},
     "outputs": [],
     "prompt_number": 31
    },
    {
     "cell_type": "code",
     "collapsed": false,
     "input": [
      "ada_probs = {}\n",
      "ada_probs['all features'] = ada_feat.predict(test_all)\n",
      "ada_probs['7 features'] = ada_feat7.predict(test_all)\n",
      "ada_probs['minpt > 500 for train'] = ada_minpt.predict(test_all)"
     ],
     "language": "python",
     "metadata": {},
     "outputs": [],
     "prompt_number": 32
    },
    {
     "cell_type": "markdown",
     "metadata": {},
     "source": [
      "# Compare channels"
     ]
    },
    {
     "cell_type": "code",
     "collapsed": false,
     "input": [
      "to_plot_res = {}\n",
      "num = 0\n",
      "color = ['b', 'g', 'cyan', 'pink', 'orange', 'black', 'yellow', 'brown']\n",
      "for key, prob_mn in mn_probs.iteritems():\n",
      "    to_plot_res[key] = {'data': eff_to_plot(signal_labels, prob_mn), \n",
      "                                  'color': color[num], 'move': 3 + num, 'alpha': 1,\n",
      "                                  'p_label': 'p_empty', 'total': 'total_empty'}\n",
      "    num += 1"
     ],
     "language": "python",
     "metadata": {},
     "outputs": [
      {
       "output_type": "stream",
       "stream": "stdout",
       "text": [
        "182\n",
        "0.977143238508\n",
        "182\n",
        "182"
       ]
      },
      {
       "output_type": "stream",
       "stream": "stdout",
       "text": [
        "\n",
        "0.976113801962\n",
        "182\n",
        "182"
       ]
      },
      {
       "output_type": "stream",
       "stream": "stdout",
       "text": [
        "\n",
        "0.977225631756\n",
        "182\n",
        "182"
       ]
      },
      {
       "output_type": "stream",
       "stream": "stdout",
       "text": [
        "\n",
        "0.0\n",
        "0\n"
       ]
      }
     ],
     "prompt_number": 36
    },
    {
     "cell_type": "code",
     "collapsed": false,
     "input": [
      "to_plot_res['BDT']['move'] = 8"
     ],
     "language": "python",
     "metadata": {},
     "outputs": [],
     "prompt_number": 45
    },
    {
     "cell_type": "code",
     "collapsed": false,
     "input": [
      "to_plot_res['minpt > 500 for train (cut on test minpt > 500)'] = {'data': eff_to_plot_mod(signal_labels, \n",
      "                                                                                       mn_probs['minpt > 500 for train']), \n",
      "                                  'color': color[4], 'move': 3 + 3, 'alpha': 1,\n",
      "                                  'p_label': 'p_empty', 'total': 'total_empty'}\n",
      "to_plot_res['all features (cut on test minpt > 500)'] = {'data': eff_to_plot_mod(signal_labels, \n",
      "                                                                                       mn_probs['all features']), \n",
      "                                  'color': color[5], 'move': 3 + 4, 'alpha': 1,\n",
      "                                  'p_label': 'p_empty', 'total': 'total_empty'}\n",
      "to_plot_res['BDT'] = {'data': eff_to_plot(signal_labels, numpy.zeros(len(signal_labels))), 'color': 'r', 'move': 3 + 5,\n",
      "                      'p_label': 'bdt_passed', 'total': 'total_empty'}"
     ],
     "language": "python",
     "metadata": {},
     "outputs": [
      {
       "output_type": "stream",
       "stream": "stdout",
       "text": [
        "182\n",
        "0.974525007783\n",
        "182\n",
        "182"
       ]
      },
      {
       "output_type": "stream",
       "stream": "stdout",
       "text": [
        "\n",
        "0.974931501703\n",
        "182\n",
        "182"
       ]
      },
      {
       "output_type": "stream",
       "stream": "stdout",
       "text": [
        "\n",
        "0.0\n",
        "0\n"
       ]
      }
     ],
     "prompt_number": 47
    },
    {
     "cell_type": "code",
     "collapsed": false,
     "input": [
      "plt.subplots(figsize=(13,7))\n",
      "plot_eff(to_plot_res)\n",
      "plt.xlabel('Modes')\n",
      "plt.ylabel('Inefficiency')\n",
      "plt.title('Classifier Inefficiency for Matrixnet')\n",
      "plt.legend(loc='best')\n",
      "plt.tight_layout()"
     ],
     "language": "python",
     "metadata": {},
     "outputs": [
      {
       "metadata": {},
       "output_type": "display_data",
       "png": "[encoded data removed]",
       "text": [
        "<matplotlib.figure.Figure at 0x202dcc10>"
       ]
      }
     ],
     "prompt_number": 48
    },
    {
     "cell_type": "code",
     "collapsed": false,
     "input": [
      "to_plot_res_ada = {}\n",
      "num = 0\n",
      "color = ['b', 'g', 'cyan', 'pink', 'orange', 'black', 'yellow', 'brown']\n",
      "for key, prob_ada in ada_probs.iteritems():\n",
      "    to_plot_res_ada[key] = {'data': eff_to_plot(signal_labels, prob_ada), \n",
      "                                  'color': color[num], 'move': 3 + num, 'alpha': 1,\n",
      "                                  'p_label': 'p_empty', 'total': 'total_empty'}\n",
      "    num += 1\n",
      "    \n",
      "to_plot_res_ada['BDT'] = to_plot_res['BDT']"
     ],
     "language": "python",
     "metadata": {},
     "outputs": [
      {
       "output_type": "stream",
       "stream": "stdout",
       "text": [
        "182\n",
        "0.709692255271\n",
        "182\n",
        "182"
       ]
      },
      {
       "output_type": "stream",
       "stream": "stdout",
       "text": [
        "\n",
        "0.70778589586\n",
        "182\n",
        "182"
       ]
      },
      {
       "output_type": "stream",
       "stream": "stdout",
       "text": [
        "\n",
        "0.70296480302\n",
        "182\n"
       ]
      }
     ],
     "prompt_number": 39
    },
    {
     "cell_type": "code",
     "collapsed": false,
     "input": [
      "to_plot_res_ada['minpt > 500 for train (cut on test minpt > 500)'] = {'data': eff_to_plot_mod(signal_labels, \n",
      "                                                                                       ada_probs['minpt > 500 for train']), \n",
      "                                  'color': color[4], 'move': 3 + 3, 'alpha': 1,\n",
      "                                  'p_label': 'p_empty', 'total': 'total_empty'}\n",
      "to_plot_res_ada['all features (cut on test minpt > 500)'] = {'data': eff_to_plot_mod(signal_labels, \n",
      "                                                                                       ada_probs['all features']), \n",
      "                                  'color': color[5], 'move': 3 + 4, 'alpha': 1,\n",
      "                                  'p_label': 'p_empty', 'total': 'total_empty'}\n",
      "to_plot_res_ada['BDT'] = to_plot_res['BDT']"
     ],
     "language": "python",
     "metadata": {},
     "outputs": [
      {
       "output_type": "stream",
       "stream": "stdout",
       "text": [
        "182\n",
        "0.70159267281\n",
        "182\n",
        "182"
       ]
      },
      {
       "output_type": "stream",
       "stream": "stdout",
       "text": [
        "\n",
        "0.697039566128\n",
        "182\n"
       ]
      }
     ],
     "prompt_number": 49
    },
    {
     "cell_type": "code",
     "collapsed": false,
     "input": [
      "plt.subplots(figsize=(13,7))\n",
      "plot_eff(to_plot_res_ada)\n",
      "plt.xlabel('Modes')\n",
      "plt.ylabel('Inefficiency')\n",
      "plt.title('Classifier Inefficiency for AdaBoost')\n",
      "plt.legend(loc='best')\n",
      "plt.tight_layout()"
     ],
     "language": "python",
     "metadata": {},
     "outputs": [
      {
       "metadata": {},
       "output_type": "display_data",
       "png": "[encoded data removed]",
       "text": [
        "<matplotlib.figure.Figure at 0xeb30ed0>"
       ]
      }
     ],
     "prompt_number": 50
    },
    {
     "cell_type": "code",
     "collapsed": false,
     "input": [
      "import cPickle\n",
      "with open('train_anal/ada_compare', 'w') as file:\n",
      "    cPickle.dump(to_plot_res_ada, file)"
     ],
     "language": "python",
     "metadata": {},
     "outputs": [],
     "prompt_number": 58
    },
    {
     "cell_type": "code",
     "collapsed": false,
     "input": [
      "import cPickle\n",
      "with open('train_anal/mn_compare', 'w') as file:\n",
      "    cPickle.dump(to_plot_res, file)"
     ],
     "language": "python",
     "metadata": {},
     "outputs": [],
     "prompt_number": 59
    },
    {
     "cell_type": "markdown",
     "metadata": {},
     "source": [
      "# Compare TMVA Ada and Sklearn Ada\n",
      "\n",
      "If take Ada TMVA with the same learining rate as in Sklearn (0.01) then we can't find threshold, which gives us 2,5 rate on bck. Threshold was equal 1., so inefficincy = 1. That is why I put learning rate 0.04, so this works better, but Ada in Sklearn is better.\n",
      "\n",
      "__In fact maybe I did't do complete mapping of sklearn parameters to tmva. Please, check it if you can!__"
     ]
    },
    {
     "cell_type": "markdown",
     "metadata": {},
     "source": [
      "## TMVA - \n",
      "\n",
      "`\"!H:!V:NTrees=400:BoostType=AdaBoost:MaxDepth=6:AdaBoostBeta=0.04:nCuts=20:NEventsMin=30\"`"
     ]
    },
    {
     "cell_type": "markdown",
     "metadata": {},
     "source": [
      "## Sklearn - \n",
      "\n",
      "`n_estimators=400, learning_rate=0.01, random_state=13, base_estimator=DecisionTreeClassifier(max_depth=6, min_samples_leaf=30, max_features=6, random_state=13)`"
     ]
    },
    {
     "cell_type": "code",
     "collapsed": false,
     "input": [
      "from cern_utils import tmva_classifier"
     ],
     "language": "python",
     "metadata": {},
     "outputs": [],
     "prompt_number": 53
    },
    {
     "cell_type": "code",
     "collapsed": false,
     "input": [
      "tmva = tmva_classifier.ClassifierTMVA('train_anal/tmva_ada')\n",
      "tmva.set_params(tmva_method = ('ADA', \n",
      "                                \"!H:!V:NTrees=400:BoostType=AdaBoost:MaxDepth=6:AdaBoostBeta=0.01:nCuts=20:NEventsMin=30\", \n",
      "                                'kBDT'),\n",
      "                features=variables)"
     ],
     "language": "python",
     "metadata": {},
     "outputs": []
    },
    {
     "cell_type": "code",
     "collapsed": false,
     "input": [
      "tmva.fit(sig_data_train, bck_data_train)"
     ],
     "language": "python",
     "metadata": {},
     "outputs": []
    },
    {
     "cell_type": "code",
     "collapsed": false,
     "input": [
      "tmva2 = tmva_classifier.ClassifierTMVA('train_anal/tmva_ada2')\n",
      "tmva2.set_params(tmva_method = ('ADA', \n",
      "                                \"!H:!V:NTrees=400:BoostType=AdaBoost:MaxDepth=6:AdaBoostBeta=0.04:nCuts=20:NEventsMin=30\", \n",
      "                                'kBDT'),\n",
      "                features=variables)"
     ],
     "language": "python",
     "metadata": {},
     "outputs": [],
     "prompt_number": 95
    },
    {
     "cell_type": "code",
     "collapsed": false,
     "input": [
      "tmva2.fit(sig_data_train, bck_data_train)"
     ],
     "language": "python",
     "metadata": {},
     "outputs": [
      {
       "metadata": {},
       "output_type": "pyout",
       "prompt_number": 96,
       "text": [
        "<cern_utils.tmva_classifier.ClassifierTMVA at 0x7f78ff626b10>"
       ]
      }
     ],
     "prompt_number": 96
    },
    {
     "cell_type": "code",
     "collapsed": false,
     "input": [
      "tmva_prob = tmva.predict(test_all)"
     ],
     "language": "python",
     "metadata": {},
     "outputs": [],
     "prompt_number": 64
    },
    {
     "cell_type": "code",
     "collapsed": false,
     "input": [
      "tmva_prob2 = tmva2.predict(test_all)"
     ],
     "language": "python",
     "metadata": {},
     "outputs": [],
     "prompt_number": 97
    },
    {
     "cell_type": "code",
     "collapsed": false,
     "input": [
      "compare_ada_tmva = {}\n",
      "compare_ada_tmva['ada sklearn'] = to_plot_res_ada['all features']\n",
      "compare_ada_tmva['ada tmva'] = {'data': eff_to_plot(signal_labels, tmva_prob2), \n",
      "                                  'color': color[0], 'move': 3 + 3, 'alpha': 1,\n",
      "                                  'p_label': 'p_empty', 'total': 'total_empty'}"
     ],
     "language": "python",
     "metadata": {},
     "outputs": [
      {
       "output_type": "stream",
       "stream": "stdout",
       "text": [
        "182\n",
        "0.992777059892\n",
        "182\n"
       ]
      }
     ],
     "prompt_number": 98
    },
    {
     "cell_type": "code",
     "collapsed": false,
     "input": [
      "plt.subplots(figsize=(13,7))\n",
      "plot_eff(compare_ada_tmva)\n",
      "plt.xlabel('Modes')\n",
      "plt.ylabel('Inefficiency')\n",
      "plt.title('Classifier Inefficiency for AdaBoost')\n",
      "plt.legend(loc='best')\n",
      "plt.tight_layout()"
     ],
     "language": "python",
     "metadata": {},
     "outputs": [
      {
       "metadata": {},
       "output_type": "display_data",
       "png": "[encoded data removed]",
       "text": [
        "<matplotlib.figure.Figure at 0x1320a090>"
       ]
      }
     ],
     "prompt_number": 99
    }
   ],
   "metadata": {}
  }
 ]
}