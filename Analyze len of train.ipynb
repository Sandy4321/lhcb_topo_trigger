{
 "metadata": {
  "name": "",
  "signature": "sha256:40259d6c9d859090308ce4b70a2cf166d36da1e10fdc4ea51ce9627999cc617e"
 },
 "nbformat": 3,
 "nbformat_minor": 0,
 "worksheets": [
  {
   "cells": [
    {
     "cell_type": "markdown",
     "metadata": {},
     "source": [
      "# About\n",
      "\n",
      "Compare different train size 0.08, 0.1, 0.13, 0.16, 0.2, 0.3, 0.4, 0.5\n",
      "\n",
      "svr signal / svr bck\n",
      "1) 235446 / 201421 (0.08 size from all tuples)\n",
      "\n",
      "\n",
      "2) 297085 / 201421 (0.1)\n",
      "\n",
      "\n",
      "3) 386588 / 201421 (0.13)\n",
      "\n",
      "\n",
      "4) 547786 / 201421 (0.16)\n",
      "\n",
      "\n",
      "5) 667524 / 201421 (0.2)\n",
      "\n",
      "\n",
      "6) 1445821 / 201421 (0.3)\n",
      "\n",
      "\n",
      "7) 1834195 / 201421 (0.4)\n",
      "\n",
      "\n",
      "8) 2231811 / 201421 (0.5)"
     ]
    },
    {
     "cell_type": "code",
     "collapsed": false,
     "input": [
      "channels_all = [\"mod_11114001.csv\", \"mod_11124001.csv\", \n",
      "                \"mod_11296013.csv\", \"mod_11874042.csv\", \n",
      "                \"mod_12103035.csv\", \"mod_12165106.csv\", \n",
      "                \"mod_12265042.csv\", \"mod_30000000.csv\"]\n",
      "folder = \"Topo/csv_data/\""
     ],
     "language": "python",
     "metadata": {},
     "outputs": [],
     "prompt_number": 1
    },
    {
     "cell_type": "code",
     "collapsed": false,
     "input": [
      "import io\n",
      "from IPython.nbformat import current\n",
      "\n",
      "def execute_notebook(nbfile):\n",
      "    \n",
      "    with io.open(nbfile) as f:\n",
      "        nb = current.read(f, 'json')\n",
      "    \n",
      "    ip = get_ipython()\n",
      "    \n",
      "    for cell in nb.worksheets[0].cells:\n",
      "        if cell.cell_type != 'code':\n",
      "            continue\n",
      "        ip.run_cell(cell.input)\n",
      "\n",
      "        \n",
      "import sys\n",
      "sys.path.insert(0, '/local/userdata/shelf/notebook/antares/work/REP')\n",
      "import cern_utils\n",
      "from cern_utils import converter_csv\n",
      "\n",
      "execute_notebook('metric_generate.ipynb')"
     ],
     "language": "python",
     "metadata": {},
     "outputs": [],
     "prompt_number": 2
    },
    {
     "cell_type": "code",
     "collapsed": false,
     "input": [
      "# head = True\n",
      "# for channel in channels_all[:-1]:\n",
      "#     t = pandas.read_csv(folder + channel, sep='\\t')\n",
      "#     t.to_csv(folder + 'signal.csv', header=head, index=False, sep='\\t', mode='a')\n",
      "#     head = False"
     ],
     "language": "python",
     "metadata": {},
     "outputs": [],
     "prompt_number": 8
    },
    {
     "cell_type": "markdown",
     "metadata": {},
     "source": [
      "# Variables"
     ]
    },
    {
     "cell_type": "code",
     "collapsed": false,
     "input": [
      "variables = [\"sumpt\",\n",
      "             \"m\",\n",
      "             \"mcor\",\n",
      "             \"ipchi2\",\n",
      "             \"vchi2\",\n",
      "             \"sumipchi2\",\n",
      "             \"fdr\",\n",
      "             \"nlt16\",\n",
      "             \"minpt\",\n",
      "             \"ptau\",\n",
      "             \"q\",\n",
      "             \"eta\",\n",
      "             \"nhlt1\",\n",
      "             \"nmu\",\n",
      "             \"n\",\n",
      "             \"fdchi2\"]"
     ],
     "language": "python",
     "metadata": {},
     "outputs": [],
     "prompt_number": 3
    },
    {
     "cell_type": "code",
     "collapsed": false,
     "input": [
      "sig_data = converter_csv.load_from_csv(folder + 'signal.csv', sep='\\t')\n",
      "bck_data = converter_csv.load_from_csv(folder + channels_all[-1], sep='\\t')"
     ],
     "language": "python",
     "metadata": {},
     "outputs": [],
     "prompt_number": 5
    },
    {
     "cell_type": "code",
     "collapsed": false,
     "input": [
      "def get_channel_labels(ds):\n",
      "    channel_label = []\n",
      "\n",
      "    for element in ds['# event_id']:\n",
      "        channel_label.append(int(element.split('_')[0]))\n",
      "    return channel_label"
     ],
     "language": "python",
     "metadata": {},
     "outputs": [],
     "prompt_number": 8
    },
    {
     "cell_type": "code",
     "collapsed": false,
     "input": [
      "from sklearn.preprocessing import LabelEncoder\n",
      "from sklearn import preprocessing\n",
      "le = preprocessing.LabelEncoder()\n",
      "le.fit(map(lambda x: int(x[4:-4]), channels_all))\n",
      "sig_data = sig_data.add_columns({'channel': le.transform(get_channel_labels(sig_data)), \n",
      "                                 'channel_label': get_channel_labels(sig_data)})\n",
      "bck_data = bck_data.add_columns({'channel': le.transform(get_channel_labels(bck_data)),\n",
      "                                 'channel_label': get_channel_labels(bck_data)})"
     ],
     "language": "python",
     "metadata": {},
     "outputs": [],
     "prompt_number": 9
    },
    {
     "cell_type": "code",
     "collapsed": false,
     "input": [
      "bck_data_train, bck_data_test = bck_data.get_train_test(train_size=0.5, \n",
      "                                                        test_size=0.5, group_columns='# event_id')\n",
      "bck_data_train = bck_data_train.select('presel==1')"
     ],
     "language": "python",
     "metadata": {},
     "outputs": [],
     "prompt_number": 10
    },
    {
     "cell_type": "code",
     "collapsed": false,
     "input": [
      "len(sig_data), len(bck_data)"
     ],
     "language": "python",
     "metadata": {},
     "outputs": [
      {
       "metadata": {},
       "output_type": "pyout",
       "prompt_number": 11,
       "text": [
        "(11011932, 1562996)"
       ]
      }
     ],
     "prompt_number": 11
    },
    {
     "cell_type": "code",
     "collapsed": false,
     "input": [
      "_, sig_data_test = sig_data.get_train_test(test_size=0.5, group_columns='# event_id')"
     ],
     "language": "python",
     "metadata": {},
     "outputs": [],
     "prompt_number": 13
    },
    {
     "cell_type": "markdown",
     "metadata": {},
     "source": [
      "# Training of Matrixet "
     ]
    },
    {
     "cell_type": "code",
     "collapsed": false,
     "input": [
      "import sklearn\n",
      "from cern_utils import sklearn_classifier, ef_classifier"
     ],
     "language": "python",
     "metadata": {},
     "outputs": [],
     "prompt_number": 14
    },
    {
     "cell_type": "code",
     "collapsed": false,
     "input": [
      "mns = []\n",
      "for num, size in enumerate([0.08, 0.1, 0.13, 0.16, 0.2, 0.3, 0.4, 0.5]):\n",
      "    sig_data_train, _ = sig_data.get_train_test(train_size=size, \n",
      "                                                            test_size=0.5, group_columns='# event_id')\n",
      "    sig_data_train = sig_data_train.select('presel==1')\n",
      "    \n",
      "    print len(sig_data_train), len(bck_data_train)\n",
      "    \n",
      "    mns.append(ef_classifier.ClassifierEF(directory='train_anal/mn_new_%d' % num, formula_name='topo_mn_train_new', \n",
      "                                         dataset_name='topo_mn_train_new_%d' %num, url_base='test02cern.vs.os.yandex.net'))\n",
      "    mns[-1].set_params(features=variables, iterations=5000, sync=False)\n",
      "    mns[-1].fit(sig_data_train, bck_data_train)"
     ],
     "language": "python",
     "metadata": {},
     "outputs": [
      {
       "output_type": "stream",
       "stream": "stdout",
       "text": [
        "235446 "
       ]
      },
      {
       "output_type": "stream",
       "stream": "stdout",
       "text": [
        "201421\n",
        "297085"
       ]
      },
      {
       "output_type": "stream",
       "stream": "stdout",
       "text": [
        " 201421\n",
        "386588"
       ]
      },
      {
       "output_type": "stream",
       "stream": "stdout",
       "text": [
        " 201421\n",
        "547786"
       ]
      },
      {
       "output_type": "stream",
       "stream": "stdout",
       "text": [
        " 201421\n",
        "667524"
       ]
      },
      {
       "output_type": "stream",
       "stream": "stdout",
       "text": [
        " 201421\n",
        "1445821"
       ]
      },
      {
       "output_type": "stream",
       "stream": "stdout",
       "text": [
        " 201421\n",
        "1834195"
       ]
      },
      {
       "output_type": "stream",
       "stream": "stdout",
       "text": [
        " 201421\n",
        "2231811"
       ]
      },
      {
       "output_type": "stream",
       "stream": "stdout",
       "text": [
        " 201421\n"
       ]
      }
     ],
     "prompt_number": 15
    },
    {
     "cell_type": "markdown",
     "metadata": {},
     "source": [
      "# Training of Ada"
     ]
    },
    {
     "cell_type": "code",
     "collapsed": false,
     "input": [
      "from sklearn.ensemble import AdaBoostClassifier\n",
      "from sklearn.tree import DecisionTreeClassifier"
     ],
     "language": "python",
     "metadata": {},
     "outputs": []
    },
    {
     "cell_type": "code",
     "collapsed": false,
     "input": [
      "adas = []\n",
      "signal_size = {}\n",
      "for num, size in enumerate([0.08, 0.1, 0.13, 0.16, 0.2, 0.3, 0.4]):\n",
      "    sig_data_train, _ = sig_data.get_train_test(train_size=size, \n",
      "                                                            test_size=0.5, group_columns='# event_id')\n",
      "    sig_data_train = sig_data_train.select('presel==1')\n",
      "\n",
      "    print len(sig_data_train), len(bck_data_train)    \n",
      "    signal_size[size] = len(sig_data_train)\n",
      "    \n",
      "    ada_base = AdaBoostClassifier(n_estimators=400, learning_rate=0.01, random_state=13,\n",
      "                                  base_estimator=DecisionTreeClassifier(max_depth=6, min_samples_leaf=30, max_features=6,\n",
      "                                                                        random_state=13))\n",
      "    adas.append(sklearn_classifier.ClassifierSklearn(base_classifier=ada_base, directory='train_anal/ada_new_%d' % num))\n",
      "    adas[-1].set_params(features=variables)\n",
      "    adas[-1].fit(sig_data_train, bck_data_train)"
     ],
     "language": "python",
     "metadata": {},
     "outputs": [
      {
       "output_type": "stream",
       "stream": "stdout",
       "text": [
        "235446 201421\n",
        "297085"
       ]
      }
     ]
    },
    {
     "cell_type": "code",
     "collapsed": false,
     "input": [
      "signal_labels = [1] * len(sig_data_test) + [0] * len(bck_data_test)"
     ],
     "language": "python",
     "metadata": {},
     "outputs": [],
     "prompt_number": 23
    },
    {
     "cell_type": "code",
     "collapsed": false,
     "input": [
      "test_all = sig_data_test.union([sig_data_test, bck_data_test])\n",
      "eff_to_plot = metric_generate(test_all.get_data(), metric_plot=True)"
     ],
     "language": "python",
     "metadata": {},
     "outputs": [
      {
       "output_type": "stream",
       "stream": "stdout",
       "text": [
        "182\n"
       ]
      }
     ],
     "prompt_number": 24
    },
    {
     "cell_type": "code",
     "collapsed": false,
     "input": [
      "mns_prob = []\n",
      "for num, mn in enumerate(mns):\n",
      "    mns_prob.append(mn.predict(test_all))\n",
      "    print num"
     ],
     "language": "python",
     "metadata": {},
     "outputs": [
      {
       "output_type": "stream",
       "stream": "stdout",
       "text": [
        "0\n",
        "1"
       ]
      },
      {
       "output_type": "stream",
       "stream": "stdout",
       "text": [
        "\n",
        "2"
       ]
      },
      {
       "output_type": "stream",
       "stream": "stdout",
       "text": [
        "\n",
        "3"
       ]
      },
      {
       "output_type": "stream",
       "stream": "stdout",
       "text": [
        "\n",
        "4"
       ]
      },
      {
       "output_type": "stream",
       "stream": "stdout",
       "text": [
        "\n",
        "5"
       ]
      },
      {
       "output_type": "stream",
       "stream": "stdout",
       "text": [
        "\n",
        "6"
       ]
      },
      {
       "output_type": "stream",
       "stream": "stdout",
       "text": [
        "\n",
        "7"
       ]
      },
      {
       "output_type": "stream",
       "stream": "stdout",
       "text": [
        "\n"
       ]
      }
     ]
    },
    {
     "cell_type": "code",
     "collapsed": false,
     "input": [
      "adas_prob = []\n",
      "for num, ada in enumerate(adas):\n",
      "    adas_prob.append(ada.predict(test_all))\n",
      "    print num"
     ],
     "language": "python",
     "metadata": {},
     "outputs": [
      {
       "output_type": "stream",
       "stream": "stdout",
       "text": [
        "\n",
        "2"
       ]
      },
      {
       "output_type": "stream",
       "stream": "stdout",
       "text": [
        "\n",
        "3"
       ]
      },
      {
       "output_type": "stream",
       "stream": "stdout",
       "text": [
        "\n",
        "4"
       ]
      },
      {
       "output_type": "stream",
       "stream": "stdout",
       "text": [
        "\n",
        "5"
       ]
      },
      {
       "output_type": "stream",
       "stream": "stdout",
       "text": [
        "\n",
        "6"
       ]
      },
      {
       "output_type": "stream",
       "stream": "stdout",
       "text": [
        "\n"
       ]
      }
     ]
    },
    {
     "cell_type": "code",
     "collapsed": false,
     "input": [
      "to_plot_res = {}\n",
      "color = ['b', 'g', 'cyan', 'pink', 'orange', 'black', 'yellow', 'brown']\n",
      "for num, prob_mn in enumerate(mns_prob):\n",
      "    to_plot_res['mn_%d' % num] = {'data': eff_to_plot(signal_labels, prob_mn), \n",
      "                                  'color': color[num], 'move': 3 + num, 'alpha': 1,\n",
      "                                  'p_label': 'p_empty', 'total': 'total_empty'}\n",
      "    \n",
      "to_plot_res['BDT'] = {'data': eff_to_plot(signal_labels, numpy.zeros(len(signal_labels))), 'color': 'r', 'move': 3 + num + 1,\n",
      "                      'p_label': 'bdt_passed', 'total': 'total_empty'}"
     ],
     "language": "python",
     "metadata": {},
     "outputs": [
      {
       "output_type": "stream",
       "stream": "stdout",
       "text": [
        "182\n",
        "0.941347133004\n",
        "182\n",
        "182"
       ]
      },
      {
       "output_type": "stream",
       "stream": "stdout",
       "text": [
        "\n",
        "0.951637003699\n",
        "182\n",
        "182"
       ]
      },
      {
       "output_type": "stream",
       "stream": "stdout",
       "text": [
        "\n",
        "0.963061963978\n",
        "182\n",
        "182"
       ]
      },
      {
       "output_type": "stream",
       "stream": "stdout",
       "text": [
        "\n",
        "0.971630815463\n",
        "182\n",
        "182"
       ]
      },
      {
       "output_type": "stream",
       "stream": "stdout",
       "text": [
        "\n",
        "0.977039314275\n",
        "182\n",
        "182"
       ]
      },
      {
       "output_type": "stream",
       "stream": "stdout",
       "text": [
        "\n",
        "0.988971601971\n",
        "182\n",
        "182"
       ]
      },
      {
       "output_type": "stream",
       "stream": "stdout",
       "text": [
        "\n",
        "0.991376084575\n",
        "182\n",
        "182"
       ]
      },
      {
       "output_type": "stream",
       "stream": "stdout",
       "text": [
        "\n",
        "0.992837444618\n",
        "182\n",
        "182"
       ]
      },
      {
       "output_type": "stream",
       "stream": "stdout",
       "text": [
        "\n",
        "0.0\n",
        "0\n"
       ]
      }
     ],
     "prompt_number": 30
    },
    {
     "cell_type": "code",
     "collapsed": false,
     "input": [
      "to_plot_res['BDT']['move'] = 3"
     ],
     "language": "python",
     "metadata": {},
     "outputs": [],
     "prompt_number": 41
    },
    {
     "cell_type": "code",
     "collapsed": false,
     "input": [
      "to_plot_res_ada = {}\n",
      "color = ['b', 'g', 'cyan', 'pink', 'orange', 'black', 'yellow', 'brown']\n",
      "for num, prob_ada in enumerate(adas_prob):\n",
      "    to_plot_res_ada['ada_%d' % num] = {'data': eff_to_plot(signal_labels, prob_ada),\n",
      "                                      'color': color[num], 'move': 3 + num, 'alpha': 1,\n",
      "                                      'p_label': 'p_empty', 'total': 'total_empty'}\n",
      "    \n",
      "to_plot_res_ada['BDT'] = to_plot_res['BDT']"
     ],
     "language": "python",
     "metadata": {},
     "outputs": [
      {
       "output_type": "stream",
       "stream": "stdout",
       "text": [
        "182\n",
        "0.647658413188\n",
        "182\n",
        "182"
       ]
      },
      {
       "output_type": "stream",
       "stream": "stdout",
       "text": [
        "\n",
        "0.660595026126\n",
        "182\n",
        "182"
       ]
      },
      {
       "output_type": "stream",
       "stream": "stdout",
       "text": [
        "\n",
        "0.674815047967\n",
        "182\n",
        "182"
       ]
      },
      {
       "output_type": "stream",
       "stream": "stdout",
       "text": [
        "\n",
        "0.691316690305\n",
        "182\n",
        "182"
       ]
      },
      {
       "output_type": "stream",
       "stream": "stdout",
       "text": [
        "\n",
        "0.70296480302\n",
        "182\n",
        "182"
       ]
      },
      {
       "output_type": "stream",
       "stream": "stdout",
       "text": [
        "\n",
        "0.738452141806\n",
        "182\n",
        "182"
       ]
      },
      {
       "output_type": "stream",
       "stream": "stdout",
       "text": [
        "\n",
        "0.750954282914\n",
        "182\n"
       ]
      }
     ],
     "prompt_number": 43
    },
    {
     "cell_type": "code",
     "collapsed": false,
     "input": [
      "plt.subplots(figsize=(15,7))\n",
      "plot_eff(to_plot_res)\n",
      "plt.xlabel('Modes')\n",
      "plt.ylabel('Inefficiency')\n",
      "plt.title('Classifier Inefficiency')\n",
      "plt.legend(loc='best')\n",
      "plt.tight_layout()"
     ],
     "language": "python",
     "metadata": {},
     "outputs": [
      {
       "metadata": {},
       "output_type": "display_data",
       "png": "[encoded data removed]",
       "text": [
        "<matplotlib.figure.Figure at 0x2c237cd0>"
       ]
      }
     ],
     "prompt_number": 44
    },
    {
     "cell_type": "code",
     "collapsed": false,
     "input": [
      "plt.subplots(figsize=(15,7))\n",
      "plot_eff(to_plot_res_ada)\n",
      "plt.xlabel('Modes')\n",
      "plt.ylabel('Inefficiency')\n",
      "plt.title('Classifier Inefficiency')\n",
      "plt.legend(loc='best')\n",
      "plt.tight_layout()"
     ],
     "language": "python",
     "metadata": {},
     "outputs": [
      {
       "metadata": {},
       "output_type": "display_data",
       "png": "[encoded data removed]",
       "text": [
        "<matplotlib.figure.Figure at 0x2c237850>"
       ]
      }
     ],
     "prompt_number": 45
    }
   ],
   "metadata": {}
  }
 ]
}