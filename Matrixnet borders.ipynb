{
 "metadata": {
  "name": "",
  "signature": "sha256:5f577d265bdd0211d83796aab69b4d60578eba96b08d429162087b33d413f16a"
 },
 "nbformat": 3,
 "nbformat_minor": 0,
 "worksheets": [
  {
   "cells": [
    {
     "cell_type": "code",
     "collapsed": false,
     "input": [
      "import sys\n",
      "sys.path.insert(0, '/home/mikari/REP/rep_core')\n",
      "#sys.path.insert(0, '/local/userdata/shelf/notebook/axelr/lhcb_trigger_ml/IPythonWorkflow/')\n",
      "sys.path.insert(0, '/home/mikari/topo_code')\n",
      "import rep\n",
      "import topo_utils\n",
      "reload(topo_utils)\n",
      "import pandas\n",
      "\n",
      "\n",
      "train = pandas.read_csv('/local/userdata/shelf/notebook/mikari/topo/learn_data_updated_data/train', sep='\\t')\n",
      "test = pandas.read_csv('/local/userdata/shelf/notebook/mikari/topo/learn_data_updated_data/test', sep='\\t')\n",
      "\n",
      "train,test = topo_utils.append_labels([train, test])\n",
      "train = train[train['is_passed_l0_goodGenB'] == 1]\n",
      "test = test[test['is_passed_l0_goodGenB']==1]\n",
      "train = topo_utils.add_folding_field(train, 1000)\n",
      "test = topo_utils.add_folding_field(test, 1000)\n",
      "train_subset = pandas.concat([train[train['signal']==1][train['fold'] < 1000], train[train['signal']==0]])\n",
      "# test_subset = cern_utils.data_storage.DataStorage.union([test.select('signal==1').select('fold < 300'), test.select('signal==0')])\n"
     ],
     "language": "python",
     "metadata": {},
     "outputs": [
      {
       "output_type": "stream",
       "stream": "stderr",
       "text": [
        "/mnt/w76/venv/py27/local/lib/python2.7/site-packages/pandas/core/frame.py:1712: UserWarning: Boolean Series key will be reindexed to match DataFrame index.\n",
        "  \"DataFrame index.\", UserWarning)\n"
       ]
      }
     ],
     "prompt_number": 1
    },
    {
     "cell_type": "code",
     "collapsed": false,
     "input": [
      "empty_events = {\n",
      "    11114001: 164  ,\n",
      "    11124001: 49  ,\n",
      "    12103035: 421  ,\n",
      "    12165106: 273  ,\n",
      "    12265042: 53  ,\n",
      "    11874042: 129  ,\n",
      "    11296013: 23 ,\n",
      "    30000000: 107352  ,\n",
      "}\n",
      "\n",
      "test_empty_events = {}\n",
      "for key, value in empty_events.iteritems():\n",
      "    if (key == 30000000):\n",
      "        test_empty_events[key] = value * 0.5\n",
      "    else:\n",
      "        test_empty_events[key] = value * 0.5\n",
      "    \n",
      "print test_empty_events"
     ],
     "language": "python",
     "metadata": {},
     "outputs": [
      {
       "output_type": "stream",
       "stream": "stdout",
       "text": [
        "{30000000: 53676.0, 11124001: 24.5, 12265042: 26.5, 11296013: 11.5, 11114001: 82.0, 12165106: 136.5, 11874042: 64.5, 12103035: 210.5}\n"
       ]
      }
     ],
     "prompt_number": 2
    },
    {
     "cell_type": "code",
     "collapsed": false,
     "input": [
      "first_factors = [\"sumpt\",\n",
      "             \"m\",\n",
      "             \"mcor\",\n",
      "             \"ipchi2\",\n",
      "             \"vchi2\",\n",
      "             \"sumipchi2\",\n",
      "             \"fdr\",\n",
      "             \"nlt16\",\n",
      "             \"minpt\",\n",
      "             \"ptau\",\n",
      "             \"q\",\n",
      "             \"eta\",\n",
      "             \"nhlt1\",\n",
      "             \"n\",\n",
      "             \"fdchi2\"]\n",
      "second_factors = [\"sumpt\", \"m\", \"mcor\", \"ipchi2\", \"vchi2\",\n",
      "                  \"sumipchi2\", \"nlt16\", \"minpt\", \"pt\", \"n\", \"nhlt1\", \"fdchi2\", \"eta\"]\n",
      "\n",
      "third_factors = [\n",
      "             \"m\",\n",
      "             \"mcor\",\n",
      "             \"ipchi2\",\n",
      "             \"vchi2\",\n",
      "             \"sumipchi2\",\n",
      "             \"nlt16\",\n",
      "             \"minpt\",\n",
      "             \"ptau\",\n",
      "             \"q\",\n",
      "             \"n\",\n",
      "             \"fdchi2\"]\n",
      "\n",
      "fourth_factors = [\"m\", \"mcor\", \"ipchi2\", \"vchi2\",\n",
      "                  \"sumipchi2\", \"nlt16\", \"minpt\", \"pt\", \"n\", \"fdchi2\", \"eta\"]\n"
     ],
     "language": "python",
     "metadata": {},
     "outputs": [],
     "prompt_number": 62
    },
    {
     "cell_type": "code",
     "collapsed": false,
     "input": [
      "reload(topo_utils)\n",
      "metric = topo_utils.metric_generate(test, 3000.0 / 1e6, test_empty_events, metric_plot=True)\n"
     ],
     "language": "python",
     "metadata": {},
     "outputs": [
      {
       "output_type": "stream",
       "stream": "stdout",
       "text": [
        "219\n"
       ]
      }
     ],
     "prompt_number": 4
    },
    {
     "cell_type": "code",
     "collapsed": false,
     "input": [
      "import pandas"
     ],
     "language": "python",
     "metadata": {},
     "outputs": [],
     "prompt_number": 5
    },
    {
     "cell_type": "code",
     "collapsed": false,
     "input": [
      "train_sgn = train_subset[train_subset['truematch'] == 1][train_subset[\"presel\"] == 1][train_subset['signal']==1]\n",
      "train_bkg = train_subset[train_subset[\"presel\"] == 1][train_subset['signal']==0]\n",
      "train_labels = numpy.array([1] * len(train_sgn) + [0] * len(train_bkg))\n",
      "train_data =  pandas.concat([train_sgn, train_bkg])"
     ],
     "language": "python",
     "metadata": {},
     "outputs": [],
     "prompt_number": 6
    },
    {
     "cell_type": "code",
     "collapsed": false,
     "input": [
      "from rep.classifiers import EventFilterClassifier\n",
      "base_name = \"mikari-topo-29_12_2014_4:37\"\n",
      "all_intervals = [4, 6, 8, 16, 32, 64]\n",
      "some_intervals = [4, 6]\n",
      "iterations=5000"
     ],
     "language": "python",
     "metadata": {},
     "outputs": [],
     "prompt_number": 60
    },
    {
     "cell_type": "code",
     "collapsed": false,
     "input": [
      "mn_first = {}\n",
      "for inter in all_intervals:\n",
      "    mn_first[inter] = EventFilterClassifier(formula_name=base_name + \"-\" + str(inter) + \"-first-features\", \n",
      "                                         dataset_name=base_name + \"-\" + str(inter) + \"-first-features\", url_base='w80.h.cern.yandex.net/')\n",
      "    mn_first[inter].set_params(\n",
      "        intervals=inter,\n",
      "        features=first_factors,\n",
      "        iterations=iterations,\n",
      "        features_sample_rate_per_iteration=0.8,\n",
      "        training_fraction=0.5,\n",
      "        regularization=0.05,\n",
      "        sync=False)\n",
      "    mn_first[inter].fit(train_data, train_labels)"
     ],
     "language": "python",
     "metadata": {},
     "outputs": [
      {
       "output_type": "stream",
       "stream": "stdout",
       "text": [
        "Index([u'event_id', u'svr', u'signal', u'presel', u'truematch', u'sumpt', u'm', u'mcor', u'ipchi2', u'vchi2', u'sumipchi2', u'fdr', u'nlt16', u'minpt', u'ptau', u'q', u'eta', u'pt', u'nhlt1', u'nmu', u'n', u'bdt', u'fdchi2', u'NUMBER', u'btau', u'is_passed_l0_goodGenB', u'channel', u'channel_label', u'fold'], dtype='object') ['sumpt', 'm', 'mcor', 'ipchi2', 'vchi2', 'sumipchi2', 'fdr', 'nlt16', 'minpt', 'ptau', 'q', 'eta', 'nhlt1', 'n', 'fdchi2']\n",
        "Index([u'event_id', u'svr', u'signal', u'presel', u'truematch', u'sumpt', u'm', u'mcor', u'ipchi2', u'vchi2', u'sumipchi2', u'fdr', u'nlt16', u'minpt', u'ptau', u'q', u'eta', u'pt', u'nhlt1', u'nmu', u'n', u'bdt', u'fdchi2', u'NUMBER', u'btau', u'is_passed_l0_goodGenB', u'channel', u'channel_label', u'fold'], dtype='object')"
       ]
      },
      {
       "output_type": "stream",
       "stream": "stdout",
       "text": [
        " ['sumpt', 'm', 'mcor', 'ipchi2', 'vchi2', 'sumipchi2', 'fdr', 'nlt16', 'minpt', 'ptau', 'q', 'eta', 'nhlt1', 'n', 'fdchi2']\n",
        "Index([u'event_id', u'svr', u'signal', u'presel', u'truematch', u'sumpt', u'm', u'mcor', u'ipchi2', u'vchi2', u'sumipchi2', u'fdr', u'nlt16', u'minpt', u'ptau', u'q', u'eta', u'pt', u'nhlt1', u'nmu', u'n', u'bdt', u'fdchi2', u'NUMBER', u'btau', u'is_passed_l0_goodGenB', u'channel', u'channel_label', u'fold'], dtype='object')"
       ]
      },
      {
       "output_type": "stream",
       "stream": "stdout",
       "text": [
        " ['sumpt', 'm', 'mcor', 'ipchi2', 'vchi2', 'sumipchi2', 'fdr', 'nlt16', 'minpt', 'ptau', 'q', 'eta', 'nhlt1', 'n', 'fdchi2']\n",
        "Index([u'event_id', u'svr', u'signal', u'presel', u'truematch', u'sumpt', u'm', u'mcor', u'ipchi2', u'vchi2', u'sumipchi2', u'fdr', u'nlt16', u'minpt', u'ptau', u'q', u'eta', u'pt', u'nhlt1', u'nmu', u'n', u'bdt', u'fdchi2', u'NUMBER', u'btau', u'is_passed_l0_goodGenB', u'channel', u'channel_label', u'fold'], dtype='object')"
       ]
      },
      {
       "output_type": "stream",
       "stream": "stdout",
       "text": [
        " ['sumpt', 'm', 'mcor', 'ipchi2', 'vchi2', 'sumipchi2', 'fdr', 'nlt16', 'minpt', 'ptau', 'q', 'eta', 'nhlt1', 'n', 'fdchi2']\n",
        "Index([u'event_id', u'svr', u'signal', u'presel', u'truematch', u'sumpt', u'm', u'mcor', u'ipchi2', u'vchi2', u'sumipchi2', u'fdr', u'nlt16', u'minpt', u'ptau', u'q', u'eta', u'pt', u'nhlt1', u'nmu', u'n', u'bdt', u'fdchi2', u'NUMBER', u'btau', u'is_passed_l0_goodGenB', u'channel', u'channel_label', u'fold'], dtype='object')"
       ]
      },
      {
       "output_type": "stream",
       "stream": "stdout",
       "text": [
        " ['sumpt', 'm', 'mcor', 'ipchi2', 'vchi2', 'sumipchi2', 'fdr', 'nlt16', 'minpt', 'ptau', 'q', 'eta', 'nhlt1', 'n', 'fdchi2']\n",
        "Index([u'event_id', u'svr', u'signal', u'presel', u'truematch', u'sumpt', u'm', u'mcor', u'ipchi2', u'vchi2', u'sumipchi2', u'fdr', u'nlt16', u'minpt', u'ptau', u'q', u'eta', u'pt', u'nhlt1', u'nmu', u'n', u'bdt', u'fdchi2', u'NUMBER', u'btau', u'is_passed_l0_goodGenB', u'channel', u'channel_label', u'fold'], dtype='object')"
       ]
      },
      {
       "output_type": "stream",
       "stream": "stdout",
       "text": [
        " ['sumpt', 'm', 'mcor', 'ipchi2', 'vchi2', 'sumipchi2', 'fdr', 'nlt16', 'minpt', 'ptau', 'q', 'eta', 'nhlt1', 'n', 'fdchi2']\n"
       ]
      }
     ],
     "prompt_number": 8
    },
    {
     "cell_type": "code",
     "collapsed": false,
     "input": [
      "mn_second = {}\n",
      "for inter in all_intervals:\n",
      "    mn_second[inter] = EventFilterClassifier(formula_name=base_name + \"-\" + str(inter) + \"-second-features\", \n",
      "                                         dataset_name=base_name + \"-\" + str(inter) + \"-second-features\", url_base='w80.h.cern.yandex.net')\n",
      "    mn_second[inter].set_params(\n",
      "        intervals=inter,\n",
      "        features=second_factors,\n",
      "        iterations=iterations,\n",
      "        features_sample_rate_per_iteration=0.8,\n",
      "        training_fraction=0.5,\n",
      "        regularization=0.05,\n",
      "        sync=False)\n",
      "    mn_second[inter].fit(train_data, train_labels)"
     ],
     "language": "python",
     "metadata": {},
     "outputs": [
      {
       "output_type": "stream",
       "stream": "stdout",
       "text": [
        "Index([u'event_id', u'svr', u'signal', u'presel', u'truematch', u'sumpt', u'm', u'mcor', u'ipchi2', u'vchi2', u'sumipchi2', u'fdr', u'nlt16', u'minpt', u'ptau', u'q', u'eta', u'pt', u'nhlt1', u'nmu', u'n', u'bdt', u'fdchi2', u'NUMBER', u'btau', u'is_passed_l0_goodGenB', u'channel', u'channel_label', u'fold'], dtype='object') ['sumpt', 'm', 'mcor', 'ipchi2', 'vchi2', 'sumipchi2', 'nlt16', 'minpt', 'pt', 'n', 'nhlt1', 'fdchi2', 'eta']\n",
        "Index([u'event_id', u'svr', u'signal', u'presel', u'truematch', u'sumpt', u'm', u'mcor', u'ipchi2', u'vchi2', u'sumipchi2', u'fdr', u'nlt16', u'minpt', u'ptau', u'q', u'eta', u'pt', u'nhlt1', u'nmu', u'n', u'bdt', u'fdchi2', u'NUMBER', u'btau', u'is_passed_l0_goodGenB', u'channel', u'channel_label', u'fold'], dtype='object')"
       ]
      },
      {
       "output_type": "stream",
       "stream": "stdout",
       "text": [
        " ['sumpt', 'm', 'mcor', 'ipchi2', 'vchi2', 'sumipchi2', 'nlt16', 'minpt', 'pt', 'n', 'nhlt1', 'fdchi2', 'eta']\n",
        "Index([u'event_id', u'svr', u'signal', u'presel', u'truematch', u'sumpt', u'm', u'mcor', u'ipchi2', u'vchi2', u'sumipchi2', u'fdr', u'nlt16', u'minpt', u'ptau', u'q', u'eta', u'pt', u'nhlt1', u'nmu', u'n', u'bdt', u'fdchi2', u'NUMBER', u'btau', u'is_passed_l0_goodGenB', u'channel', u'channel_label', u'fold'], dtype='object')"
       ]
      },
      {
       "output_type": "stream",
       "stream": "stdout",
       "text": [
        " ['sumpt', 'm', 'mcor', 'ipchi2', 'vchi2', 'sumipchi2', 'nlt16', 'minpt', 'pt', 'n', 'nhlt1', 'fdchi2', 'eta']\n",
        "Index([u'event_id', u'svr', u'signal', u'presel', u'truematch', u'sumpt', u'm', u'mcor', u'ipchi2', u'vchi2', u'sumipchi2', u'fdr', u'nlt16', u'minpt', u'ptau', u'q', u'eta', u'pt', u'nhlt1', u'nmu', u'n', u'bdt', u'fdchi2', u'NUMBER', u'btau', u'is_passed_l0_goodGenB', u'channel', u'channel_label', u'fold'], dtype='object')"
       ]
      },
      {
       "output_type": "stream",
       "stream": "stdout",
       "text": [
        " ['sumpt', 'm', 'mcor', 'ipchi2', 'vchi2', 'sumipchi2', 'nlt16', 'minpt', 'pt', 'n', 'nhlt1', 'fdchi2', 'eta']\n",
        "Index([u'event_id', u'svr', u'signal', u'presel', u'truematch', u'sumpt', u'm', u'mcor', u'ipchi2', u'vchi2', u'sumipchi2', u'fdr', u'nlt16', u'minpt', u'ptau', u'q', u'eta', u'pt', u'nhlt1', u'nmu', u'n', u'bdt', u'fdchi2', u'NUMBER', u'btau', u'is_passed_l0_goodGenB', u'channel', u'channel_label', u'fold'], dtype='object')"
       ]
      },
      {
       "output_type": "stream",
       "stream": "stdout",
       "text": [
        " ['sumpt', 'm', 'mcor', 'ipchi2', 'vchi2', 'sumipchi2', 'nlt16', 'minpt', 'pt', 'n', 'nhlt1', 'fdchi2', 'eta']\n",
        "Index([u'event_id', u'svr', u'signal', u'presel', u'truematch', u'sumpt', u'm', u'mcor', u'ipchi2', u'vchi2', u'sumipchi2', u'fdr', u'nlt16', u'minpt', u'ptau', u'q', u'eta', u'pt', u'nhlt1', u'nmu', u'n', u'bdt', u'fdchi2', u'NUMBER', u'btau', u'is_passed_l0_goodGenB', u'channel', u'channel_label', u'fold'], dtype='object')"
       ]
      },
      {
       "output_type": "stream",
       "stream": "stdout",
       "text": [
        " ['sumpt', 'm', 'mcor', 'ipchi2', 'vchi2', 'sumipchi2', 'nlt16', 'minpt', 'pt', 'n', 'nhlt1', 'fdchi2', 'eta']\n"
       ]
      }
     ],
     "prompt_number": 9
    },
    {
     "cell_type": "code",
     "collapsed": false,
     "input": [
      "mn_third = {}\n",
      "for inter in some_intervals:\n",
      "    mn_third[inter] = EventFilterClassifier(formula_name=base_name + \"-\" + str(inter) + \"-third-features\", \n",
      "                                         dataset_name=base_name + \"-\" + str(inter) + \"-third-features\", url_base='w80.h.cern.yandex.net')\n",
      "    mn_third[inter].set_params(\n",
      "        intervals=inter,\n",
      "        features=third_factors,\n",
      "        iterations=iterations,\n",
      "        features_sample_rate_per_iteration=0.8,\n",
      "        training_fraction=0.5,\n",
      "        regularization=0.05,\n",
      "        sync=False)\n",
      "    mn_third[inter].fit(train_data, train_labels)"
     ],
     "language": "python",
     "metadata": {},
     "outputs": [
      {
       "output_type": "stream",
       "stream": "stdout",
       "text": [
        "Index([u'event_id', u'svr', u'signal', u'presel', u'truematch', u'sumpt', u'm', u'mcor', u'ipchi2', u'vchi2', u'sumipchi2', u'fdr', u'nlt16', u'minpt', u'ptau', u'q', u'eta', u'pt', u'nhlt1', u'nmu', u'n', u'bdt', u'fdchi2', u'NUMBER', u'btau', u'is_passed_l0_goodGenB', u'channel', u'channel_label', u'fold'], dtype='object') ['m', 'mcor', 'ipchi2', 'vchi2', 'sumipchi2', 'nlt16', 'minpt', 'ptau', 'q', 'n', 'fdchi2']\n",
        "Index([u'event_id', u'svr', u'signal', u'presel', u'truematch', u'sumpt', u'm', u'mcor', u'ipchi2', u'vchi2', u'sumipchi2', u'fdr', u'nlt16', u'minpt', u'ptau', u'q', u'eta', u'pt', u'nhlt1', u'nmu', u'n', u'bdt', u'fdchi2', u'NUMBER', u'btau', u'is_passed_l0_goodGenB', u'channel', u'channel_label', u'fold'], dtype='object')"
       ]
      },
      {
       "output_type": "stream",
       "stream": "stdout",
       "text": [
        " ['m', 'mcor', 'ipchi2', 'vchi2', 'sumipchi2', 'nlt16', 'minpt', 'ptau', 'q', 'n', 'fdchi2']\n"
       ]
      }
     ],
     "prompt_number": 64
    },
    {
     "cell_type": "code",
     "collapsed": false,
     "input": [
      "mn_fourth = {}\n",
      "for inter in some_intervals:\n",
      "    mn_fourth[inter] = EventFilterClassifier(formula_name=base_name + \"-\" + str(inter) + \"-fourth-features\", \n",
      "                                         dataset_name=base_name + \"-\" + str(inter) + \"-fourth-features\", url_base='w80.h.cern.yandex.net')\n",
      "    mn_fourth[inter].set_params(\n",
      "        intervals=inter,\n",
      "        features=fourth_factors,\n",
      "        iterations=iterations,\n",
      "        features_sample_rate_per_iteration=0.8,\n",
      "        training_fraction=0.5,\n",
      "        regularization=0.05,\n",
      "        sync=False)\n",
      "    mn_fourth[inter].fit(train_data, train_labels)"
     ],
     "language": "python",
     "metadata": {},
     "outputs": [
      {
       "output_type": "stream",
       "stream": "stdout",
       "text": [
        "Index([u'event_id', u'svr', u'signal', u'presel', u'truematch', u'sumpt', u'm', u'mcor', u'ipchi2', u'vchi2', u'sumipchi2', u'fdr', u'nlt16', u'minpt', u'ptau', u'q', u'eta', u'pt', u'nhlt1', u'nmu', u'n', u'bdt', u'fdchi2', u'NUMBER', u'btau', u'is_passed_l0_goodGenB', u'channel', u'channel_label', u'fold'], dtype='object') ['m', 'mcor', 'ipchi2', 'vchi2', 'sumipchi2', 'nlt16', 'minpt', 'pt', 'n', 'fdchi2', 'eta']\n",
        "Index([u'event_id', u'svr', u'signal', u'presel', u'truematch', u'sumpt', u'm', u'mcor', u'ipchi2', u'vchi2', u'sumipchi2', u'fdr', u'nlt16', u'minpt', u'ptau', u'q', u'eta', u'pt', u'nhlt1', u'nmu', u'n', u'bdt', u'fdchi2', u'NUMBER', u'btau', u'is_passed_l0_goodGenB', u'channel', u'channel_label', u'fold'], dtype='object')"
       ]
      },
      {
       "output_type": "stream",
       "stream": "stdout",
       "text": [
        " ['m', 'mcor', 'ipchi2', 'vchi2', 'sumipchi2', 'nlt16', 'minpt', 'pt', 'n', 'fdchi2', 'eta']\n"
       ]
      }
     ],
     "prompt_number": 65
    },
    {
     "cell_type": "code",
     "collapsed": false,
     "input": [
      "test_subset_labels = test['signal']"
     ],
     "language": "python",
     "metadata": {},
     "outputs": []
    },
    {
     "cell_type": "code",
     "collapsed": false,
     "input": [
      "eff_first = dict()\n",
      "\n",
      "for inter, mn in mn_first.iteritems():\n",
      "    preds = mn.predict_proba(test)[:, 1]\n",
      "    eff_first[inter] = metric(test_subset_labels, preds)"
     ],
     "language": "python",
     "metadata": {},
     "outputs": [
      {
       "output_type": "stream",
       "stream": "stdout",
       "text": [
        "Index([u'event_id', u'svr', u'signal', u'presel', u'truematch', u'sumpt', u'm', u'mcor', u'ipchi2', u'vchi2', u'sumipchi2', u'fdr', u'nlt16', u'minpt', u'ptau', u'q', u'eta', u'pt', u'nhlt1', u'nmu', u'n', u'bdt', u'fdchi2', u'NUMBER', u'btau', u'is_passed_l0_goodGenB', u'channel', u'channel_label', u'fold'], dtype='object') ['sumpt', 'm', 'mcor', 'ipchi2', 'vchi2', 'sumipchi2', 'fdr', 'nlt16', 'minpt', 'ptau', 'q', 'eta', 'nhlt1', 'n', 'fdchi2']\n",
        "2"
       ]
      },
      {
       "output_type": "stream",
       "stream": "stdout",
       "text": [
        "\n",
        "0.989257735988"
       ]
      },
      {
       "output_type": "stream",
       "stream": "stdout",
       "text": [
        "\n",
        "Index([u'event_id', u'svr', u'signal', u'presel', u'truematch', u'sumpt', u'm', u'mcor', u'ipchi2', u'vchi2', u'sumipchi2', u'fdr', u'nlt16', u'minpt', u'ptau', u'q', u'eta', u'pt', u'nhlt1', u'nmu', u'n', u'bdt', u'fdchi2', u'NUMBER', u'btau', u'is_passed_l0_goodGenB', u'channel', u'channel_label', u'fold', u'bdt_cut', u'bdt_passed', u'bdt_cut_m', u'bdt_passed_modified', u'modify_prediction'], dtype='object')"
       ]
      },
      {
       "output_type": "stream",
       "stream": "stdout",
       "text": [
        " ['sumpt', 'm', 'mcor', 'ipchi2', 'vchi2', 'sumipchi2', 'fdr', 'nlt16', 'minpt', 'ptau', 'q', 'eta', 'nhlt1', 'n', 'fdchi2']\n",
        "2"
       ]
      },
      {
       "output_type": "stream",
       "stream": "stdout",
       "text": [
        "\n",
        "0.989117760591"
       ]
      },
      {
       "output_type": "stream",
       "stream": "stdout",
       "text": [
        "\n",
        "Index([u'event_id', u'svr', u'signal', u'presel', u'truematch', u'sumpt', u'm', u'mcor', u'ipchi2', u'vchi2', u'sumipchi2', u'fdr', u'nlt16', u'minpt', u'ptau', u'q', u'eta', u'pt', u'nhlt1', u'nmu', u'n', u'bdt', u'fdchi2', u'NUMBER', u'btau', u'is_passed_l0_goodGenB', u'channel', u'channel_label', u'fold', u'bdt_cut', u'bdt_passed', u'bdt_cut_m', u'bdt_passed_modified', u'modify_prediction'], dtype='object')"
       ]
      },
      {
       "output_type": "stream",
       "stream": "stdout",
       "text": [
        " ['sumpt', 'm', 'mcor', 'ipchi2', 'vchi2', 'sumipchi2', 'fdr', 'nlt16', 'minpt', 'ptau', 'q', 'eta', 'nhlt1', 'n', 'fdchi2']\n",
        "2"
       ]
      },
      {
       "output_type": "stream",
       "stream": "stdout",
       "text": [
        "\n",
        "0.988631121019"
       ]
      },
      {
       "output_type": "stream",
       "stream": "stdout",
       "text": [
        "\n",
        "Index([u'event_id', u'svr', u'signal', u'presel', u'truematch', u'sumpt', u'm', u'mcor', u'ipchi2', u'vchi2', u'sumipchi2', u'fdr', u'nlt16', u'minpt', u'ptau', u'q', u'eta', u'pt', u'nhlt1', u'nmu', u'n', u'bdt', u'fdchi2', u'NUMBER', u'btau', u'is_passed_l0_goodGenB', u'channel', u'channel_label', u'fold', u'bdt_cut', u'bdt_passed', u'bdt_cut_m', u'bdt_passed_modified', u'modify_prediction'], dtype='object')"
       ]
      },
      {
       "output_type": "stream",
       "stream": "stdout",
       "text": [
        " ['sumpt', 'm', 'mcor', 'ipchi2', 'vchi2', 'sumipchi2', 'fdr', 'nlt16', 'minpt', 'ptau', 'q', 'eta', 'nhlt1', 'n', 'fdchi2']\n",
        "2"
       ]
      },
      {
       "output_type": "stream",
       "stream": "stdout",
       "text": [
        "\n",
        "0.988657641979"
       ]
      },
      {
       "output_type": "stream",
       "stream": "stdout",
       "text": [
        "\n",
        "Index([u'event_id', u'svr', u'signal', u'presel', u'truematch', u'sumpt', u'm', u'mcor', u'ipchi2', u'vchi2', u'sumipchi2', u'fdr', u'nlt16', u'minpt', u'ptau', u'q', u'eta', u'pt', u'nhlt1', u'nmu', u'n', u'bdt', u'fdchi2', u'NUMBER', u'btau', u'is_passed_l0_goodGenB', u'channel', u'channel_label', u'fold', u'bdt_cut', u'bdt_passed', u'bdt_cut_m', u'bdt_passed_modified', u'modify_prediction'], dtype='object')"
       ]
      },
      {
       "output_type": "stream",
       "stream": "stdout",
       "text": [
        " ['sumpt', 'm', 'mcor', 'ipchi2', 'vchi2', 'sumipchi2', 'fdr', 'nlt16', 'minpt', 'ptau', 'q', 'eta', 'nhlt1', 'n', 'fdchi2']\n",
        "2"
       ]
      },
      {
       "output_type": "stream",
       "stream": "stdout",
       "text": [
        "\n",
        "0.989692218286"
       ]
      },
      {
       "output_type": "stream",
       "stream": "stdout",
       "text": [
        "\n",
        "Index([u'event_id', u'svr', u'signal', u'presel', u'truematch', u'sumpt', u'm', u'mcor', u'ipchi2', u'vchi2', u'sumipchi2', u'fdr', u'nlt16', u'minpt', u'ptau', u'q', u'eta', u'pt', u'nhlt1', u'nmu', u'n', u'bdt', u'fdchi2', u'NUMBER', u'btau', u'is_passed_l0_goodGenB', u'channel', u'channel_label', u'fold', u'bdt_cut', u'bdt_passed', u'bdt_cut_m', u'bdt_passed_modified', u'modify_prediction'], dtype='object')"
       ]
      },
      {
       "output_type": "stream",
       "stream": "stdout",
       "text": [
        " ['sumpt', 'm', 'mcor', 'ipchi2', 'vchi2', 'sumipchi2', 'fdr', 'nlt16', 'minpt', 'ptau', 'q', 'eta', 'nhlt1', 'n', 'fdchi2']\n",
        "2"
       ]
      },
      {
       "output_type": "stream",
       "stream": "stdout",
       "text": [
        "\n",
        "0.989257735988"
       ]
      },
      {
       "output_type": "stream",
       "stream": "stdout",
       "text": [
        "\n"
       ]
      }
     ],
     "prompt_number": 11
    },
    {
     "cell_type": "code",
     "collapsed": false,
     "input": [
      "eff_second = dict()\n",
      "\n",
      "for inter, mn in mn_second.iteritems():\n",
      "    try:\n",
      "        preds = mn.predict_proba(test)[:, 1]\n",
      "        eff_second[inter] = metric(test_subset_labels, preds)\n",
      "    except:\n",
      "        pass"
     ],
     "language": "python",
     "metadata": {},
     "outputs": [
      {
       "output_type": "stream",
       "stream": "stdout",
       "text": [
        "Index([u'event_id', u'svr', u'signal', u'presel', u'truematch', u'sumpt', u'm', u'mcor', u'ipchi2', u'vchi2', u'sumipchi2', u'fdr', u'nlt16', u'minpt', u'ptau', u'q', u'eta', u'pt', u'nhlt1', u'nmu', u'n', u'bdt', u'fdchi2', u'NUMBER', u'btau', u'is_passed_l0_goodGenB', u'channel', u'channel_label', u'fold', u'bdt_cut', u'bdt_passed', u'bdt_cut_m', u'bdt_passed_modified', u'modify_prediction'], dtype='object') ['sumpt', 'm', 'mcor', 'ipchi2', 'vchi2', 'sumipchi2', 'nlt16', 'minpt', 'pt', 'n', 'nhlt1', 'fdchi2', 'eta']\n",
        "2"
       ]
      },
      {
       "output_type": "stream",
       "stream": "stdout",
       "text": [
        "\n",
        "0.989127101431"
       ]
      },
      {
       "output_type": "stream",
       "stream": "stdout",
       "text": [
        "\n",
        "Index([u'event_id', u'svr', u'signal', u'presel', u'truematch', u'sumpt', u'm', u'mcor', u'ipchi2', u'vchi2', u'sumipchi2', u'fdr', u'nlt16', u'minpt', u'ptau', u'q', u'eta', u'pt', u'nhlt1', u'nmu', u'n', u'bdt', u'fdchi2', u'NUMBER', u'btau', u'is_passed_l0_goodGenB', u'channel', u'channel_label', u'fold', u'bdt_cut', u'bdt_passed', u'bdt_cut_m', u'bdt_passed_modified', u'modify_prediction'], dtype='object')"
       ]
      },
      {
       "output_type": "stream",
       "stream": "stdout",
       "text": [
        " ['sumpt', 'm', 'mcor', 'ipchi2', 'vchi2', 'sumipchi2', 'nlt16', 'minpt', 'pt', 'n', 'nhlt1', 'fdchi2', 'eta']\n",
        "2"
       ]
      },
      {
       "output_type": "stream",
       "stream": "stdout",
       "text": [
        "\n",
        "0.989878339321"
       ]
      },
      {
       "output_type": "stream",
       "stream": "stdout",
       "text": [
        "\n",
        "Index([u'event_id', u'svr', u'signal', u'presel', u'truematch', u'sumpt', u'm', u'mcor', u'ipchi2', u'vchi2', u'sumipchi2', u'fdr', u'nlt16', u'minpt', u'ptau', u'q', u'eta', u'pt', u'nhlt1', u'nmu', u'n', u'bdt', u'fdchi2', u'NUMBER', u'btau', u'is_passed_l0_goodGenB', u'channel', u'channel_label', u'fold', u'bdt_cut', u'bdt_passed', u'bdt_cut_m', u'bdt_passed_modified', u'modify_prediction'], dtype='object')"
       ]
      },
      {
       "output_type": "stream",
       "stream": "stdout",
       "text": [
        " ['sumpt', 'm', 'mcor', 'ipchi2', 'vchi2', 'sumipchi2', 'nlt16', 'minpt', 'pt', 'n', 'nhlt1', 'fdchi2', 'eta']\n",
        "2"
       ]
      },
      {
       "output_type": "stream",
       "stream": "stdout",
       "text": [
        "\n",
        "0.988802627007"
       ]
      },
      {
       "output_type": "stream",
       "stream": "stdout",
       "text": [
        "\n",
        "Index([u'event_id', u'svr', u'signal', u'presel', u'truematch', u'sumpt', u'm', u'mcor', u'ipchi2', u'vchi2', u'sumipchi2', u'fdr', u'nlt16', u'minpt', u'ptau', u'q', u'eta', u'pt', u'nhlt1', u'nmu', u'n', u'bdt', u'fdchi2', u'NUMBER', u'btau', u'is_passed_l0_goodGenB', u'channel', u'channel_label', u'fold', u'bdt_cut', u'bdt_passed', u'bdt_cut_m', u'bdt_passed_modified', u'modify_prediction'], dtype='object')"
       ]
      },
      {
       "output_type": "stream",
       "stream": "stdout",
       "text": [
        " ['sumpt', 'm', 'mcor', 'ipchi2', 'vchi2', 'sumipchi2', 'nlt16', 'minpt', 'pt', 'n', 'nhlt1', 'fdchi2', 'eta']\n",
        "2"
       ]
      },
      {
       "output_type": "stream",
       "stream": "stdout",
       "text": [
        "\n",
        "0.988899534008"
       ]
      },
      {
       "output_type": "stream",
       "stream": "stdout",
       "text": [
        "\n",
        "Index([u'event_id', u'svr', u'signal', u'presel', u'truematch', u'sumpt', u'm', u'mcor', u'ipchi2', u'vchi2', u'sumipchi2', u'fdr', u'nlt16', u'minpt', u'ptau', u'q', u'eta', u'pt', u'nhlt1', u'nmu', u'n', u'bdt', u'fdchi2', u'NUMBER', u'btau', u'is_passed_l0_goodGenB', u'channel', u'channel_label', u'fold', u'bdt_cut', u'bdt_passed', u'bdt_cut_m', u'bdt_passed_modified', u'modify_prediction'], dtype='object')"
       ]
      },
      {
       "output_type": "stream",
       "stream": "stdout",
       "text": [
        " ['sumpt', 'm', 'mcor', 'ipchi2', 'vchi2', 'sumipchi2', 'nlt16', 'minpt', 'pt', 'n', 'nhlt1', 'fdchi2', 'eta']\n",
        "2"
       ]
      },
      {
       "output_type": "stream",
       "stream": "stdout",
       "text": [
        "\n",
        "0.990197670288"
       ]
      },
      {
       "output_type": "stream",
       "stream": "stdout",
       "text": [
        "\n",
        "Index([u'event_id', u'svr', u'signal', u'presel', u'truematch', u'sumpt', u'm', u'mcor', u'ipchi2', u'vchi2', u'sumipchi2', u'fdr', u'nlt16', u'minpt', u'ptau', u'q', u'eta', u'pt', u'nhlt1', u'nmu', u'n', u'bdt', u'fdchi2', u'NUMBER', u'btau', u'is_passed_l0_goodGenB', u'channel', u'channel_label', u'fold', u'bdt_cut', u'bdt_passed', u'bdt_cut_m', u'bdt_passed_modified', u'modify_prediction'], dtype='object')"
       ]
      },
      {
       "output_type": "stream",
       "stream": "stdout",
       "text": [
        " ['sumpt', 'm', 'mcor', 'ipchi2', 'vchi2', 'sumipchi2', 'nlt16', 'minpt', 'pt', 'n', 'nhlt1', 'fdchi2', 'eta']\n",
        "2"
       ]
      },
      {
       "output_type": "stream",
       "stream": "stdout",
       "text": [
        "\n",
        "0.989127101431"
       ]
      },
      {
       "output_type": "stream",
       "stream": "stdout",
       "text": [
        "\n"
       ]
      }
     ],
     "prompt_number": 12
    },
    {
     "cell_type": "code",
     "collapsed": false,
     "input": [
      "eff_third = dict()\n",
      "\n",
      "for inter, mn in mn_third.iteritems():\n",
      "    try:\n",
      "        preds = mn.predict_proba(test)[:, 1]\n",
      "        eff_third[inter] = metric(test_subset_labels, preds)\n",
      "    except:\n",
      "        pass"
     ],
     "language": "python",
     "metadata": {},
     "outputs": [
      {
       "output_type": "stream",
       "stream": "stdout",
       "text": [
        "Index([u'event_id', u'svr', u'signal', u'presel', u'truematch', u'sumpt', u'm', u'mcor', u'ipchi2', u'vchi2', u'sumipchi2', u'fdr', u'nlt16', u'minpt', u'ptau', u'q', u'eta', u'pt', u'nhlt1', u'nmu', u'n', u'bdt', u'fdchi2', u'NUMBER', u'btau', u'is_passed_l0_goodGenB', u'channel', u'channel_label', u'fold', u'bdt_cut', u'bdt_passed', u'bdt_cut_m', u'bdt_passed_modified', u'modify_prediction'], dtype='object') ['m', 'mcor', 'ipchi2', 'vchi2', 'sumipchi2', 'nlt16', 'minpt', 'ptau', 'q', 'n', 'fdchi2']\n",
        "2"
       ]
      },
      {
       "output_type": "stream",
       "stream": "stdout",
       "text": [
        "\n",
        "0.986384110174"
       ]
      },
      {
       "output_type": "stream",
       "stream": "stdout",
       "text": [
        "\n",
        "Index([u'event_id', u'svr', u'signal', u'presel', u'truematch', u'sumpt', u'm', u'mcor', u'ipchi2', u'vchi2', u'sumipchi2', u'fdr', u'nlt16', u'minpt', u'ptau', u'q', u'eta', u'pt', u'nhlt1', u'nmu', u'n', u'bdt', u'fdchi2', u'NUMBER', u'btau', u'is_passed_l0_goodGenB', u'channel', u'channel_label', u'fold', u'bdt_cut', u'bdt_passed', u'bdt_cut_m', u'bdt_passed_modified', u'modify_prediction'], dtype='object')"
       ]
      },
      {
       "output_type": "stream",
       "stream": "stdout",
       "text": [
        " ['m', 'mcor', 'ipchi2', 'vchi2', 'sumipchi2', 'nlt16', 'minpt', 'ptau', 'q', 'n', 'fdchi2']\n",
        "2"
       ]
      },
      {
       "output_type": "stream",
       "stream": "stdout",
       "text": [
        "\n",
        "0.987623404662"
       ]
      },
      {
       "output_type": "stream",
       "stream": "stdout",
       "text": [
        "\n"
       ]
      }
     ],
     "prompt_number": 66
    },
    {
     "cell_type": "code",
     "collapsed": false,
     "input": [
      "eff_fourth = dict()\n",
      "\n",
      "for inter, mn in mn_fourth.iteritems():\n",
      "    try:\n",
      "        preds = mn.predict_proba(test)[:, 1]\n",
      "        eff_fourth[inter] = metric(test_subset_labels, preds)\n",
      "    except:\n",
      "        pass"
     ],
     "language": "python",
     "metadata": {},
     "outputs": [
      {
       "output_type": "stream",
       "stream": "stdout",
       "text": [
        "Index([u'event_id', u'svr', u'signal', u'presel', u'truematch', u'sumpt', u'm', u'mcor', u'ipchi2', u'vchi2', u'sumipchi2', u'fdr', u'nlt16', u'minpt', u'ptau', u'q', u'eta', u'pt', u'nhlt1', u'nmu', u'n', u'bdt', u'fdchi2', u'NUMBER', u'btau', u'is_passed_l0_goodGenB', u'channel', u'channel_label', u'fold', u'bdt_cut', u'bdt_passed', u'bdt_cut_m', u'bdt_passed_modified', u'modify_prediction'], dtype='object') ['m', 'mcor', 'ipchi2', 'vchi2', 'sumipchi2', 'nlt16', 'minpt', 'pt', 'n', 'fdchi2', 'eta']\n",
        "2"
       ]
      },
      {
       "output_type": "stream",
       "stream": "stdout",
       "text": [
        "\n",
        "0.988771390732"
       ]
      },
      {
       "output_type": "stream",
       "stream": "stdout",
       "text": [
        "\n",
        "Index([u'event_id', u'svr', u'signal', u'presel', u'truematch', u'sumpt', u'm', u'mcor', u'ipchi2', u'vchi2', u'sumipchi2', u'fdr', u'nlt16', u'minpt', u'ptau', u'q', u'eta', u'pt', u'nhlt1', u'nmu', u'n', u'bdt', u'fdchi2', u'NUMBER', u'btau', u'is_passed_l0_goodGenB', u'channel', u'channel_label', u'fold', u'bdt_cut', u'bdt_passed', u'bdt_cut_m', u'bdt_passed_modified', u'modify_prediction'], dtype='object')"
       ]
      },
      {
       "output_type": "stream",
       "stream": "stdout",
       "text": [
        " ['m', 'mcor', 'ipchi2', 'vchi2', 'sumipchi2', 'nlt16', 'minpt', 'pt', 'n', 'fdchi2', 'eta']\n",
        "2"
       ]
      },
      {
       "output_type": "stream",
       "stream": "stdout",
       "text": [
        "\n",
        "0.988357585007"
       ]
      },
      {
       "output_type": "stream",
       "stream": "stdout",
       "text": [
        "\n"
       ]
      }
     ],
     "prompt_number": 72
    },
    {
     "cell_type": "code",
     "collapsed": false,
     "input": [
      "def plot_eff(data_dict, p_label='p_empty', total_label='total_empty', alpha=1, move=3, bar_width=1):\n",
      "    plt.subplots(figsize=(13,7))\n",
      "    color = ['b', 'g', 'r', 'cyan', 'pink', 'orange', 'black', 'yellow', 'brown', 'magenta', 'purple', 'indigo', 'orange', 'violet', 'teal', 'grey']\n",
      "    num = 0\n",
      "    bars = len(data_dict) + 1\n",
      "    for key, value in sorted(data_dict.iteritems()):\n",
      "        move = num\n",
      "        error_config = {'ecolor': '0.3'}\n",
      "        modes = sort(list(set(value.keys())))# - {30000000}))\n",
      "        channel_count = len(modes)\n",
      "        index = np.arange(channel_count)\n",
      "        plt.bar(bars * index + move, [1 - value[mode][p_label] for mode in modes], bar_width,\n",
      "                       alpha=alpha, color=color[num], \n",
      "                       yerr=[sqrt(value[mode][p_label] * (1 - value[mode][p_label]) / value[mode][total_label])\n",
      "                                                   for mode in modes], error_kw=error_config,\n",
      "                       label=key)\n",
      "        \n",
      "        num += 1\n",
      "        plt.xticks(bars * index + move * bar_width, modes)\n",
      "    plt.xlabel('Modes')\n",
      "    plt.ylabel('Inefficiency')\n",
      "    plt.title('Classifier Inefficiency for Matrixnet')\n",
      "    plt.legend(loc='best')\n",
      "    plt.tight_layout()"
     ],
     "language": "python",
     "metadata": {},
     "outputs": [],
     "prompt_number": 68
    },
    {
     "cell_type": "heading",
     "level": 3,
     "metadata": {},
     "source": [
      "first features"
     ]
    },
    {
     "cell_type": "code",
     "collapsed": false,
     "input": [
      "plot_eff(eff_first)"
     ],
     "language": "python",
     "metadata": {},
     "outputs": [
      {
       "metadata": {},
       "output_type": "display_data",
       "png": "[encoded data removed]",
       "text": [
        "<matplotlib.figure.Figure at 0x5b125510>"
       ]
      }
     ],
     "prompt_number": 69
    },
    {
     "cell_type": "heading",
     "level": 2,
     "metadata": {},
     "source": [
      "second features"
     ]
    },
    {
     "cell_type": "code",
     "collapsed": false,
     "input": [
      "plot_eff(eff_second)"
     ],
     "language": "python",
     "metadata": {},
     "outputs": [
      {
       "metadata": {},
       "output_type": "display_data",
       "png": "[encoded data removed]",
       "text": [
        "<matplotlib.figure.Figure at 0x46679a10>"
       ]
      }
     ],
     "prompt_number": 70
    },
    {
     "cell_type": "code",
     "collapsed": false,
     "input": [
      "eff_total = dict()\n",
      "eff_total[\"4-15-first-set\"] = eff_first[4]\n",
      "eff_total[\"6-15-first-set\"] = eff_first[6]\n",
      "eff_total[\"4-13-second-set\"] = eff_second[4]\n",
      "eff_total[\"6-13-second-set\"] = eff_second[6]\n",
      "eff_total[\"4-11-third-set\"] = eff_third[4]\n",
      "eff_total[\"6-11-third-set\"] = eff_third[6]\n",
      "eff_total[\"4-11-fourth-set\"] = eff_fourth[4]\n",
      "eff_total[\"6-11-fourth-set\"] = eff_fourth[6]"
     ],
     "language": "python",
     "metadata": {},
     "outputs": [],
     "prompt_number": 75
    },
    {
     "cell_type": "code",
     "collapsed": false,
     "input": [
      "plot_eff(eff_total)"
     ],
     "language": "python",
     "metadata": {},
     "outputs": [
      {
       "metadata": {},
       "output_type": "display_data",
       "png": "[encoded data removed]",
       "text": [
        "<matplotlib.figure.Figure at 0x46654750>"
       ]
      }
     ],
     "prompt_number": 76
    },
    {
     "cell_type": "code",
     "collapsed": false,
     "input": [
      "eff_final = dict()\n",
      "eff_final[\"default-first-set\"] = eff_first[64]\n",
      "eff_final[\"default-second-set\"] = eff_second[64]\n",
      "eff_final[\"6-11-first-set-(without bad features)\"] = eff_third[6]\n",
      "eff_final[\"6-11-second-set-(without bad features)\"] = eff_fourth[6]"
     ],
     "language": "python",
     "metadata": {},
     "outputs": [],
     "prompt_number": 83
    },
    {
     "cell_type": "code",
     "collapsed": false,
     "input": [
      "plot_eff(eff_final)"
     ],
     "language": "python",
     "metadata": {},
     "outputs": [
      {
       "metadata": {},
       "output_type": "display_data",
       "png": "[encoded data removed]",
       "text": [
        "<matplotlib.figure.Figure at 0x11ec5bd0>"
       ]
      }
     ],
     "prompt_number": 84
    },
    {
     "cell_type": "code",
     "collapsed": false,
     "input": [],
     "language": "python",
     "metadata": {},
     "outputs": []
    }
   ],
   "metadata": {}
  }
 ]
}