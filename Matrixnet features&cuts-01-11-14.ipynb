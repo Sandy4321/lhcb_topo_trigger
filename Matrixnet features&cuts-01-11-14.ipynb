{
 "metadata": {
  "name": "",
  "signature": "sha256:7d4868a408418546720274071606fe1a2e626752109017162ce66c8456c0728d"
 },
 "nbformat": 3,
 "nbformat_minor": 0,
 "worksheets": [
  {
   "cells": [
    {
     "cell_type": "code",
     "collapsed": false,
     "input": [
      "import sys\n",
      "sys.path.insert(0, '/home/mikari/REP')\n",
      "sys.path.insert(0, '/local/userdata/shelf/notebook/axelr/lhcb_trigger_ml/IPythonWorkflow/')\n",
      "sys.path.insert(0, '/home/mikari/topo_code')\n",
      "import topo_utils\n",
      "import cern_utils\n",
      "from cern_utils import converter_csv\n",
      "\n",
      "train = converter_csv.load_from_csv('/local/userdata/shelf/notebook/mikari/topo/learn_data_updated_data/train', sep='\\t')\n",
      "test = converter_csv.load_from_csv('/local/userdata/shelf/notebook/mikari/topo/learn_data_updated_data/test', sep='\\t')\n",
      "\n",
      "train,test = topo_utils.append_labels([train, test])\n",
      "train = train.select('is_passed_l0_goodGenB==1')\n",
      "test = test.select('is_passed_l0_goodGenB==1')\n",
      "train = topo_utils.add_folding_field(train, 1000)\n",
      "test = topo_utils.add_folding_field(test, 1000)\n",
      "train_subset = cern_utils.data_storage.DataStorage.union([train.select('signal==1').select('fold < 1000'), train.select('signal==0')])\n",
      "# test_subset = cern_utils.data_storage.DataStorage.union([test.select('signal==1').select('fold < 300'), test.select('signal==0')])\n"
     ],
     "language": "python",
     "metadata": {},
     "outputs": [],
     "prompt_number": 2
    },
    {
     "cell_type": "code",
     "collapsed": false,
     "input": [
      "empty_events = {\n",
      "    11114001: 164  ,\n",
      "    11124001: 49  ,\n",
      "    12103035: 421  ,\n",
      "    12165106: 273  ,\n",
      "    12265042: 53  ,\n",
      "    11874042: 129  ,\n",
      "    11296013: 23 ,\n",
      "    30000000: 107352  ,\n",
      "}\n",
      "\n",
      "test_empty_events = {}\n",
      "for key, value in empty_events.iteritems():\n",
      "    if (key == 30000000):\n",
      "        test_empty_events[key] = value * 0.5\n",
      "    else:\n",
      "        test_empty_events[key] = value * 0.5\n",
      "    \n",
      "print test_empty_events"
     ],
     "language": "python",
     "metadata": {},
     "outputs": [
      {
       "output_type": "stream",
       "stream": "stdout",
       "text": [
        "{30000000: 53676.0, 11124001: 24.5, 12265042: 26.5, 11296013: 11.5, 11114001: 82.0, 12165106: 136.5, 11874042: 64.5, 12103035: 210.5}\n"
       ]
      }
     ],
     "prompt_number": 3
    },
    {
     "cell_type": "code",
     "collapsed": false,
     "input": [
      "variables = [\"sumpt\",\n",
      "             \"m\",\n",
      "             \"mcor\",\n",
      "             \"ipchi2\",\n",
      "             \"vchi2\",\n",
      "             \"sumipchi2\",\n",
      "             \"fdr\",\n",
      "             \"nlt16\",\n",
      "             \"minpt\",\n",
      "             \"ptau\",\n",
      "             \"q\",\n",
      "             \"eta\",\n",
      "             \"nhlt1\",\n",
      "             \"nmu\",\n",
      "             \"n\",\n",
      "             \"fdchi2\"]\n",
      "\n",
      "variables_small = [\"sumpt\",\n",
      "             \"m\",\n",
      "             \"mcor\",\n",
      "             \"ipchi2\",\n",
      "             \"vchi2\",\n",
      "             \"fdchi2\",\n",
      "             \"minpt\"]"
     ],
     "language": "python",
     "metadata": {},
     "outputs": [],
     "prompt_number": 4
    },
    {
     "cell_type": "code",
     "collapsed": false,
     "input": [
      "reload(topo_utils)\n",
      "metric = topo_utils.metric_generate(test.get_data(), 2500.0 / 1e6, test_empty_events, metric_plot=True)\n",
      "metric_5000 = topo_utils.metric_generate(test.get_data(), 5000.0 / 1e6, test_empty_events, metric_plot=True)\n",
      "\n",
      "def minpt_cut(data):\n",
      "    return numpy.array(data['minpt'] > 500)\n",
      "\n",
      "metric_minptcut = topo_utils.metric_generate(\n",
      "    test.get_data(),\n",
      "    2500.0 / 1e6,\n",
      "    test_empty_events,\n",
      "    metric_plot=True,\n",
      "    additional_cut=minpt_cut)\n",
      "\n",
      "metric_minptcut_5000 = topo_utils.metric_generate(\n",
      "    test.get_data(),\n",
      "    5000.0 / 1e6,\n",
      "    test_empty_events,\n",
      "    metric_plot=True,\n",
      "    additional_cut=minpt_cut)"
     ],
     "language": "python",
     "metadata": {},
     "outputs": [
      {
       "output_type": "stream",
       "stream": "stdout",
       "text": [
        "182\n",
        "365"
       ]
      },
      {
       "output_type": "stream",
       "stream": "stdout",
       "text": [
        "\n",
        "182"
       ]
      },
      {
       "output_type": "stream",
       "stream": "stdout",
       "text": [
        "\n",
        "365"
       ]
      },
      {
       "output_type": "stream",
       "stream": "stdout",
       "text": [
        "\n"
       ]
      }
     ],
     "prompt_number": 5
    },
    {
     "cell_type": "code",
     "collapsed": false,
     "input": [
      "a = minpt_cut(test.get_data())"
     ],
     "language": "python",
     "metadata": {},
     "outputs": [],
     "prompt_number": 6
    },
    {
     "cell_type": "code",
     "collapsed": false,
     "input": [
      "a"
     ],
     "language": "python",
     "metadata": {},
     "outputs": [
      {
       "metadata": {},
       "output_type": "pyout",
       "prompt_number": 7,
       "text": [
        "array([ True,  True,  True, ...,  True,  True, False], dtype=bool)"
       ]
      }
     ],
     "prompt_number": 7
    },
    {
     "cell_type": "code",
     "collapsed": false,
     "input": [
      "train_sgn = train_subset.select('truematch==1').select(\"presel==1\").select(\"signal==1\")\n",
      "train_bkg = train_subset.select(\"presel==1\").select(\"signal==0\")"
     ],
     "language": "python",
     "metadata": {},
     "outputs": [],
     "prompt_number": 8
    },
    {
     "cell_type": "code",
     "collapsed": false,
     "input": [
      "from cern_utils import ef_classifier\n",
      "base_name = \"mikari-topo-8_2014-10-31-13-56\""
     ],
     "language": "python",
     "metadata": {},
     "outputs": [],
     "prompt_number": 11
    },
    {
     "cell_type": "code",
     "collapsed": false,
     "input": [
      "mn_full = ef_classifier.ClassifierEF(directory='mikari-topo/', formula_name=base_name + \"-all-features\", \n",
      "                                     dataset_name=base_name + \"-all-features\", url_base='w73.cern.yandex.net')\n",
      "mn_full.set_params(features=variables, iterations=5000, features_sample_rate_per_iteration=0.8, training_fraction=0.5, regularization=0.05, sync=False)\n",
      "mn_full.fit(train_sgn, train_bkg)"
     ],
     "language": "python",
     "metadata": {},
     "outputs": [
      {
       "metadata": {},
       "output_type": "pyout",
       "prompt_number": 12,
       "text": [
        "<cern_utils.ef_classifier.ClassifierEF at 0x7f08c81f2110>"
       ]
      }
     ],
     "prompt_number": 12
    },
    {
     "cell_type": "code",
     "collapsed": false,
     "input": [
      "mn_small = ef_classifier.ClassifierEF(directory='mikari-topo/', formula_name=base_name + \"-small-features\", \n",
      "                                     dataset_name=base_name + \"-small-features\", url_base='w73.cern.yandex.net')\n",
      "mn_small.set_params(features=variables_small, iterations=5000, features_sample_rate_per_iteration=0.8, training_fraction=0.5, regularization=0.05, sync=False)\n",
      "mn_small.fit(train_sgn, train_bkg)"
     ],
     "language": "python",
     "metadata": {},
     "outputs": [
      {
       "metadata": {},
       "output_type": "pyout",
       "prompt_number": 13,
       "text": [
        "<cern_utils.ef_classifier.ClassifierEF at 0x7f08c81f2c50>"
       ]
      }
     ],
     "prompt_number": 13
    },
    {
     "cell_type": "code",
     "collapsed": false,
     "input": [
      "mn_minpt = ef_classifier.ClassifierEF(directory='mikari-topo/', formula_name=base_name + \"-minpt-cut\", \n",
      "                                     dataset_name=base_name + \"-minpt-cut\", url_base='w73.cern.yandex.net')\n",
      "mn_minpt.set_params(features=variables, iterations=5000, features_sample_rate_per_iteration=0.8, training_fraction=0.5, regularization=0.05, sync=False)\n",
      "mn_minpt.fit(train_sgn.select('minpt > 500'), train_bkg.select('minpt > 500'))"
     ],
     "language": "python",
     "metadata": {},
     "outputs": [
      {
       "metadata": {},
       "output_type": "pyout",
       "prompt_number": 14,
       "text": [
        "<cern_utils.ef_classifier.ClassifierEF at 0x7f08c81f26d0>"
       ]
      }
     ],
     "prompt_number": 14
    },
    {
     "cell_type": "code",
     "collapsed": false,
     "input": [
      "no_nmu_variables = list(variables)\n",
      "no_nmu_variables.remove(\"nmu\")"
     ],
     "language": "python",
     "metadata": {},
     "outputs": [],
     "prompt_number": 15
    },
    {
     "cell_type": "code",
     "collapsed": false,
     "input": [
      "mn_no_nmu = ef_classifier.ClassifierEF(directory='mikari-topo/', formula_name=base_name + \"-no-nmu\", \n",
      "                                     dataset_name=base_name + \"-no-nmu\", url_base='w73.cern.yandex.net')\n",
      "mn_no_nmu.set_params(features=no_nmu_variables, iterations=5000, features_sample_rate_per_iteration=0.8, training_fraction=0.5, regularization=0.05, sync=False)\n",
      "mn_no_nmu.fit(train_sgn, train_bkg)"
     ],
     "language": "python",
     "metadata": {},
     "outputs": [
      {
       "metadata": {},
       "output_type": "pyout",
       "prompt_number": 16,
       "text": [
        "<cern_utils.ef_classifier.ClassifierEF at 0x7f08c81f28d0>"
       ]
      }
     ],
     "prompt_number": 16
    },
    {
     "cell_type": "code",
     "collapsed": false,
     "input": [
      "mn_without_two = dict()\n",
      "for variable in no_nmu_variables:\n",
      "    variable_set = list(no_nmu_variables)\n",
      "    variable_set.remove(variable)\n",
      "    mn_without_two[variable] = ef_classifier.ClassifierEF(directory='mikari-topo/', formula_name=base_name + \"-no-nmu-and-\" + variable, \n",
      "                                     dataset_name=base_name + \"-no-nmu-and-\" + variable, url_base='w73.cern.yandex.net')\n",
      "    mn_without_two[variable].set_params(features=variable_set, iterations=5000, features_sample_rate_per_iteration=0.8, training_fraction=0.5, regularization=0.05, sync=False)\n",
      "    mn_without_two[variable].fit(train_sgn, train_bkg)"
     ],
     "language": "python",
     "metadata": {},
     "outputs": [],
     "prompt_number": 17
    },
    {
     "cell_type": "code",
     "collapsed": false,
     "input": [
      "test_subset_labels = test.get_data(['signal'])['signal']"
     ],
     "language": "python",
     "metadata": {},
     "outputs": [],
     "prompt_number": 18
    },
    {
     "cell_type": "code",
     "collapsed": false,
     "input": [
      "mn_minpt_preds = mn_minpt.predict(test)\n",
      "mn_full_preds = mn_full.predict(test)"
     ],
     "language": "python",
     "metadata": {},
     "outputs": []
    },
    {
     "cell_type": "code",
     "collapsed": false,
     "input": [
      "mn_small_preds = mn_small.predict(test)\n",
      "mn_no_nmu_preds = mn_no_nmu.predict(test)"
     ],
     "language": "python",
     "metadata": {},
     "outputs": []
    },
    {
     "cell_type": "code",
     "collapsed": false,
     "input": [
      "preds_without_two = dict()\n",
      "for variable in no_nmu_variables:\n",
      "    preds_without_two[variable] = mn_without_two[variable].predict(test)"
     ],
     "language": "python",
     "metadata": {},
     "outputs": []
    },
    {
     "cell_type": "code",
     "collapsed": false,
     "input": [
      "eff = dict()\n",
      "eff['trained with minptcut'] = metric(test_subset_labels, mn_minpt_preds)\n",
      "eff['trained with minptcut (with cut on test)'] = metric_minptcut(test_subset_labels, mn_minpt_preds)\n",
      "eff['all features'] = metric(test_subset_labels, mn_full_preds)\n",
      "eff['all features (with cut on test)'] = metric_minptcut(test_subset_labels, mn_full_preds)\n",
      "eff['7 features'] = metric(test_subset_labels, mn_small_preds)\n",
      "eff['7 features (with cut on test)'] = metric_minptcut(test_subset_labels, mn_small_preds)"
     ],
     "language": "python",
     "metadata": {},
     "outputs": []
    },
    {
     "cell_type": "code",
     "collapsed": false,
     "input": [
      "eff['no nmu'] = metric(test_subset_labels, mn_no_nmu_preds)\n",
      "eff['no nmu (with cut on test)'] = metric_minptcut(test_subset_labels, mn_no_nmu_preds)"
     ],
     "language": "python",
     "metadata": {},
     "outputs": []
    },
    {
     "cell_type": "code",
     "collapsed": false,
     "input": [
      "def plot_eff(data_dict, p_label='p_empty', total_label='total_empty', alpha=1, move=3, bar_width=1):\n",
      "    plt.subplots(figsize=(13,7))\n",
      "    color = ['b', 'g', 'r', 'cyan', 'pink', 'orange', 'black', 'yellow', 'brown', 'magenta', 'purple', 'indigo', 'orange', 'violet', 'teal', 'grey']\n",
      "    num = 0\n",
      "    bars = len(data_dict) + 1\n",
      "    for key, value in sorted(data_dict.iteritems()):\n",
      "        move = num\n",
      "        error_config = {'ecolor': '0.3'}\n",
      "        modes = sort(list(set(value.keys())))# - {30000000}))\n",
      "        channel_count = len(modes)\n",
      "        index = np.arange(channel_count)\n",
      "        plt.bar(bars * index + move, [1 - value[mode][p_label] for mode in modes], bar_width,\n",
      "                       alpha=alpha, color=color[num], \n",
      "                       yerr=[sqrt(value[mode][p_label] * (1 - value[mode][p_label]) / value[mode][total_label])\n",
      "                                                   for mode in modes], error_kw=error_config,\n",
      "                       label=key)\n",
      "        \n",
      "        num += 1\n",
      "        plt.xticks(bars * index + move * bar_width, modes)\n",
      "    plt.xlabel('Modes')\n",
      "    plt.ylabel('Inefficiency')\n",
      "    plt.title('Classifier Inefficiency for Matrixnet')\n",
      "    plt.legend(loc='best')\n",
      "    plt.tight_layout()"
     ],
     "language": "python",
     "metadata": {},
     "outputs": [],
     "prompt_number": 47
    },
    {
     "cell_type": "heading",
     "level": 2,
     "metadata": {},
     "source": [
      "2500HZ, With and without minpt cut"
     ]
    },
    {
     "cell_type": "code",
     "collapsed": false,
     "input": [
      "plot_eff(eff)"
     ],
     "language": "python",
     "metadata": {},
     "outputs": [
      {
       "metadata": {},
       "output_type": "display_data",
       "png": "[encoded data removed]",
       "text": [
        "<matplotlib.figure.Figure at 0x35500d90>"
       ]
      }
     ],
     "prompt_number": 41
    },
    {
     "cell_type": "code",
     "collapsed": false,
     "input": [],
     "language": "python",
     "metadata": {},
     "outputs": []
    },
    {
     "cell_type": "code",
     "collapsed": false,
     "input": [
      "cmp_eff = dict()\n",
      "cmp_eff['all features 2500'] = metric(test_subset_labels, mn_full_preds)\n",
      "cmp_eff['all features 5000'] = metric_5000(test_subset_labels, mn_full_preds)\n",
      "cmp_eff['7 features 2500'] = metric(test_subset_labels, mn_small_preds)\n",
      "cmp_eff['7 features 5000'] = metric_5000(test_subset_labels, mn_small_preds)\n",
      "cmp_eff['no nmu 2500'] = metric(test_subset_labels, mn_no_nmu_preds)\n",
      "cmp_eff['no nmu 5000'] = metric_5000(test_subset_labels, mn_no_nmu_preds)"
     ],
     "language": "python",
     "metadata": {},
     "outputs": []
    },
    {
     "cell_type": "heading",
     "level": 2,
     "metadata": {},
     "source": [
      "2500HZ vs 5000HZ, no minpt cut"
     ]
    },
    {
     "cell_type": "code",
     "collapsed": false,
     "input": [
      "plot_eff(cmp_eff)"
     ],
     "language": "python",
     "metadata": {},
     "outputs": [
      {
       "metadata": {},
       "output_type": "display_data",
       "png": "[encoded data removed]",
       "text": [
        "<matplotlib.figure.Figure at 0x1adf75d0>"
       ]
      }
     ],
     "prompt_number": 42
    },
    {
     "cell_type": "code",
     "collapsed": false,
     "input": [],
     "language": "python",
     "metadata": {},
     "outputs": []
    },
    {
     "cell_type": "code",
     "collapsed": false,
     "input": [
      "metric_2500 = topo_utils.metric_generate(test.get_data(), 2500.0 / 1e6, test_empty_events, metric_plot=True)\n",
      "metric_3000 = topo_utils.metric_generate(test.get_data(), 3000.0 / 1e6, test_empty_events, metric_plot=True)\n",
      "metric_3500 = topo_utils.metric_generate(test.get_data(), 3500.0 / 1e6, test_empty_events, metric_plot=True)\n",
      "metric_4000 = topo_utils.metric_generate(test.get_data(), 4000.0 / 1e6, test_empty_events, metric_plot=True)\n",
      "metric_4500 = topo_utils.metric_generate(test.get_data(), 4500.0 / 1e6, test_empty_events, metric_plot=True)\n",
      "metric_5000 = topo_utils.metric_generate(test.get_data(), 5000.0 / 1e6, test_empty_events, metric_plot=True)\n"
     ],
     "language": "python",
     "metadata": {},
     "outputs": []
    },
    {
     "cell_type": "code",
     "collapsed": false,
     "input": [
      "cmp2_eff = dict()\n",
      "cmp2_eff['2500'] = metric_2500(test_subset_labels, mn_full_preds)\n",
      "cmp2_eff['3000'] = metric_3000(test_subset_labels, mn_full_preds)\n",
      "cmp2_eff['3500'] = metric_3500(test_subset_labels, mn_full_preds)\n",
      "cmp2_eff['4000'] = metric_4000(test_subset_labels, mn_full_preds)\n",
      "cmp2_eff['4500'] = metric_4500(test_subset_labels, mn_full_preds)\n",
      "cmp2_eff['5000'] = metric_5000(test_subset_labels, mn_full_preds)"
     ],
     "language": "python",
     "metadata": {},
     "outputs": []
    },
    {
     "cell_type": "heading",
     "level": 2,
     "metadata": {},
     "source": [
      "All features and different HZ"
     ]
    },
    {
     "cell_type": "code",
     "collapsed": false,
     "input": [
      "plot_eff(cmp2_eff)"
     ],
     "language": "python",
     "metadata": {},
     "outputs": [
      {
       "metadata": {},
       "output_type": "display_data",
       "png": "[encoded data removed]",
       "text": [
        "<matplotlib.figure.Figure at 0x3b3db7d0>"
       ]
      }
     ],
     "prompt_number": 43
    },
    {
     "cell_type": "code",
     "collapsed": false,
     "input": [],
     "language": "python",
     "metadata": {},
     "outputs": []
    },
    {
     "cell_type": "code",
     "collapsed": false,
     "input": [
      "def quality_metric(y_true, y_pred):\n",
      "    res = metric_2500(y_true, y_pred)\n",
      "    quality = 0\n",
      "    for key,value in res.iteritems():\n",
      "        if (key != 30000000):\n",
      "            quality += (1 - value[\"p_empty\"] / value[\"total_empty\"]) * (1 - value[\"p_empty\"] / value[\"total_empty\"])\n",
      "    return quality"
     ],
     "language": "python",
     "metadata": {},
     "outputs": []
    },
    {
     "cell_type": "heading",
     "level": 2,
     "metadata": {},
     "source": [
      "Checking every feature importance: by shuffling its values in test and and watching for changes in metric: sum((1 - passed / total)^2)"
     ]
    },
    {
     "cell_type": "code",
     "collapsed": false,
     "input": [
      "mn_no_nmu_importnace = mn_no_nmu.get_feature_importance_on_test(test, test_subset_labels, quality_metric)\n",
      "mn_full_importnace = mn_full.get_feature_importance_on_test(test, test_subset_labels, quality_metric)"
     ],
     "language": "python",
     "metadata": {},
     "outputs": []
    },
    {
     "cell_type": "heading",
     "level": 2,
     "metadata": {},
     "source": [
      "For mn_no_nmu"
     ]
    },
    {
     "cell_type": "code",
     "collapsed": false,
     "input": [
      "default_quality = quality_metric(test_subset_labels, mn_no_nmu_preds)"
     ],
     "language": "python",
     "metadata": {},
     "outputs": []
    },
    {
     "cell_type": "code",
     "collapsed": false,
     "input": [
      "for key, value in sorted(mn_no_nmu_importnace.iteritems(), key=lambda tup: tup[1], reverse=True):\n",
      "    print \"%s - %f\" % (key, value / default_quality - 1)"
     ],
     "language": "python",
     "metadata": {},
     "outputs": [
      {
       "output_type": "stream",
       "stream": "stdout",
       "text": [
        "mcor - 0.000220\n",
        "vchi2 - 0.000144\n",
        "ipchi2 - 0.000036\n",
        "fdchi2 - 0.000034\n",
        "nlt16 - 0.000019\n",
        "m - 0.000018\n",
        "q - 0.000018\n",
        "sumpt - 0.000015\n",
        "n - 0.000015\n",
        "sumipchi2 - 0.000013\n",
        "ptau - 0.000011\n",
        "fdr - 0.000002\n",
        "eta - -0.000001\n",
        "minpt - -0.000006\n",
        "nhlt1 - -0.000007\n"
       ]
      }
     ],
     "prompt_number": 44
    },
    {
     "cell_type": "heading",
     "level": 2,
     "metadata": {},
     "source": [
      "For mn_full:"
     ]
    },
    {
     "cell_type": "code",
     "collapsed": false,
     "input": [
      "full_default_quality = quality_metric(test_subset_labels, mn_full_preds)"
     ],
     "language": "python",
     "metadata": {},
     "outputs": []
    },
    {
     "cell_type": "code",
     "collapsed": false,
     "input": [
      "for key, value in sorted(mn_full_importnace.iteritems(), key=lambda tup: tup[1], reverse=True):\n",
      "    print \"%s - %f\" % (key, value / full_default_quality - 1)"
     ],
     "language": "python",
     "metadata": {},
     "outputs": [
      {
       "output_type": "stream",
       "stream": "stdout",
       "text": [
        "mcor - 0.000223\n",
        "vchi2 - 0.000134\n",
        "fdchi2 - 0.000052\n",
        "ipchi2 - 0.000043\n",
        "ptau - 0.000030\n",
        "nlt16 - 0.000022\n",
        "m - 0.000021\n",
        "sumpt - 0.000020\n",
        "nmu - 0.000017\n",
        "minpt - 0.000016\n",
        "sumipchi2 - 0.000015\n",
        "fdr - 0.000014\n",
        "n - 0.000013\n",
        "q - 0.000010\n",
        "eta - 0.000002\n",
        "nhlt1 - -0.000007\n"
       ]
      }
     ],
     "prompt_number": 45
    },
    {
     "cell_type": "heading",
     "level": 2,
     "metadata": {},
     "source": [
      "Greater value - greater importance of factor"
     ]
    },
    {
     "cell_type": "heading",
     "level": 2,
     "metadata": {},
     "source": [
      "Without nmu and else one feature"
     ]
    },
    {
     "cell_type": "code",
     "collapsed": false,
     "input": [
      "eff_features = dict()\n",
      "for feature, preds in preds_without_two.iteritems():\n",
      "    eff_features[feature] = metric_2500(test_subset_labels, preds)"
     ],
     "language": "python",
     "metadata": {},
     "outputs": []
    },
    {
     "cell_type": "code",
     "collapsed": false,
     "input": [
      "quality = dict()\n",
      "for feature, res in eff_features.iteritems():\n",
      "    quality[feature] = 0\n",
      "    for key,value in res.iteritems():\n",
      "        if (key != 30000000):\n",
      "            quality[feature] += (1 - value[\"p_empty\"] / value[\"total_empty\"]) * (1 - value[\"p_empty\"] / value[\"total_empty\"])"
     ],
     "language": "python",
     "metadata": {},
     "outputs": []
    },
    {
     "cell_type": "code",
     "collapsed": false,
     "input": [
      "eff_features[\"default\"] = cmp_eff['no nmu 2500']"
     ],
     "language": "python",
     "metadata": {},
     "outputs": []
    },
    {
     "cell_type": "code",
     "collapsed": false,
     "input": [
      "plot_eff(eff_features)"
     ],
     "language": "python",
     "metadata": {},
     "outputs": [
      {
       "metadata": {},
       "output_type": "display_data",
       "png": "[encoded data removed]",
       "text": [
        "<matplotlib.figure.Figure at 0x3d1fd190>"
       ]
      }
     ],
     "prompt_number": 48
    },
    {
     "cell_type": "code",
     "collapsed": false,
     "input": [
      "for key, value in sorted(quality.iteritems(), key=lambda tup: tup[1], reverse=True):\n",
      "    print \"%s - %f\" % (key, value / default_quality - 1)"
     ],
     "language": "python",
     "metadata": {},
     "outputs": [
      {
       "output_type": "stream",
       "stream": "stdout",
       "text": [
        "vchi2 - 0.000045\n",
        "ipchi2 - 0.000014\n",
        "q - 0.000011\n",
        "n - 0.000008\n",
        "minpt - 0.000008\n",
        "nlt16 - 0.000008\n",
        "m - 0.000007\n",
        "fdchi2 - 0.000003\n",
        "sumipchi2 - -0.000003\n",
        "eta - -0.000003\n",
        "mcor - -0.000003\n",
        "ptau - -0.000004\n",
        "fdr - -0.000005\n",
        "sumpt - -0.000007\n",
        "nhlt1 - -0.000007\n"
       ]
      }
     ],
     "prompt_number": 49
    },
    {
     "cell_type": "code",
     "collapsed": false,
     "input": [],
     "language": "python",
     "metadata": {},
     "outputs": []
    },
    {
     "cell_type": "code",
     "collapsed": false,
     "input": [],
     "language": "python",
     "metadata": {},
     "outputs": []
    }
   ],
   "metadata": {}
  }
 ]
}