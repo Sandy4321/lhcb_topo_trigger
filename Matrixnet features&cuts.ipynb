{
 "metadata": {
  "name": "",
  "signature": "sha256:c5484b4ebae36f62232b330ec6986529afe1dd922fbbaa0d48e2799374a21fdd"
 },
 "nbformat": 3,
 "nbformat_minor": 0,
 "worksheets": [
  {
   "cells": [
    {
     "cell_type": "code",
     "collapsed": false,
     "input": [
      "import sys\n",
      "sys.path.insert(0, '/home/mikari/REP')\n",
      "sys.path.insert(0, '/local/userdata/shelf/notebook/axelr/lhcb_trigger_ml/IPythonWorkflow/')\n",
      "sys.path.insert(0, '/home/mikari/topo_code')\n",
      "import topo_utils\n",
      "import cern_utils\n",
      "from cern_utils import converter_csv\n",
      "\n",
      "train = converter_csv.load_from_csv('/local/userdata/shelf/notebook/mikari/topo/learn_data_updated_data/train', sep='\\t')\n",
      "test = converter_csv.load_from_csv('/local/userdata/shelf/notebook/mikari/topo/learn_data_updated_data/test', sep='\\t')\n",
      "\n",
      "train,test = topo_utils.append_labels([train, test])\n",
      "train = train.select('is_passed_l0_goodGenB==1')\n",
      "test = train.select('is_passed_l0_goodGenB==1')\n",
      "train = topo_utils.add_folding_field(train, 1000)\n",
      "test = topo_utils.add_folding_field(test, 1000)\n",
      "train_subset = cern_utils.data_storage.DataStorage.union([train.select('signal==1').select('fold < 300'), train.select('signal==0')])\n",
      "# test_subset = cern_utils.data_storage.DataStorage.union([test.select('signal==1').select('fold < 300'), test.select('signal==0')])\n"
     ],
     "language": "python",
     "metadata": {},
     "outputs": [],
     "prompt_number": 1
    },
    {
     "cell_type": "code",
     "collapsed": false,
     "input": [
      "empty_events = {\n",
      "    11114001: 151 ,\n",
      "    11124001: 52 ,\n",
      "    12103035: 417 ,\n",
      "    12165106: 317 ,\n",
      "    12265042: 56 ,\n",
      "    11874042: 139 ,\n",
      "    11296013: 23 ,\n",
      "    30000000: 107352 ,\n",
      "}\n",
      "\n",
      "test_empty_events = {}\n",
      "for key, value in empty_events.iteritems():\n",
      "    if (key == 30000000):\n",
      "        test_empty_events[key] = value * 0.5\n",
      "    else:\n",
      "        test_empty_events[key] = value * 0.5\n",
      "    \n",
      "print test_empty_events"
     ],
     "language": "python",
     "metadata": {},
     "outputs": [
      {
       "output_type": "stream",
       "stream": "stdout",
       "text": [
        "{30000000: 53676.0, 11124001: 26.0, 12265042: 28.0, 11296013: 11.5, 11114001: 75.5, 12165106: 158.5, 11874042: 69.5, 12103035: 208.5}\n"
       ]
      }
     ],
     "prompt_number": 2
    },
    {
     "cell_type": "code",
     "collapsed": false,
     "input": [
      "variables = [\"sumpt\",\n",
      "             \"m\",\n",
      "             \"mcor\",\n",
      "             \"ipchi2\",\n",
      "             \"vchi2\",\n",
      "             \"sumipchi2\",\n",
      "             \"fdr\",\n",
      "             \"nlt16\",\n",
      "             \"minpt\",\n",
      "             \"ptau\",\n",
      "             \"q\",\n",
      "             \"eta\",\n",
      "             \"nhlt1\",\n",
      "             \"nmu\",\n",
      "             \"n\",\n",
      "             \"fdchi2\"]\n",
      "\n",
      "variables_small = [\"sumpt\",\n",
      "             \"m\",\n",
      "             \"mcor\",\n",
      "             \"ipchi2\",\n",
      "             \"vchi2\",\n",
      "             \"fdchi2\",\n",
      "             \"minpt\"]"
     ],
     "language": "python",
     "metadata": {},
     "outputs": [],
     "prompt_number": 3
    },
    {
     "cell_type": "code",
     "collapsed": false,
     "input": [
      "reload(topo_utils)\n",
      "metric = topo_utils.metric_generate(test.get_data(), 2500.0 / 1e6, test_empty_events, metric_plot=True)\n",
      "metric_5000 = topo_utils.metric_generate(test.get_data(), 5000.0 / 1e6, test_empty_events, metric_plot=True)\n",
      "\n",
      "def minpt_cut(data):\n",
      "    return numpy.array(data['minpt'] > 500)\n",
      "\n",
      "metric_minptcut = topo_utils.metric_generate(\n",
      "    test.get_data(),\n",
      "    2500.0 / 1e6,\n",
      "    test_empty_events,\n",
      "    metric_plot=True,\n",
      "    additional_cut=minpt_cut)\n",
      "\n",
      "metric_minptcut_5000 = topo_utils.metric_generate(\n",
      "    test.get_data(),\n",
      "    5000.0 / 1e6,\n",
      "    test_empty_events,\n",
      "    metric_plot=True,\n",
      "    additional_cut=minpt_cut)"
     ],
     "language": "python",
     "metadata": {},
     "outputs": [
      {
       "output_type": "stream",
       "stream": "stdout",
       "text": [
        "182\n",
        "364"
       ]
      },
      {
       "output_type": "stream",
       "stream": "stdout",
       "text": [
        "\n",
        "182"
       ]
      },
      {
       "output_type": "stream",
       "stream": "stdout",
       "text": [
        "\n",
        "364"
       ]
      },
      {
       "output_type": "stream",
       "stream": "stdout",
       "text": [
        "\n"
       ]
      }
     ],
     "prompt_number": 4
    },
    {
     "cell_type": "code",
     "collapsed": false,
     "input": [
      "a = minpt_cut(test.get_data())"
     ],
     "language": "python",
     "metadata": {},
     "outputs": [],
     "prompt_number": 5
    },
    {
     "cell_type": "code",
     "collapsed": false,
     "input": [
      "a"
     ],
     "language": "python",
     "metadata": {},
     "outputs": [
      {
       "metadata": {},
       "output_type": "pyout",
       "prompt_number": 6,
       "text": [
        "array([ True,  True,  True, ..., False, False,  True], dtype=bool)"
       ]
      }
     ],
     "prompt_number": 6
    },
    {
     "cell_type": "code",
     "collapsed": false,
     "input": [
      "train_sgn = train_subset.select('truematch==1').select(\"presel==1\").select(\"signal==1\")\n",
      "train_bkg = train_subset.select(\"presel==1\").select(\"signal==0\")"
     ],
     "language": "python",
     "metadata": {},
     "outputs": [],
     "prompt_number": 7
    },
    {
     "cell_type": "code",
     "collapsed": false,
     "input": [
      "from cern_utils import ef_classifier"
     ],
     "language": "python",
     "metadata": {},
     "outputs": [],
     "prompt_number": 8
    },
    {
     "cell_type": "code",
     "collapsed": false,
     "input": [
      "mn_full = ef_classifier.ClassifierEF(directory='mikari-topo/', formula_name='mikari_topo_all_features-new-3', \n",
      "                                     dataset_name='mikari_topo_all_features-new-3', url_base='w73.cern.yandex.net')\n",
      "mn_full.set_params(features=variables, iterations=5000, features_sample_rate_per_iteration=0.8, training_fraction=0.5, regularization=0.05, sync=False)\n",
      "mn_full.fit(train_sgn, train_bkg)"
     ],
     "language": "python",
     "metadata": {},
     "outputs": [
      {
       "metadata": {},
       "output_type": "pyout",
       "prompt_number": 9,
       "text": [
        "<cern_utils.ef_classifier.ClassifierEF at 0x7f65cdb1da50>"
       ]
      }
     ],
     "prompt_number": 9
    },
    {
     "cell_type": "code",
     "collapsed": false,
     "input": [
      "mn_small = ef_classifier.ClassifierEF(directory='mikari-topo/', formula_name='mikari_topo_small_features-new-3_1', \n",
      "                                     dataset_name='mikari_topo_small_features-new-3_1', url_base='w73.cern.yandex.net')\n",
      "mn_small.set_params(features=variables_small, iterations=5000, features_sample_rate_per_iteration=0.8, training_fraction=0.5, regularization=0.05, sync=False)\n",
      "mn_small.fit(train_sgn, train_bkg)"
     ],
     "language": "python",
     "metadata": {},
     "outputs": [
      {
       "metadata": {},
       "output_type": "pyout",
       "prompt_number": 17,
       "text": [
        "<cern_utils.ef_classifier.ClassifierEF at 0x7f660b652050>"
       ]
      }
     ],
     "prompt_number": 17
    },
    {
     "cell_type": "code",
     "collapsed": false,
     "input": [
      "mn_minpt = ef_classifier.ClassifierEF(directory='mikari-topo/', formula_name='mikari_topo_minpt-new-3', \n",
      "                                     dataset_name='mikari_topo_minpt-new-3', url_base='w73.cern.yandex.net')\n",
      "mn_minpt.set_params(features=variables, iterations=5000, features_sample_rate_per_iteration=0.8, training_fraction=0.5, regularization=0.05, sync=False)\n",
      "mn_minpt.fit(train_sgn.select('minpt > 500'), train_bkg.select('minpt > 500'))"
     ],
     "language": "python",
     "metadata": {},
     "outputs": [
      {
       "metadata": {},
       "output_type": "pyout",
       "prompt_number": 11,
       "text": [
        "<cern_utils.ef_classifier.ClassifierEF at 0x7f65cdb1a750>"
       ]
      }
     ],
     "prompt_number": 11
    },
    {
     "cell_type": "code",
     "collapsed": false,
     "input": [
      "no_nmu_variables = list(variables)\n",
      "no_nmu_variables.remove(\"nmu\")"
     ],
     "language": "python",
     "metadata": {},
     "outputs": [],
     "prompt_number": 12
    },
    {
     "cell_type": "code",
     "collapsed": false,
     "input": [
      "mn_no_nmu = ef_classifier.ClassifierEF(directory='mikari-topo/', formula_name='mikari_topo_no_nmu-new-3', \n",
      "                                     dataset_name='mikari_topo_no_nmu-new-3', url_base='w73.cern.yandex.net')\n",
      "mn_no_nmu.set_params(features=no_nmu_variables, iterations=5000, features_sample_rate_per_iteration=0.8, training_fraction=0.5, regularization=0.05, sync=False)\n",
      "mn_no_nmu.fit(train_sgn, train_bkg)"
     ],
     "language": "python",
     "metadata": {},
     "outputs": [
      {
       "metadata": {},
       "output_type": "pyout",
       "prompt_number": 13,
       "text": [
        "<cern_utils.ef_classifier.ClassifierEF at 0x7f65cdb1a890>"
       ]
      }
     ],
     "prompt_number": 13
    },
    {
     "cell_type": "code",
     "collapsed": false,
     "input": [
      "test_subset_labels = test.get_data(['signal'])['signal']"
     ],
     "language": "python",
     "metadata": {},
     "outputs": [],
     "prompt_number": 14
    },
    {
     "cell_type": "code",
     "collapsed": false,
     "input": [
      "mn_minpt_preds = mn_minpt.predict(test)\n",
      "mn_full_preds = mn_full.predict(test)"
     ],
     "language": "python",
     "metadata": {},
     "outputs": [
      {
       "ename": "error",
       "evalue": "unpack requires a string argument of length 4",
       "output_type": "pyerr",
       "traceback": [
        "\u001b[1;31m---------------------------------------------------------------------------\u001b[0m\n\u001b[1;31merror\u001b[0m                                     Traceback (most recent call last)",
        "\u001b[1;32m<ipython-input-16-982e096e5b42>\u001b[0m in \u001b[0;36m<module>\u001b[1;34m()\u001b[0m\n\u001b[0;32m      1\u001b[0m \u001b[0mmn_minpt_preds\u001b[0m \u001b[1;33m=\u001b[0m \u001b[0mmn_minpt\u001b[0m\u001b[1;33m.\u001b[0m\u001b[0mpredict\u001b[0m\u001b[1;33m(\u001b[0m\u001b[0mtest\u001b[0m\u001b[1;33m)\u001b[0m\u001b[1;33m\u001b[0m\u001b[0m\n\u001b[0;32m      2\u001b[0m \u001b[0mmn_full_preds\u001b[0m \u001b[1;33m=\u001b[0m \u001b[0mmn_full\u001b[0m\u001b[1;33m.\u001b[0m\u001b[0mpredict\u001b[0m\u001b[1;33m(\u001b[0m\u001b[0mtest\u001b[0m\u001b[1;33m)\u001b[0m\u001b[1;33m\u001b[0m\u001b[0m\n\u001b[1;32m----> 3\u001b[1;33m \u001b[0mmn_small_preds\u001b[0m \u001b[1;33m=\u001b[0m \u001b[0mmn_small\u001b[0m\u001b[1;33m.\u001b[0m\u001b[0mpredict\u001b[0m\u001b[1;33m(\u001b[0m\u001b[0mtest\u001b[0m\u001b[1;33m)\u001b[0m\u001b[1;33m\u001b[0m\u001b[0m\n\u001b[0m",
        "\u001b[1;32m/home/mikari/REP/cern_utils/ef_classifier.py\u001b[0m in \u001b[0;36mpredict\u001b[1;34m(self, ds)\u001b[0m\n\u001b[0;32m    317\u001b[0m         \u001b[0mself\u001b[0m\u001b[1;33m.\u001b[0m\u001b[0m_check_formula\u001b[0m\u001b[1;33m(\u001b[0m\u001b[1;33m)\u001b[0m\u001b[1;33m\u001b[0m\u001b[0m\n\u001b[0;32m    318\u001b[0m         \u001b[0mdata\u001b[0m \u001b[1;33m=\u001b[0m \u001b[0mds\u001b[0m\u001b[1;33m.\u001b[0m\u001b[0mget_data\u001b[0m\u001b[1;33m(\u001b[0m\u001b[0mself\u001b[0m\u001b[1;33m.\u001b[0m\u001b[0mfeatures\u001b[0m\u001b[1;33m)\u001b[0m\u001b[1;33m.\u001b[0m\u001b[0mastype\u001b[0m\u001b[1;33m(\u001b[0m\u001b[0mfloat\u001b[0m\u001b[1;33m)\u001b[0m\u001b[1;33m\u001b[0m\u001b[0m\n\u001b[1;32m--> 319\u001b[1;33m         \u001b[0mmx\u001b[0m \u001b[1;33m=\u001b[0m \u001b[0mMatrixnetClassifier\u001b[0m\u001b[1;33m(\u001b[0m\u001b[0mStringIO\u001b[0m\u001b[1;33m.\u001b[0m\u001b[0mStringIO\u001b[0m\u001b[1;33m(\u001b[0m\u001b[0mself\u001b[0m\u001b[1;33m.\u001b[0m\u001b[0mformula_mx\u001b[0m\u001b[1;33m)\u001b[0m\u001b[1;33m)\u001b[0m\u001b[1;33m\u001b[0m\u001b[0m\n\u001b[0m\u001b[0;32m    320\u001b[0m         \u001b[0mresult_mn\u001b[0m \u001b[1;33m=\u001b[0m \u001b[1;33m[\u001b[0m\u001b[1;33m]\u001b[0m\u001b[1;33m\u001b[0m\u001b[0m\n\u001b[0;32m    321\u001b[0m         \u001b[1;32mfor\u001b[0m \u001b[0m_\u001b[0m\u001b[1;33m,\u001b[0m \u001b[0mevent\u001b[0m \u001b[1;32min\u001b[0m \u001b[0mdata\u001b[0m\u001b[1;33m.\u001b[0m\u001b[0miterrows\u001b[0m\u001b[1;33m(\u001b[0m\u001b[1;33m)\u001b[0m\u001b[1;33m:\u001b[0m\u001b[1;33m\u001b[0m\u001b[0m\n",
        "\u001b[1;32m/mnt/w76/venv/py27/local/lib/python2.7/dist-packages/embedded_matrixnet.so\u001b[0m in \u001b[0;36membedded_matrixnet.MatrixnetClassifier.__init__ (cython-modules/embedded_matrixnet.cpp:1039)\u001b[1;34m()\u001b[0m\n",
        "\u001b[1;31merror\u001b[0m: unpack requires a string argument of length 4"
       ]
      }
     ],
     "prompt_number": 16
    },
    {
     "cell_type": "code",
     "collapsed": false,
     "input": [
      "mn_small_preds = mn_small.predict(test)\n",
      "mn_no_nmu_preds = mn_no_nmu.predict(test)"
     ],
     "language": "python",
     "metadata": {},
     "outputs": [],
     "prompt_number": 18
    },
    {
     "cell_type": "code",
     "collapsed": false,
     "input": [
      "eff = dict()\n",
      "eff['trained with minptcut'] = metric(test_subset_labels, mn_minpt_preds)\n",
      "eff['trained with minptcut (with cut on test)'] = metric_minptcut(test_subset_labels, mn_minpt_preds)\n",
      "eff['all features'] = metric(test_subset_labels, mn_full_preds)\n",
      "eff['all features (with cut on test)'] = metric_minptcut(test_subset_labels, mn_full_preds)\n",
      "eff['7 features'] = metric(test_subset_labels, mn_small_preds)\n",
      "eff['7 features (with cut on test)'] = metric_minptcut(test_subset_labels, mn_small_preds)"
     ],
     "language": "python",
     "metadata": {},
     "outputs": [
      {
       "output_type": "stream",
       "stream": "stdout",
       "text": [
        "2\n",
        "0.878464104082"
       ]
      },
      {
       "output_type": "stream",
       "stream": "stdout",
       "text": [
        "\n",
        "1"
       ]
      },
      {
       "output_type": "stream",
       "stream": "stdout",
       "text": [
        "\n",
        "0.844232479978"
       ]
      },
      {
       "output_type": "stream",
       "stream": "stdout",
       "text": [
        "\n",
        "2"
       ]
      },
      {
       "output_type": "stream",
       "stream": "stdout",
       "text": [
        "\n",
        "0.875518880472"
       ]
      },
      {
       "output_type": "stream",
       "stream": "stdout",
       "text": [
        "\n",
        "1"
       ]
      },
      {
       "output_type": "stream",
       "stream": "stdout",
       "text": [
        "\n",
        "0.87304670181"
       ]
      },
      {
       "output_type": "stream",
       "stream": "stdout",
       "text": [
        "\n",
        "2"
       ]
      },
      {
       "output_type": "stream",
       "stream": "stdout",
       "text": [
        "\n",
        "0.926885350399"
       ]
      },
      {
       "output_type": "stream",
       "stream": "stdout",
       "text": [
        "\n",
        "1"
       ]
      },
      {
       "output_type": "stream",
       "stream": "stdout",
       "text": [
        "\n",
        "0.925767734709"
       ]
      },
      {
       "output_type": "stream",
       "stream": "stdout",
       "text": [
        "\n"
       ]
      }
     ],
     "prompt_number": 19
    },
    {
     "cell_type": "code",
     "collapsed": false,
     "input": [
      "eff['no nmu'] = metric(test_subset_labels, mn_no_nmu_preds)\n",
      "eff['no nmu (with cut on test)'] = metric_minptcut(test_subset_labels, mn_no_nmu_preds)"
     ],
     "language": "python",
     "metadata": {},
     "outputs": [
      {
       "output_type": "stream",
       "stream": "stdout",
       "text": [
        "2\n",
        "0.884937467981"
       ]
      },
      {
       "output_type": "stream",
       "stream": "stdout",
       "text": [
        "\n",
        "1"
       ]
      },
      {
       "output_type": "stream",
       "stream": "stdout",
       "text": [
        "\n",
        "0.8844318506"
       ]
      },
      {
       "output_type": "stream",
       "stream": "stdout",
       "text": [
        "\n"
       ]
      }
     ],
     "prompt_number": 20
    },
    {
     "cell_type": "code",
     "collapsed": false,
     "input": [
      "def plot_eff(data_dict, p_label='p_empty', total_label='total_empty', alpha=1, move=3, bar_width=1):\n",
      "    plt.subplots(figsize=(13,7))\n",
      "    color = ['b', 'g', 'cyan', 'pink', 'orange', 'black', 'yellow', 'brown']\n",
      "    num = 0\n",
      "    bars = len(data_dict) + 1\n",
      "    for key, value in sorted(data_dict.iteritems()):\n",
      "        move = num\n",
      "        error_config = {'ecolor': '0.3'}\n",
      "        modes = sort(list(set(value.keys())))# - {30000000}))\n",
      "        channel_count = len(modes)\n",
      "        index = np.arange(channel_count)\n",
      "        plt.bar(bars * index + move, [1 - value[mode][p_label] for mode in modes], bar_width,\n",
      "                       alpha=alpha, color=color[num], \n",
      "                       yerr=[sqrt(value[mode][p_label] * (1 - value[mode][p_label]) / value[mode][total_label])\n",
      "                                                   for mode in modes], error_kw=error_config,\n",
      "                       label=key)\n",
      "        \n",
      "        num += 1\n",
      "        plt.xticks(bars * index + move * bar_width, modes)\n",
      "    plt.xlabel('Modes')\n",
      "    plt.ylabel('Inefficiency')\n",
      "    plt.title('Classifier Inefficiency for Matrixnet')\n",
      "    plt.legend(loc='best')\n",
      "    plt.tight_layout()"
     ],
     "language": "python",
     "metadata": {},
     "outputs": [],
     "prompt_number": 21
    },
    {
     "cell_type": "heading",
     "level": 2,
     "metadata": {},
     "source": [
      "2500HZ, With and without minpt cut"
     ]
    },
    {
     "cell_type": "code",
     "collapsed": false,
     "input": [
      "plot_eff(eff)"
     ],
     "language": "python",
     "metadata": {},
     "outputs": [
      {
       "metadata": {},
       "output_type": "display_data",
       "png": "[encoded data removed]",
       "text": [
        "<matplotlib.figure.Figure at 0x7f65cdb1d490>"
       ]
      }
     ],
     "prompt_number": 22
    },
    {
     "cell_type": "code",
     "collapsed": false,
     "input": [],
     "language": "python",
     "metadata": {},
     "outputs": [],
     "prompt_number": 22
    },
    {
     "cell_type": "code",
     "collapsed": false,
     "input": [
      "eff = dict()\n",
      "eff['all features 2500'] = metric(test_subset_labels, mn_full_preds)\n",
      "eff['all features 5000'] = metric_5000(test_subset_labels, mn_full_preds)\n",
      "eff['7 features 2500'] = metric(test_subset_labels, mn_small_preds)\n",
      "eff['7 features 5000'] = metric_5000(test_subset_labels, mn_small_preds)\n",
      "eff['no nmu 2500'] = metric(test_subset_labels, mn_no_nmu_preds)\n",
      "eff['no nmu 5000'] = metric_5000(test_subset_labels, mn_no_nmu_preds)"
     ],
     "language": "python",
     "metadata": {},
     "outputs": [
      {
       "output_type": "stream",
       "stream": "stdout",
       "text": [
        "2\n",
        "0.875518880472"
       ]
      },
      {
       "output_type": "stream",
       "stream": "stdout",
       "text": [
        "\n",
        "2"
       ]
      },
      {
       "output_type": "stream",
       "stream": "stdout",
       "text": [
        "\n",
        "0.780042266313"
       ]
      },
      {
       "output_type": "stream",
       "stream": "stdout",
       "text": [
        "\n",
        "2"
       ]
      },
      {
       "output_type": "stream",
       "stream": "stdout",
       "text": [
        "\n",
        "0.926885350399"
       ]
      },
      {
       "output_type": "stream",
       "stream": "stdout",
       "text": [
        "\n",
        "2"
       ]
      },
      {
       "output_type": "stream",
       "stream": "stdout",
       "text": [
        "\n",
        "0.862816293823"
       ]
      },
      {
       "output_type": "stream",
       "stream": "stdout",
       "text": [
        "\n",
        "2"
       ]
      },
      {
       "output_type": "stream",
       "stream": "stdout",
       "text": [
        "\n",
        "0.884937467981"
       ]
      },
      {
       "output_type": "stream",
       "stream": "stdout",
       "text": [
        "\n",
        "2"
       ]
      },
      {
       "output_type": "stream",
       "stream": "stdout",
       "text": [
        "\n",
        "0.796124857181"
       ]
      },
      {
       "output_type": "stream",
       "stream": "stdout",
       "text": [
        "\n"
       ]
      }
     ],
     "prompt_number": 23
    },
    {
     "cell_type": "heading",
     "level": 2,
     "metadata": {},
     "source": [
      "2500HZ vs 5000HZ, no minpt cut"
     ]
    },
    {
     "cell_type": "code",
     "collapsed": false,
     "input": [
      "plot_eff(eff)"
     ],
     "language": "python",
     "metadata": {},
     "outputs": [
      {
       "metadata": {},
       "output_type": "display_data",
       "png": "[encoded data removed]",
       "text": [
        "<matplotlib.figure.Figure at 0x7f6650e9a5d0>"
       ]
      }
     ],
     "prompt_number": 24
    },
    {
     "cell_type": "code",
     "collapsed": false,
     "input": [],
     "language": "python",
     "metadata": {},
     "outputs": []
    },
    {
     "cell_type": "code",
     "collapsed": false,
     "input": [],
     "language": "python",
     "metadata": {},
     "outputs": []
    }
   ],
   "metadata": {}
  }
 ]
}