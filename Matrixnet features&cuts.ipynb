{
 "metadata": {
  "name": "",
  "signature": "sha256:ad92f61202bd92753d27230887a47d1f4ba3c72e27a3586d0b8faa239302672e"
 },
 "nbformat": 3,
 "nbformat_minor": 0,
 "worksheets": [
  {
   "cells": [
    {
     "cell_type": "code",
     "collapsed": false,
     "input": [
      "import sys\n",
      "sys.path.insert(0, '/home/mikari/REP')\n",
      "sys.path.insert(0, '/local/userdata/shelf/notebook/axelr/lhcb_trigger_ml/IPythonWorkflow/')\n",
      "sys.path.insert(0, '/home/mikari/topo_code')\n",
      "import topo_utils\n",
      "import cern_utils\n",
      "from cern_utils import converter_csv\n",
      "\n",
      "train = converter_csv.load_from_csv('/local/userdata/shelf/notebook/mikari/topo/learn_data_updated_data/train', sep='\\t')\n",
      "test = converter_csv.load_from_csv('/local/userdata/shelf/notebook/mikari/topo/learn_data_updated_data/test', sep='\\t')\n",
      "\n",
      "train,test = topo_utils.append_labels([train, test])\n",
      "train = train.select('is_passed_l0_goodGenB==1')\n",
      "test = test.select('is_passed_l0_goodGenB==1')\n",
      "train = topo_utils.add_folding_field(train, 1000)\n",
      "test = topo_utils.add_folding_field(test, 1000)\n",
      "train_subset = cern_utils.data_storage.DataStorage.union([train.select('signal==1').select('fold < 1000'), train.select('signal==0')])\n",
      "# test_subset = cern_utils.data_storage.DataStorage.union([test.select('signal==1').select('fold < 300'), test.select('signal==0')])\n"
     ],
     "language": "python",
     "metadata": {},
     "outputs": []
    },
    {
     "cell_type": "code",
     "collapsed": false,
     "input": [
      "empty_events = {\n",
      "    11114001: 164  ,\n",
      "    11124001: 49  ,\n",
      "    12103035: 421  ,\n",
      "    12165106: 273  ,\n",
      "    12265042: 53  ,\n",
      "    11874042: 129  ,\n",
      "    11296013: 23 ,\n",
      "    30000000: 107352  ,\n",
      "}\n",
      "\n",
      "test_empty_events = {}\n",
      "for key, value in empty_events.iteritems():\n",
      "    if (key == 30000000):\n",
      "        test_empty_events[key] = value * 0.5\n",
      "    else:\n",
      "        test_empty_events[key] = value * 0.5\n",
      "    \n",
      "print test_empty_events"
     ],
     "language": "python",
     "metadata": {},
     "outputs": []
    },
    {
     "cell_type": "code",
     "collapsed": false,
     "input": [
      "variables = [\"sumpt\",\n",
      "             \"m\",\n",
      "             \"mcor\",\n",
      "             \"ipchi2\",\n",
      "             \"vchi2\",\n",
      "             \"sumipchi2\",\n",
      "             \"fdr\",\n",
      "             \"nlt16\",\n",
      "             \"minpt\",\n",
      "             \"ptau\",\n",
      "             \"q\",\n",
      "             \"eta\",\n",
      "             \"nhlt1\",\n",
      "             \"nmu\",\n",
      "             \"n\",\n",
      "             \"fdchi2\"]\n",
      "\n",
      "variables_small = [\"sumpt\",\n",
      "             \"m\",\n",
      "             \"mcor\",\n",
      "             \"ipchi2\",\n",
      "             \"vchi2\",\n",
      "             \"fdchi2\",\n",
      "             \"minpt\"]"
     ],
     "language": "python",
     "metadata": {},
     "outputs": []
    },
    {
     "cell_type": "code",
     "collapsed": false,
     "input": [
      "reload(topo_utils)\n",
      "metric = topo_utils.metric_generate(test.get_data(), 2500.0 / 1e6, test_empty_events, metric_plot=True)\n",
      "metric_5000 = topo_utils.metric_generate(test.get_data(), 5000.0 / 1e6, test_empty_events, metric_plot=True)\n",
      "\n",
      "def minpt_cut(data):\n",
      "    return numpy.array(data['minpt'] > 500)\n",
      "\n",
      "metric_minptcut = topo_utils.metric_generate(\n",
      "    test.get_data(),\n",
      "    2500.0 / 1e6,\n",
      "    test_empty_events,\n",
      "    metric_plot=True,\n",
      "    additional_cut=minpt_cut)\n",
      "\n",
      "metric_minptcut_5000 = topo_utils.metric_generate(\n",
      "    test.get_data(),\n",
      "    5000.0 / 1e6,\n",
      "    test_empty_events,\n",
      "    metric_plot=True,\n",
      "    additional_cut=minpt_cut)"
     ],
     "language": "python",
     "metadata": {},
     "outputs": []
    },
    {
     "cell_type": "code",
     "collapsed": false,
     "input": [
      "a = minpt_cut(test.get_data())"
     ],
     "language": "python",
     "metadata": {},
     "outputs": []
    },
    {
     "cell_type": "code",
     "collapsed": false,
     "input": [
      "a"
     ],
     "language": "python",
     "metadata": {},
     "outputs": []
    },
    {
     "cell_type": "code",
     "collapsed": false,
     "input": [
      "train_sgn = train_subset.select('truematch==1').select(\"presel==1\").select(\"signal==1\")\n",
      "train_bkg = train_subset.select(\"presel==1\").select(\"signal==0\")"
     ],
     "language": "python",
     "metadata": {},
     "outputs": []
    },
    {
     "cell_type": "code",
     "collapsed": false,
     "input": [
      "from cern_utils import ef_classifier"
     ],
     "language": "python",
     "metadata": {},
     "outputs": []
    },
    {
     "cell_type": "code",
     "collapsed": false,
     "input": [
      "mn_full = ef_classifier.ClassifierEF(directory='mikari-topo/', formula_name='mikari_topo_all_features-new-4-fixed', \n",
      "                                     dataset_name='mikari_topo_all_features-new-4-fixed', url_base='w73.cern.yandex.net')\n",
      "mn_full.set_params(features=variables, iterations=5000, features_sample_rate_per_iteration=0.8, training_fraction=0.5, regularization=0.05, sync=False)\n",
      "mn_full.fit(train_sgn, train_bkg)"
     ],
     "language": "python",
     "metadata": {},
     "outputs": []
    },
    {
     "cell_type": "code",
     "collapsed": false,
     "input": [
      "mn_small = ef_classifier.ClassifierEF(directory='mikari-topo/', formula_name='mikari_topo_small_features-new-4-fixed', \n",
      "                                     dataset_name='mikari_topo_small_features-new-4-fixed', url_base='w73.cern.yandex.net')\n",
      "mn_small.set_params(features=variables_small, iterations=5000, features_sample_rate_per_iteration=0.8, training_fraction=0.5, regularization=0.05, sync=False)\n",
      "mn_small.fit(train_sgn, train_bkg)"
     ],
     "language": "python",
     "metadata": {},
     "outputs": []
    },
    {
     "cell_type": "code",
     "collapsed": false,
     "input": [
      "mn_minpt = ef_classifier.ClassifierEF(directory='mikari-topo/', formula_name='mikari_topo_minpt-new-4-fixed', \n",
      "                                     dataset_name='mikari_topo_minpt-new-4-fixed', url_base='w73.cern.yandex.net')\n",
      "mn_minpt.set_params(features=variables, iterations=5000, features_sample_rate_per_iteration=0.8, training_fraction=0.5, regularization=0.05, sync=False)\n",
      "mn_minpt.fit(train_sgn.select('minpt > 500'), train_bkg.select('minpt > 500'))"
     ],
     "language": "python",
     "metadata": {},
     "outputs": []
    },
    {
     "cell_type": "code",
     "collapsed": false,
     "input": [
      "no_nmu_variables = list(variables)\n",
      "no_nmu_variables.remove(\"nmu\")"
     ],
     "language": "python",
     "metadata": {},
     "outputs": []
    },
    {
     "cell_type": "code",
     "collapsed": false,
     "input": [
      "mn_no_nmu = ef_classifier.ClassifierEF(directory='mikari-topo/', formula_name='mikari_topo_no_nmu-new-4-fixed', \n",
      "                                     dataset_name='mikari_topo_no_nmu-new-4-fixed', url_base='w73.cern.yandex.net')\n",
      "mn_no_nmu.set_params(features=no_nmu_variables, iterations=5000, features_sample_rate_per_iteration=0.8, training_fraction=0.5, regularization=0.05, sync=False)\n",
      "mn_no_nmu.fit(train_sgn, train_bkg)"
     ],
     "language": "python",
     "metadata": {},
     "outputs": []
    },
    {
     "cell_type": "code",
     "collapsed": false,
     "input": [
      "test_subset_labels = test.get_data(['signal'])['signal']"
     ],
     "language": "python",
     "metadata": {},
     "outputs": []
    },
    {
     "cell_type": "code",
     "collapsed": false,
     "input": [
      "mn_minpt_preds = mn_minpt.predict(test)\n",
      "mn_full_preds = mn_full.predict(test)"
     ],
     "language": "python",
     "metadata": {},
     "outputs": []
    },
    {
     "cell_type": "code",
     "collapsed": false,
     "input": [
      "mn_small_preds = mn_small.predict(test)\n",
      "mn_no_nmu_preds = mn_no_nmu.predict(test)"
     ],
     "language": "python",
     "metadata": {},
     "outputs": []
    },
    {
     "cell_type": "code",
     "collapsed": false,
     "input": [
      "eff = dict()\n",
      "eff['trained with minptcut'] = metric(test_subset_labels, mn_minpt_preds)\n",
      "eff['trained with minptcut (with cut on test)'] = metric_minptcut(test_subset_labels, mn_minpt_preds)\n",
      "eff['all features'] = metric(test_subset_labels, mn_full_preds)\n",
      "eff['all features (with cut on test)'] = metric_minptcut(test_subset_labels, mn_full_preds)\n",
      "eff['7 features'] = metric(test_subset_labels, mn_small_preds)\n",
      "eff['7 features (with cut on test)'] = metric_minptcut(test_subset_labels, mn_small_preds)"
     ],
     "language": "python",
     "metadata": {},
     "outputs": []
    },
    {
     "cell_type": "code",
     "collapsed": false,
     "input": [
      "eff['no nmu'] = metric(test_subset_labels, mn_no_nmu_preds)\n",
      "eff['no nmu (with cut on test)'] = metric_minptcut(test_subset_labels, mn_no_nmu_preds)"
     ],
     "language": "python",
     "metadata": {},
     "outputs": []
    },
    {
     "cell_type": "code",
     "collapsed": false,
     "input": [
      "def plot_eff(data_dict, p_label='p_empty', total_label='total_empty', alpha=1, move=3, bar_width=1):\n",
      "    plt.subplots(figsize=(13,7))\n",
      "    color = ['b', 'g', 'cyan', 'pink', 'orange', 'black', 'yellow', 'brown']\n",
      "    num = 0\n",
      "    bars = len(data_dict) + 1\n",
      "    for key, value in sorted(data_dict.iteritems()):\n",
      "        move = num\n",
      "        error_config = {'ecolor': '0.3'}\n",
      "        modes = sort(list(set(value.keys())))# - {30000000}))\n",
      "        channel_count = len(modes)\n",
      "        index = np.arange(channel_count)\n",
      "        plt.bar(bars * index + move, [1 - value[mode][p_label] for mode in modes], bar_width,\n",
      "                       alpha=alpha, color=color[num], \n",
      "                       yerr=[sqrt(value[mode][p_label] * (1 - value[mode][p_label]) / value[mode][total_label])\n",
      "                                                   for mode in modes], error_kw=error_config,\n",
      "                       label=key)\n",
      "        \n",
      "        num += 1\n",
      "        plt.xticks(bars * index + move * bar_width, modes)\n",
      "    plt.xlabel('Modes')\n",
      "    plt.ylabel('Inefficiency')\n",
      "    plt.title('Classifier Inefficiency for Matrixnet')\n",
      "    plt.legend(loc='best')\n",
      "    plt.tight_layout()"
     ],
     "language": "python",
     "metadata": {},
     "outputs": []
    },
    {
     "cell_type": "heading",
     "level": 2,
     "metadata": {},
     "source": [
      "2500HZ, With and without minpt cut"
     ]
    },
    {
     "cell_type": "code",
     "collapsed": false,
     "input": [
      "plot_eff(eff)"
     ],
     "language": "python",
     "metadata": {},
     "outputs": [
      {
       "metadata": {},
       "output_type": "display_data",
       "png": "[encoded data removed]",
       "text": [
        "<matplotlib.figure.Figure at 0x33ef7210>"
       ]
      }
     ],
     "prompt_number": 45
    },
    {
     "cell_type": "code",
     "collapsed": false,
     "input": [],
     "language": "python",
     "metadata": {},
     "outputs": []
    },
    {
     "cell_type": "code",
     "collapsed": false,
     "input": [
      "cmp_eff = dict()\n",
      "cmp_eff['all features 2500'] = metric(test_subset_labels, mn_full_preds)\n",
      "cmp_eff['all features 5000'] = metric_5000(test_subset_labels, mn_full_preds)\n",
      "cmp_eff['7 features 2500'] = metric(test_subset_labels, mn_small_preds)\n",
      "cmp_eff['7 features 5000'] = metric_5000(test_subset_labels, mn_small_preds)\n",
      "cmp_eff['no nmu 2500'] = metric(test_subset_labels, mn_no_nmu_preds)\n",
      "cmp_eff['no nmu 5000'] = metric_5000(test_subset_labels, mn_no_nmu_preds)"
     ],
     "language": "python",
     "metadata": {},
     "outputs": []
    },
    {
     "cell_type": "heading",
     "level": 2,
     "metadata": {},
     "source": [
      "2500HZ vs 5000HZ, no minpt cut"
     ]
    },
    {
     "cell_type": "code",
     "collapsed": false,
     "input": [
      "plot_eff(cmp_eff)"
     ],
     "language": "python",
     "metadata": {},
     "outputs": [
      {
       "metadata": {},
       "output_type": "display_data",
       "png": "[encoded data removed]",
       "text": [
        "<matplotlib.figure.Figure at 0x33ef7690>"
       ]
      }
     ],
     "prompt_number": 46
    },
    {
     "cell_type": "code",
     "collapsed": false,
     "input": [],
     "language": "python",
     "metadata": {},
     "outputs": []
    },
    {
     "cell_type": "code",
     "collapsed": false,
     "input": [
      "metric_2500 = topo_utils.metric_generate(test.get_data(), 2500.0 / 1e6, test_empty_events, metric_plot=True)\n",
      "metric_3000 = topo_utils.metric_generate(test.get_data(), 3000.0 / 1e6, test_empty_events, metric_plot=True)\n",
      "metric_3500 = topo_utils.metric_generate(test.get_data(), 3500.0 / 1e6, test_empty_events, metric_plot=True)\n",
      "metric_4000 = topo_utils.metric_generate(test.get_data(), 4000.0 / 1e6, test_empty_events, metric_plot=True)\n",
      "metric_4500 = topo_utils.metric_generate(test.get_data(), 4500.0 / 1e6, test_empty_events, metric_plot=True)\n",
      "metric_5000 = topo_utils.metric_generate(test.get_data(), 5000.0 / 1e6, test_empty_events, metric_plot=True)\n"
     ],
     "language": "python",
     "metadata": {},
     "outputs": []
    },
    {
     "cell_type": "code",
     "collapsed": false,
     "input": [
      "cmp2_eff = dict()\n",
      "cmp2_eff['2500'] = metric_2500(test_subset_labels, mn_full_preds)\n",
      "cmp2_eff['3000'] = metric_3000(test_subset_labels, mn_full_preds)\n",
      "cmp2_eff['3500'] = metric_3500(test_subset_labels, mn_full_preds)\n",
      "cmp2_eff['4000'] = metric_4000(test_subset_labels, mn_full_preds)\n",
      "cmp2_eff['4500'] = metric_4500(test_subset_labels, mn_full_preds)\n",
      "cmp2_eff['5000'] = metric_5000(test_subset_labels, mn_full_preds)"
     ],
     "language": "python",
     "metadata": {},
     "outputs": []
    },
    {
     "cell_type": "heading",
     "level": 2,
     "metadata": {},
     "source": [
      "All features and different HZ"
     ]
    },
    {
     "cell_type": "code",
     "collapsed": false,
     "input": [
      "plot_eff(cmp2_eff)"
     ],
     "language": "python",
     "metadata": {},
     "outputs": [
      {
       "metadata": {},
       "output_type": "display_data",
       "png": "[encoded data removed]",
       "text": [
        "<matplotlib.figure.Figure at 0x45364a10>"
       ]
      }
     ],
     "prompt_number": 47
    },
    {
     "cell_type": "code",
     "collapsed": false,
     "input": [],
     "language": "python",
     "metadata": {},
     "outputs": []
    },
    {
     "cell_type": "code",
     "collapsed": false,
     "input": [
      "import sklearn\n",
      "import sklearn.metrics\n",
      "quality_metric=sklearn.metrics.log_loss"
     ],
     "language": "python",
     "metadata": {},
     "outputs": [],
     "prompt_number": 53
    },
    {
     "cell_type": "heading",
     "level": 2,
     "metadata": {},
     "source": [
      "Checking every feature importance: by shuffling its values in test and and watching for changes in log loss metric"
     ]
    },
    {
     "cell_type": "code",
     "collapsed": false,
     "input": [
      "mn_no_nmu_importnace = mn_no_nmu.get_feature_importance_on_test(test, test_subset_labels, quality_metric)\n",
      "mn_full_importnace = mn_full.get_feature_importance_on_test(test, test_subset_labels, quality_metric)"
     ],
     "language": "python",
     "metadata": {},
     "outputs": []
    },
    {
     "cell_type": "heading",
     "level": 2,
     "metadata": {},
     "source": [
      "For mn_no_nmu"
     ]
    },
    {
     "cell_type": "code",
     "collapsed": false,
     "input": [
      "default_quality = quality_metric(test_subset_labels, mn_no_nmu_preds)"
     ],
     "language": "python",
     "metadata": {},
     "outputs": [],
     "prompt_number": 64
    },
    {
     "cell_type": "code",
     "collapsed": false,
     "input": [
      "for key, value in sorted(mn_no_nmu_importnace.iteritems(), key=lambda tup: tup[1], reverse=True):\n",
      "    print \"%s - %f\" % (key, value / default_quality - 1)"
     ],
     "language": "python",
     "metadata": {},
     "outputs": [
      {
       "output_type": "stream",
       "stream": "stdout",
       "text": [
        "fdchi2 - 0.259722\n",
        "sumipchi2 - 0.190386\n",
        "ipchi2 - 0.146206\n",
        "n - 0.040478\n",
        "ptau - 0.040222\n",
        "mcor - 0.032083\n",
        "sumpt - 0.023518\n",
        "fdr - 0.022169\n",
        "m - 0.010359\n",
        "vchi2 - 0.009979\n",
        "nhlt1 - 0.005061\n",
        "q - 0.000228\n",
        "nlt16 - -0.001107\n",
        "minpt - -0.009730\n",
        "eta - -0.011244\n"
       ]
      }
     ],
     "prompt_number": 70
    },
    {
     "cell_type": "heading",
     "level": 2,
     "metadata": {},
     "source": [
      "For mn_full:"
     ]
    },
    {
     "cell_type": "code",
     "collapsed": false,
     "input": [
      "full_default_quality = quality_metric(test_subset_labels, mn_full_preds)"
     ],
     "language": "python",
     "metadata": {},
     "outputs": [],
     "prompt_number": 68
    },
    {
     "cell_type": "code",
     "collapsed": false,
     "input": [
      "for key, value in sorted(mn_full_importnace.iteritems(), key=lambda tup: tup[1], reverse=True):\n",
      "    print \"%s - %f\" % (key, value / full_default_quality - 1)"
     ],
     "language": "python",
     "metadata": {},
     "outputs": [
      {
       "output_type": "stream",
       "stream": "stdout",
       "text": [
        "fdchi2 - 0.236595\n",
        "sumipchi2 - 0.184793\n",
        "ipchi2 - 0.128459\n",
        "ptau - 0.054585\n",
        "n - 0.038222\n",
        "mcor - 0.028923\n",
        "sumpt - 0.021191\n",
        "fdr - 0.017113\n",
        "vchi2 - 0.011007\n",
        "m - 0.008774\n",
        "nhlt1 - 0.003587\n",
        "nmu - 0.000096\n",
        "nlt16 - -0.000242\n",
        "q - -0.000634\n",
        "minpt - -0.010086\n",
        "eta - -0.012128\n"
       ]
      }
     ],
     "prompt_number": 71
    },
    {
     "cell_type": "heading",
     "level": 2,
     "metadata": {},
     "source": [
      "Bigger value - bigger increase in log loss - bigger feature importance for involved classifier."
     ]
    },
    {
     "cell_type": "code",
     "collapsed": false,
     "input": [],
     "language": "python",
     "metadata": {},
     "outputs": []
    }
   ],
   "metadata": {}
  }
 ]
}