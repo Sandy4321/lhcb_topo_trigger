{
 "metadata": {
  "name": "",
  "signature": "sha256:c3dbcd1581391e806370e1b4b3b721384a5c661c07ff6a06acfda82d76c17776"
 },
 "nbformat": 3,
 "nbformat_minor": 0,
 "worksheets": [
  {
   "cells": [
    {
     "cell_type": "markdown",
     "metadata": {},
     "source": [
      "# About"
     ]
    },
    {
     "cell_type": "markdown",
     "metadata": {},
     "source": [
      "Data preselected using `l0Pass` and `goodGenB`. All event are splitted into training and test 50%-50%, and then we use SVR as a training one. `svrPreSel` use to get train and test samples also (just add `presel` column with 0,1 to get training and calculate metric)."
     ]
    },
    {
     "cell_type": "code",
     "collapsed": false,
     "input": [
      "import sys\n",
      "sys.path.insert(0, '/local/userdata/shelf/notebook/antares/work/REP')"
     ],
     "language": "python",
     "metadata": {},
     "outputs": [],
     "prompt_number": 1
    },
    {
     "cell_type": "code",
     "collapsed": false,
     "input": [
      "import cern_utils\n",
      "from cern_utils import converter_csv"
     ],
     "language": "python",
     "metadata": {},
     "outputs": [],
     "prompt_number": 2
    },
    {
     "cell_type": "code",
     "collapsed": false,
     "input": [
      "train = converter_csv.load_from_csv('topo/learn_data/train', sep='\\t')\n",
      "test = converter_csv.load_from_csv('topo/learn_data/test', sep='\\t')"
     ],
     "language": "python",
     "metadata": {},
     "outputs": [],
     "prompt_number": 38
    },
    {
     "cell_type": "markdown",
     "metadata": {},
     "source": [
      "# Variables"
     ]
    },
    {
     "cell_type": "code",
     "collapsed": false,
     "input": [
      "variables = [\"sumpt\",\n",
      "             \"m\",\n",
      "             \"mcor\",\n",
      "             \"ipchi2\",\n",
      "             \"vchi2\",\n",
      "             \"sumipchi2\",\n",
      "             \"fdr\",\n",
      "             \"nlt16\",\n",
      "             \"minpt\",\n",
      "             \"ptau\",\n",
      "             \"q\",\n",
      "             \"eta\",\n",
      "             \"nhlt1\",\n",
      "             \"nmu\",\n",
      "             \"n\",\n",
      "             \"fdchi2\"]"
     ],
     "language": "python",
     "metadata": {},
     "outputs": [],
     "prompt_number": 26
    },
    {
     "cell_type": "code",
     "collapsed": false,
     "input": [
      "train.columns"
     ],
     "language": "python",
     "metadata": {},
     "outputs": [
      {
       "metadata": {},
       "output_type": "pyout",
       "prompt_number": 49,
       "text": [
        "Index([u'event_id', u'svr_id', u'signal', u'presel', u'sumpt', u'm', u'mcor', u'ipchi2', u'vchi2', u'sumipchi2', u'fdr', u'nlt16', u'minpt', u'ptau', u'q', u'eta', u'pt', u'nhlt1', u'nmu', u'n', u'bdt', u'fdchi2'], dtype='object')"
       ]
      }
     ],
     "prompt_number": 49
    },
    {
     "cell_type": "markdown",
     "metadata": {},
     "source": [
      "# Do `svrPreSel`"
     ]
    },
    {
     "cell_type": "markdown",
     "metadata": {},
     "source": [
      "## Before svr preselection"
     ]
    },
    {
     "cell_type": "code",
     "collapsed": false,
     "input": [
      "s_events = set(train.select('signal==1').get_data(['event_id'])['event_id'])\n",
      "b_events = set(train.select('signal==0').get_data(['event_id'])['event_id'])\n",
      "print \"All SVR signal=%d, bck=%d\" %(len(train.select('signal==1')), len(train.select('signal==0')))\n",
      "print \"All events signal=%d, bck=%d\" %(len(s_events), len(b_events))"
     ],
     "language": "python",
     "metadata": {},
     "outputs": [
      {
       "output_type": "stream",
       "stream": "stdout",
       "text": [
        "All SVR signal=595382, bck=526864\n",
        "All events signal=6752, bck=17869\n"
       ]
      }
     ],
     "prompt_number": 31
    },
    {
     "cell_type": "code",
     "collapsed": false,
     "input": [
      "train_sgn = train.select('presel == 1').select('signal==1')\n",
      "train_bkg = train.select('presel == 1').select('signal==0')\n",
      "\n",
      "channel_label = []\n",
      "\n",
      "for element in test.get_data(['event_id'])['event_id']:\n",
      "    channel_label.append(int(element.split('_')[0]))\n",
      "test = test.add_columns({'channel_label': channel_label})"
     ],
     "language": "python",
     "metadata": {},
     "outputs": [],
     "prompt_number": 39
    },
    {
     "cell_type": "markdown",
     "metadata": {},
     "source": [
      "## After svr preselection"
     ]
    },
    {
     "cell_type": "code",
     "collapsed": false,
     "input": [
      "s_events_t = set(train_sgn.get_data(['event_id'])['event_id'])\n",
      "b_events_t = set(train_bkg.get_data(['event_id'])['event_id'])\n",
      "print \"All SVR for training signal=%d, bck=%d\" %(len(train_sgn), len(train_bkg))\n",
      "print \"All events for training signal=%d, bck=%d\" %(len(s_events_t), len(b_events_t))"
     ],
     "language": "python",
     "metadata": {},
     "outputs": [
      {
       "output_type": "stream",
       "stream": "stdout",
       "text": [
        "All SVR for training signal=214564, bck=98978\n",
        "All events for training signal=6531, bck=10125\n"
       ]
      }
     ],
     "prompt_number": 32
    },
    {
     "cell_type": "code",
     "collapsed": false,
     "input": [
      "channel_label = []\n",
      "\n",
      "for element in train.get_data(['event_id'])['event_id']:\n",
      "    channel_label.append(int(element.split('_')[0]))\n",
      "train = train.add_columns({'channel_label': channel_label})\n"
     ],
     "language": "python",
     "metadata": {},
     "outputs": [],
     "prompt_number": 78
    },
    {
     "cell_type": "markdown",
     "metadata": {},
     "source": [
      "# Metric"
     ]
    },
    {
     "cell_type": "code",
     "collapsed": false,
     "input": [
      "from pprint import pprint\n",
      "from collections import defaultdict, OrderedDict\n",
      "import pandas\n",
      "\n",
      "empty_events = {11114001: 18, \n",
      "                11124001: 22,\n",
      "                11296013: 0,\n",
      "                11874042: 20, \n",
      "                12103035: 79,\n",
      "                12165106: 86,\n",
      "                12265042: 11,\n",
      "                12873432: 130,\n",
      "                30000000: 99531}\n",
      "    \n",
      "def metric_generate(test, vote=numpy.max, is_print=False):\n",
      "    bkg = test[test['signal'] == 0]\n",
      "    total_size_bkg = len(numpy.unique(bkg['event_id'])) + int(empty_events[30000000] / 2)\n",
      "    \n",
      "    # corresponds to rate (Please CHECK!!!!)\n",
      "    required_size = int(5000. / 1e6 * total_size_bkg)\n",
      "    print required_size\n",
      "\n",
      "    def metric(y_true, y_pred, sample_weight=None):\n",
      "        event_mark = pandas.DataFrame(voting_svr(test, y_pred, vote)).transpose()\n",
      "        event_mark.columns = ['p', 'channel', 'presel', 'bdt_passed', 'bdt_passed_modified']\n",
      "        channels = set(map(int, event_mark['channel']))\n",
      "        bkg_pred = array(event_mark[event_mark['channel'] == 30000000]['p'])\n",
      "        threshold = numpy.sort(bkg_pred)[-required_size - 1]\n",
      "        result_eff = dict()\n",
      "        min_efficiencies = 2.\n",
      "        for channel in channels:\n",
      "            result_eff[channel] = dict()\n",
      "            result_eff[channel][\"total\"] = numpy.sum(event_mark['channel'] == channel) + int(empty_events[channel] / 2)\n",
      "            result_eff[channel][\"passed\"] = numpy.sum((event_mark['channel'] == channel) & (event_mark['p'] > threshold))\n",
      "            result_eff[channel][\"p\"] = 1.0 * result_eff[channel][\"passed\"] / result_eff[channel][\"total\"]\n",
      "            p = result_eff[channel][\"p\"]\n",
      "            result_eff[channel][\"error\"] = sqrt(p * (1-p) / result_eff[channel][\"total\"])\n",
      "            result_eff[channel][\"bdt_passed\"] = 1.* numpy.sum((event_mark['channel'] == channel) & (event_mark['bdt_passed'] > 0)) / \\\n",
      "                                                result_eff[channel][\"total\"]\n",
      "            result_eff[channel][\"bdt_passed_modified\"] = 1. * numpy.sum((event_mark['channel'] == channel) & \n",
      "                                                                   (event_mark['bdt_passed_modified'] > 0)) / \\\n",
      "                                                         result_eff[channel][\"total\"]\n",
      "            result_eff[channel][\"eff_preselected\"] = \\\n",
      "                1.0 *  numpy.sum((event_mark['channel'] == channel) & (event_mark['presel'] == 1)) / result_eff[channel][\"total\"]\n",
      "            if channel != 30000000:\n",
      "                min_efficiencies = min(min_efficiencies, result_eff[channel][\"p\"])\n",
      "        pprint(result_eff)\n",
      "        return min_efficiencies\n",
      "    return metric\n",
      "\n",
      "def voting_svr(data, prediction, vote):\n",
      "    data[\"bdt_passed\"] = bdt_Mike(data)\n",
      "    data[\"bdt_passed_modified\"] = bdt_Mike_modified(data)\n",
      "    data[\"modify_prediction\"] = numpy.array(data['presel']) * numpy.array(prediction)\n",
      "    event_result = dict()\n",
      "    for key, group in data.groupby(\"event_id\"):\n",
      "        event_result[key] = (vote(numpy.array(group[\"modify_prediction\"])), group[\"channel_label\"].iloc[0],\n",
      "                             max(numpy.array(group['presel'])), vote(group[\"bdt_passed\"]), \n",
      "                             vote(group[\"bdt_passed_modified\"]))\n",
      "    return event_result\n",
      "\n",
      "def bdt_Mike(data):\n",
      "    data[\"bdt_cut\"] = 0.4\n",
      "    data[\"bdt_cut\"][data[\"n\"] == 4] = 0.3\n",
      "    data[\"bdt_cut\"][data[\"nmu\"] > 0] = 0.1\n",
      "    passed = numpy.ones(len(data))\n",
      "    passed[array(data[\"bdt\"]) < array(data[\"bdt_cut\"])] = 0\n",
      "    passed[data[\"fdchi2\"].values < 100] = 0\n",
      "    passed[data[\"sumpt\"].values < 4000] = 0\n",
      "    passed[(data[\"n\"].values > 2) * (data[\"sumpt\"].values < 4500)] = 0\n",
      "    passed[data[\"minpt\"].values < 500] = 0\n",
      "    passed[data[\"nhlt1\"].values == 0] = 0\n",
      "    return passed\n",
      "\n",
      "def bdt_Mike_modified(data):\n",
      "    data[\"bdt_cut_m\"] = 0.3\n",
      "    data[\"bdt_cut_m\"][data[\"nmu\"] > 0] = 0.1\n",
      "    passed = numpy.ones(len(data))\n",
      "    passed[array(data[\"bdt\"]) < array(data[\"bdt_cut_m\"])] = 0\n",
      "    passed[data[\"fdchi2\"].values < 32] = 0\n",
      "    return passed\n",
      "\n",
      "metric_min_efficiency = metric_generate(test.get_data(), is_print=True)\n",
      "metric_min_efficiency_perc = metric_generate(test.get_data(), lambda x: numpy.percentile(x, 90), is_print=True)"
     ],
     "language": "python",
     "metadata": {},
     "outputs": [
      {
       "output_type": "stream",
       "stream": "stdout",
       "text": [
        "339\n",
        "339"
       ]
      },
      {
       "output_type": "stream",
       "stream": "stdout",
       "text": [
        "\n"
       ]
      }
     ],
     "prompt_number": 124
    },
    {
     "cell_type": "markdown",
     "metadata": {},
     "source": [
      "#Training the best simple classifiers (using some grid search for parameters)."
     ]
    },
    {
     "cell_type": "markdown",
     "metadata": {},
     "source": [
      "## Matrixnet"
     ]
    },
    {
     "cell_type": "code",
     "collapsed": false,
     "input": [
      "import sklearn\n",
      "from cern_utils import sklearn_classifier, ef_classifier\n",
      "\n",
      "mn_best = ef_classifier.ClassifierEF(directory='mn_simple_best', formula_name='topo_mn_simple_best_1', \n",
      "                                     dataset_name='topo_mn_simple_best_1', url_base='w73.cern.yandex.net')\n",
      "mn_best.set_params(features=variables, iterations=5000, features_sample_rate_per_iteration=1.0,\n",
      "                   training_fraction=0.5, regularization=0.01, sync=False)\n",
      "mn_best.fit(train_sgn, train_bkg)"
     ],
     "language": "python",
     "metadata": {},
     "outputs": [
      {
       "metadata": {},
       "output_type": "pyout",
       "prompt_number": 102,
       "text": [
        "<cern_utils.ef_classifier.ClassifierEF at 0x4cdcbd0>"
       ]
      }
     ],
     "prompt_number": 102
    },
    {
     "cell_type": "code",
     "collapsed": false,
     "input": [
      "prob_mn = mn_best.predict(test)"
     ],
     "language": "python",
     "metadata": {},
     "outputs": [],
     "prompt_number": 116
    },
    {
     "cell_type": "markdown",
     "metadata": {},
     "source": [
      "## AdaBoost"
     ]
    },
    {
     "cell_type": "code",
     "collapsed": false,
     "input": [
      "from sklearn.ensemble import AdaBoostClassifier\n",
      "from sklearn.tree import DecisionTreeClassifier\n",
      "\n",
      "ada_base = AdaBoostClassifier(n_estimators=400, learning_rate=0.1,\n",
      "                              base_estimator=DecisionTreeClassifier(max_depth=6, min_samples_leaf=30, max_features=6))\n",
      "ada_best = sklearn_classifier.ClassifierSklearn(ada_base, directory='best_simple/ada_best')\n",
      "ada_best.set_params(features=variables)\n",
      "ada_best.fit(train_sgn, train_bkg)"
     ],
     "language": "python",
     "metadata": {},
     "outputs": [
      {
       "metadata": {},
       "output_type": "pyout",
       "prompt_number": 115,
       "text": [
        "<cern_utils.sklearn_classifier.ClassifierSklearn at 0xfe33a90>"
       ]
      }
     ],
     "prompt_number": 115
    },
    {
     "cell_type": "code",
     "collapsed": false,
     "input": [
      "prob_ada = ada_best.predict(test)"
     ],
     "language": "python",
     "metadata": {},
     "outputs": [],
     "prompt_number": 117
    },
    {
     "cell_type": "markdown",
     "metadata": {},
     "source": [
      "## Random Forest"
     ]
    },
    {
     "cell_type": "code",
     "collapsed": false,
     "input": [
      "from sklearn.ensemble import RandomForestClassifier\n",
      "\n",
      "forest_base = RandomForestClassifier(max_depth=10, n_estimators=400, min_samples_split=100)\n",
      "forest_best = sklearn_classifier.ClassifierSklearn(forest_base, directory='best_simple/forest_best')\n",
      "forest_best.set_params(features=variables)\n",
      "forest_best.fit(train_sgn, train_bkg)"
     ],
     "language": "python",
     "metadata": {},
     "outputs": [
      {
       "metadata": {},
       "output_type": "pyout",
       "prompt_number": 23,
       "text": [
        "<cern_utils.sklearn_classifier.ClassifierSklearn at 0xd2090d0>"
       ]
      }
     ],
     "prompt_number": 23
    },
    {
     "cell_type": "code",
     "collapsed": false,
     "input": [
      "prob_forest = forest_best.predict(test)"
     ],
     "language": "python",
     "metadata": {},
     "outputs": [],
     "prompt_number": 24
    },
    {
     "cell_type": "markdown",
     "metadata": {},
     "source": [
      "# Compare metric"
     ]
    },
    {
     "cell_type": "code",
     "collapsed": false,
     "input": [
      "signal_labels = array(test.get_data(['signal'])['signal'])"
     ],
     "language": "python",
     "metadata": {},
     "outputs": [],
     "prompt_number": 118
    },
    {
     "cell_type": "markdown",
     "metadata": {},
     "source": [
      "## MatrixNet"
     ]
    },
    {
     "cell_type": "code",
     "collapsed": false,
     "input": [
      "metric_min_efficiency(signal_labels, prob_mn)"
     ],
     "language": "python",
     "metadata": {},
     "outputs": [
      {
       "output_type": "stream",
       "stream": "stdout",
       "text": [
        "{11114001: {'bdt_passed': 0.603082851637765,\n",
        "            'bdt_passed_modified': 0.6608863198458574,\n",
        "            'eff_preselected': 0.9730250481695568,\n",
        "            'error': 0.011840085536912843,\n",
        "            'p': 0.9210019267822736,\n",
        "            'passed': 478,\n",
        "            'total': 519},\n",
        " 11124001: {'bdt_passed': 0.4512396694214876,\n",
        "            'bdt_passed_modified': 0.5107438016528926,\n",
        "            'eff_preselected': 0.9421487603305785,\n",
        "            'error': 0.017784940136348345,\n",
        "            'p': 0.7421487603305785,\n",
        "            'passed': 449,\n",
        "            'total': 605},\n",
        " 11296013: {'bdt_passed': 0.6,\n",
        "            'bdt_passed_modified': 0.6,\n",
        "            'eff_preselected': 1.0,\n",
        "            'error': 0.080000000000000002,\n",
        "            'p': 0.8,\n",
        "            'passed': 20,\n",
        "            'total': 25},\n",
        " 11874042: {'bdt_passed': 0.4036458333333333,\n",
        "            'bdt_passed_modified': 0.4375,\n",
        "            'eff_preselected': 0.9609375,\n",
        "            'error': 0.023195120166471159,\n",
        "            'p': 0.7083333333333334,\n",
        "            'passed': 272,\n",
        "            'total': 384},\n",
        " 12103035: {'bdt_passed': 0.5397292525014714,\n",
        "            'bdt_passed_modified': 0.5803413772807534,\n",
        "            'eff_preselected': 0.948204826368452,\n",
        "            'error': 0.0094513443020785189,\n",
        "            'p': 0.8134196586227193,\n",
        "            'passed': 1382,\n",
        "            'total': 1699},\n",
        " 12165106: {'bdt_passed': 0.42385786802030456,\n",
        "            'bdt_passed_modified': 0.475253807106599,\n",
        "            'eff_preselected': 0.924492385786802,\n",
        "            'error': 0.011970595502110788,\n",
        "            'p': 0.6554568527918782,\n",
        "            'passed': 1033,\n",
        "            'total': 1576},\n",
        " 12265042: {'bdt_passed': 0.49938800489596086,\n",
        "            'bdt_passed_modified': 0.5324357405140759,\n",
        "            'eff_preselected': 0.9742962056303549,\n",
        "            'error': 0.013474443316711958,\n",
        "            'p': 0.8188494492044064,\n",
        "            'passed': 669,\n",
        "            'total': 817},\n",
        " 12873432: {'bdt_passed': 0.33363309352517984,\n",
        "            'bdt_passed_modified': 0.368705035971223,\n",
        "            'eff_preselected': 0.8893884892086331,\n",
        "            'error': 0.014817750826169636,\n",
        "            'p': 0.5764388489208633,\n",
        "            'passed': 641,\n",
        "            'total': 1112},\n",
        " 30000000: {'bdt_passed': 0.0028020292590844736,\n",
        "            'bdt_passed_modified': 0.004984662576687116,\n",
        "            'eff_preselected': 0.14869926852288815,\n",
        "            'error': 0.00027085108719498047,\n",
        "            'p': 0.004999410099103351,\n",
        "            'passed': 339,\n",
        "            'total': 67808}}\n"
       ]
      },
      {
       "metadata": {},
       "output_type": "pyout",
       "prompt_number": 125,
       "text": [
        "0.5764388489208633"
       ]
      }
     ],
     "prompt_number": 125
    },
    {
     "cell_type": "markdown",
     "metadata": {},
     "source": [
      "## AdaBoost"
     ]
    },
    {
     "cell_type": "code",
     "collapsed": false,
     "input": [
      "metric_min_efficiency(signal_labels, prob_ada)"
     ],
     "language": "python",
     "metadata": {},
     "outputs": [
      {
       "output_type": "stream",
       "stream": "stdout",
       "text": [
        "{11114001: {'bdt_passed': 0.603082851637765,\n",
        "            'bdt_passed_modified': 0.6608863198458574,\n",
        "            'eff_preselected': 0.9730250481695568,\n",
        "            'error': 0.012951509449637112,\n",
        "            'p': 0.9036608863198459,\n",
        "            'passed': 469,\n",
        "            'total': 519},\n",
        " 11124001: {'bdt_passed': 0.4512396694214876,\n",
        "            'bdt_passed_modified': 0.5107438016528926,\n",
        "            'eff_preselected': 0.9421487603305785,\n",
        "            'error': 0.018174489833327062,\n",
        "            'p': 0.7239669421487603,\n",
        "            'passed': 438,\n",
        "            'total': 605},\n",
        " 11296013: {'bdt_passed': 0.6,\n",
        "            'bdt_passed_modified': 0.6,\n",
        "            'eff_preselected': 1.0,\n",
        "            'error': 0.080000000000000002,\n",
        "            'p': 0.8,\n",
        "            'passed': 20,\n",
        "            'total': 25},\n",
        " 11874042: {'bdt_passed': 0.4036458333333333,\n",
        "            'bdt_passed_modified': 0.4375,\n",
        "            'eff_preselected': 0.9609375,\n",
        "            'error': 0.024635139089198482,\n",
        "            'p': 0.6302083333333334,\n",
        "            'passed': 242,\n",
        "            'total': 384},\n",
        " 12103035: {'bdt_passed': 0.5397292525014714,\n",
        "            'bdt_passed_modified': 0.5803413772807534,\n",
        "            'eff_preselected': 0.948204826368452,\n",
        "            'error': 0.009322796472048922,\n",
        "            'p': 0.8198940553266627,\n",
        "            'passed': 1393,\n",
        "            'total': 1699},\n",
        " 12165106: {'bdt_passed': 0.42385786802030456,\n",
        "            'bdt_passed_modified': 0.475253807106599,\n",
        "            'eff_preselected': 0.924492385786802,\n",
        "            'error': 0.012130450276849608,\n",
        "            'p': 0.6345177664974619,\n",
        "            'passed': 1000,\n",
        "            'total': 1576},\n",
        " 12265042: {'bdt_passed': 0.49938800489596086,\n",
        "            'bdt_passed_modified': 0.5324357405140759,\n",
        "            'eff_preselected': 0.9742962056303549,\n",
        "            'error': 0.014013461666651615,\n",
        "            'p': 0.799265605875153,\n",
        "            'passed': 653,\n",
        "            'total': 817},\n",
        " 12873432: {'bdt_passed': 0.33363309352517984,\n",
        "            'bdt_passed_modified': 0.368705035971223,\n",
        "            'eff_preselected': 0.8893884892086331,\n",
        "            'error': 0.014982261289211525,\n",
        "            'p': 0.5197841726618705,\n",
        "            'passed': 578,\n",
        "            'total': 1112},\n",
        " 30000000: {'bdt_passed': 0.0028020292590844736,\n",
        "            'bdt_passed_modified': 0.004984662576687116,\n",
        "            'eff_preselected': 0.14869926852288815,\n",
        "            'error': 0.00027085108719498047,\n",
        "            'p': 0.004999410099103351,\n",
        "            'passed': 339,\n",
        "            'total': 67808}}\n"
       ]
      },
      {
       "metadata": {},
       "output_type": "pyout",
       "prompt_number": 126,
       "text": [
        "0.5197841726618705"
       ]
      }
     ],
     "prompt_number": 126
    },
    {
     "cell_type": "markdown",
     "metadata": {},
     "source": [
      "## Random Forest"
     ]
    },
    {
     "cell_type": "code",
     "collapsed": false,
     "input": [
      "metric_min_efficiency(signal_labels, prob_forest)"
     ],
     "language": "python",
     "metadata": {},
     "outputs": [
      {
       "output_type": "stream",
       "stream": "stdout",
       "text": [
        "{11114001: {'bdt_passed': 0.603082851637765,\n",
        "            'bdt_passed_modified': 0.6608863198458574,\n",
        "            'eff_preselected': 0.9730250481695568,\n",
        "            'error': 0.016089081589733645,\n",
        "            'p': 0.8400770712909441,\n",
        "            'passed': 436,\n",
        "            'total': 519},\n",
        " 11124001: {'bdt_passed': 0.4512396694214876,\n",
        "            'bdt_passed_modified': 0.5107438016528926,\n",
        "            'eff_preselected': 0.9421487603305785,\n",
        "            'error': 0.019332484650860755,\n",
        "            'p': 0.6545454545454545,\n",
        "            'passed': 396,\n",
        "            'total': 605},\n",
        " 11296013: {'bdt_passed': 0.6,\n",
        "            'bdt_passed_modified': 0.6,\n",
        "            'eff_preselected': 1.0,\n",
        "            'error': 0.080000000000000002,\n",
        "            'p': 0.8,\n",
        "            'passed': 20,\n",
        "            'total': 25},\n",
        " 11874042: {'bdt_passed': 0.4036458333333333,\n",
        "            'bdt_passed_modified': 0.4375,\n",
        "            'eff_preselected': 0.9609375,\n",
        "            'error': 0.025242736152075253,\n",
        "            'p': 0.5729166666666666,\n",
        "            'passed': 220,\n",
        "            'total': 384},\n",
        " 12103035: {'bdt_passed': 0.5397292525014714,\n",
        "            'bdt_passed_modified': 0.5803413772807534,\n",
        "            'eff_preselected': 0.948204826368452,\n",
        "            'error': 0.010880958324134053,\n",
        "            'p': 0.7210123602118893,\n",
        "            'passed': 1225,\n",
        "            'total': 1699},\n",
        " 12165106: {'bdt_passed': 0.42385786802030456,\n",
        "            'bdt_passed_modified': 0.475253807106599,\n",
        "            'eff_preselected': 0.924492385786802,\n",
        "            'error': 0.012298231740018614,\n",
        "            'p': 0.6078680203045685,\n",
        "            'passed': 958,\n",
        "            'total': 1576},\n",
        " 12265042: {'bdt_passed': 0.49938800489596086,\n",
        "            'bdt_passed_modified': 0.5324357405140759,\n",
        "            'eff_preselected': 0.9742962056303549,\n",
        "            'error': 0.015192216140593819,\n",
        "            'p': 0.7478580171358629,\n",
        "            'passed': 611,\n",
        "            'total': 817},\n",
        " 12873432: {'bdt_passed': 0.33363309352517984,\n",
        "            'bdt_passed_modified': 0.368705035971223,\n",
        "            'eff_preselected': 0.8893884892086331,\n",
        "            'error': 0.014967570449303013,\n",
        "            'p': 0.47032374100719426,\n",
        "            'passed': 523,\n",
        "            'total': 1112},\n",
        " 30000000: {'bdt_passed': 0.0028020292590844736,\n",
        "            'bdt_passed_modified': 0.004984662576687116,\n",
        "            'eff_preselected': 0.14869926852288815,\n",
        "            'error': 0.00027085108719498047,\n",
        "            'p': 0.004999410099103351,\n",
        "            'passed': 339,\n",
        "            'total': 67808}}\n"
       ]
      },
      {
       "metadata": {},
       "output_type": "pyout",
       "prompt_number": 127,
       "text": [
        "0.47032374100719426"
       ]
      }
     ],
     "prompt_number": 127
    },
    {
     "cell_type": "markdown",
     "metadata": {},
     "source": [
      "# Metric Percentile of SVR"
     ]
    },
    {
     "cell_type": "code",
     "collapsed": false,
     "input": [
      "metric_min_efficiency_perc(signal_labels, prob_mn)"
     ],
     "language": "python",
     "metadata": {},
     "outputs": [
      {
       "output_type": "stream",
       "stream": "stdout",
       "text": [
        "{11114001: {'bdt_passed': 0.3352601156069364,\n",
        "            'bdt_passed_modified': 0.3911368015414258,\n",
        "            'eff_preselected': 0.9730250481695568,\n",
        "            'error': 0.016545435173464532,\n",
        "            'p': 0.8285163776493256,\n",
        "            'passed': 430,\n",
        "            'total': 519},\n",
        " 11124001: {'bdt_passed': 0.18181818181818182,\n",
        "            'bdt_passed_modified': 0.2231404958677686,\n",
        "            'eff_preselected': 0.9421487603305785,\n",
        "            'error': 0.019243048046379711,\n",
        "            'p': 0.6611570247933884,\n",
        "            'passed': 400,\n",
        "            'total': 605},\n",
        " 11296013: {'bdt_passed': 0.16,\n",
        "            'bdt_passed_modified': 0.16,\n",
        "            'eff_preselected': 1.0,\n",
        "            'error': 0.0897997772825746,\n",
        "            'p': 0.72,\n",
        "            'passed': 18,\n",
        "            'total': 25},\n",
        " 11874042: {'bdt_passed': 0.15104166666666666,\n",
        "            'bdt_passed_modified': 0.1796875,\n",
        "            'eff_preselected': 0.9609375,\n",
        "            'error': 0.024323471974240337,\n",
        "            'p': 0.6510416666666666,\n",
        "            'passed': 250,\n",
        "            'total': 384},\n",
        " 12103035: {'bdt_passed': 0.2542672160094173,\n",
        "            'bdt_passed_modified': 0.2937021777516186,\n",
        "            'eff_preselected': 0.948204826368452,\n",
        "            'error': 0.011113281202450927,\n",
        "            'p': 0.7004120070629782,\n",
        "            'passed': 1190,\n",
        "            'total': 1699},\n",
        " 12165106: {'bdt_passed': 0.1681472081218274,\n",
        "            'bdt_passed_modified': 0.20050761421319796,\n",
        "            'eff_preselected': 0.924492385786802,\n",
        "            'error': 0.012408609612207749,\n",
        "            'p': 0.5856598984771574,\n",
        "            'passed': 923,\n",
        "            'total': 1576},\n",
        " 12265042: {'bdt_passed': 0.19828641370869032,\n",
        "            'bdt_passed_modified': 0.24357405140758873,\n",
        "            'eff_preselected': 0.9742962056303549,\n",
        "            'error': 0.0146423680324706,\n",
        "            'p': 0.773561811505508,\n",
        "            'passed': 632,\n",
        "            'total': 817},\n",
        " 12873432: {'bdt_passed': 0.11510791366906475,\n",
        "            'bdt_passed_modified': 0.14298561151079137,\n",
        "            'eff_preselected': 0.8893884892086331,\n",
        "            'error': 0.014912198501052286,\n",
        "            'p': 0.552158273381295,\n",
        "            'passed': 614,\n",
        "            'total': 1112},\n",
        " 30000000: {'bdt_passed': 0.0007078810759792355,\n",
        "            'bdt_passed_modified': 0.0015632373761208117,\n",
        "            'eff_preselected': 0.14869926852288815,\n",
        "            'error': 0.00027085108719498047,\n",
        "            'p': 0.004999410099103351,\n",
        "            'passed': 339,\n",
        "            'total': 67808}}\n"
       ]
      },
      {
       "metadata": {},
       "output_type": "pyout",
       "prompt_number": 128,
       "text": [
        "0.552158273381295"
       ]
      }
     ],
     "prompt_number": 128
    },
    {
     "cell_type": "markdown",
     "metadata": {},
     "source": [
      "# Prediction pdf on test samples"
     ]
    },
    {
     "cell_type": "code",
     "collapsed": false,
     "input": [
      "from cern_utils.predictions_report import PredictionsInfo\n",
      "report = PredictionsInfo({'MN': mn_best, 'Ada': ada_best, 'Forest': forest_best}, \n",
      "                         test.select('(signal==1) & (presel==1)'), test.select('(signal==0) & (presel==1)'))\n"
     ],
     "language": "python",
     "metadata": {},
     "outputs": []
    },
    {
     "cell_type": "code",
     "collapsed": false,
     "input": [
      "report.prediction_pdf(class_type='signal').plot(new_plot=True, figsize = (9, 4))"
     ],
     "language": "python",
     "metadata": {},
     "outputs": [
      {
       "metadata": {},
       "output_type": "display_data",
       "png": "[encoded data removed]",
       "text": [
        "<matplotlib.figure.Figure at 0x10e47d50>"
       ]
      }
     ],
     "prompt_number": 129
    },
    {
     "cell_type": "code",
     "collapsed": false,
     "input": [
      "report.prediction_pdf(class_type='bck').plot(new_plot=True, figsize = (9, 4))"
     ],
     "language": "python",
     "metadata": {},
     "outputs": [
      {
       "metadata": {},
       "output_type": "display_data",
       "png": "[encoded data removed]",
       "text": [
        "<matplotlib.figure.Figure at 0x10e47890>"
       ]
      }
     ],
     "prompt_number": 130
    },
    {
     "cell_type": "code",
     "collapsed": false,
     "input": [],
     "language": "python",
     "metadata": {},
     "outputs": []
    }
   ],
   "metadata": {}
  }
 ]
}