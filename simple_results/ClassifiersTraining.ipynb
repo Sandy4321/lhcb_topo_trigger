{
 "metadata": {
  "name": "",
  "signature": "sha256:c0df49fcaeb5347ff07d03108ab3e0abde0d981a5b1b6d0bb0622de9e4cdf276"
 },
 "nbformat": 3,
 "nbformat_minor": 0,
 "worksheets": [
  {
   "cells": [
    {
     "cell_type": "markdown",
     "metadata": {},
     "source": [
      "# About"
     ]
    },
    {
     "cell_type": "markdown",
     "metadata": {},
     "source": [
      "Data preselected using `l0Pass` and `goodGenB`. All event are splitted into training and test 50%-50%, and then we use SVR as a training one. `svrPreSel` use to get train and test samples also (just add `presel` column with 0,1 to get training and calculate metric)."
     ]
    },
    {
     "cell_type": "code",
     "collapsed": false,
     "input": [
      "import sys\n",
      "sys.path.insert(0, '/local/userdata/shelf/notebook/antares/work/REP')\n",
      "sys.path.insert(0, '/local/userdata/shelf/notebook/axelr/lhcb_trigger_ml/IPythonWorkflow/')"
     ],
     "language": "python",
     "metadata": {},
     "outputs": [],
     "prompt_number": 19
    },
    {
     "cell_type": "code",
     "collapsed": false,
     "input": [
      "import cern_utils\n",
      "from cern_utils import converter_csv"
     ],
     "language": "python",
     "metadata": {},
     "outputs": [],
     "prompt_number": 2
    },
    {
     "cell_type": "code",
     "collapsed": false,
     "input": [
      "train = converter_csv.load_from_csv('topo/learn_data/train', sep='\\t')\n",
      "test = converter_csv.load_from_csv('topo/learn_data/test', sep='\\t')"
     ],
     "language": "python",
     "metadata": {},
     "outputs": [],
     "prompt_number": 3
    },
    {
     "cell_type": "markdown",
     "metadata": {},
     "source": [
      "# Variables"
     ]
    },
    {
     "cell_type": "code",
     "collapsed": false,
     "input": [
      "variables = [\"sumpt\",\n",
      "             \"m\",\n",
      "             \"mcor\",\n",
      "             \"ipchi2\",\n",
      "             \"vchi2\",\n",
      "             \"sumipchi2\",\n",
      "             \"fdr\",\n",
      "             \"nlt16\",\n",
      "             \"minpt\",\n",
      "             \"ptau\",\n",
      "             \"q\",\n",
      "             \"eta\",\n",
      "             \"nhlt1\",\n",
      "             \"nmu\",\n",
      "             \"n\",\n",
      "             \"fdchi2\"]"
     ],
     "language": "python",
     "metadata": {},
     "outputs": [],
     "prompt_number": 4
    },
    {
     "cell_type": "code",
     "collapsed": false,
     "input": [
      "train.columns"
     ],
     "language": "python",
     "metadata": {},
     "outputs": [
      {
       "metadata": {},
       "output_type": "pyout",
       "prompt_number": 5,
       "text": [
        "Index([u'event_id', u'svr_id', u'signal', u'presel', u'sumpt', u'm', u'mcor', u'ipchi2', u'vchi2', u'sumipchi2', u'fdr', u'nlt16', u'minpt', u'ptau', u'q', u'eta', u'pt', u'nhlt1', u'nmu', u'n', u'bdt', u'fdchi2'], dtype='object')"
       ]
      }
     ],
     "prompt_number": 5
    },
    {
     "cell_type": "markdown",
     "metadata": {},
     "source": [
      "# Do `svrPreSel`"
     ]
    },
    {
     "cell_type": "markdown",
     "metadata": {},
     "source": [
      "## Before svr preselection"
     ]
    },
    {
     "cell_type": "code",
     "collapsed": false,
     "input": [
      "s_events = set(train.select('signal==1').get_data(['event_id'])['event_id'])\n",
      "b_events = set(train.select('signal==0').get_data(['event_id'])['event_id'])\n",
      "print \"All SVR signal=%d, bck=%d\" %(len(train.select('signal==1')), len(train.select('signal==0')))\n",
      "print \"All events signal=%d, bck=%d\" %(len(s_events), len(b_events))"
     ],
     "language": "python",
     "metadata": {},
     "outputs": [
      {
       "output_type": "stream",
       "stream": "stdout",
       "text": [
        "All SVR signal=595382, bck=526864\n",
        "All events signal=6752, bck=17869\n"
       ]
      }
     ],
     "prompt_number": 6
    },
    {
     "cell_type": "markdown",
     "metadata": {},
     "source": [
      "# Define channel id and preprocess it for uboost"
     ]
    },
    {
     "cell_type": "code",
     "collapsed": false,
     "input": [
      "def get_channel_labels(ds):\n",
      "    channel_label = []\n",
      "\n",
      "    for element in ds.get_data(['event_id'])['event_id']:\n",
      "        channel_label.append(int(element.split('_')[0]))\n",
      "    return channel_label"
     ],
     "language": "python",
     "metadata": {},
     "outputs": [],
     "prompt_number": 7
    },
    {
     "cell_type": "markdown",
     "metadata": {},
     "source": [
      "# Prepare data"
     ]
    },
    {
     "cell_type": "code",
     "collapsed": false,
     "input": [
      "from sklearn.preprocessing import LabelEncoder\n",
      "from sklearn import preprocessing\n",
      "le = preprocessing.LabelEncoder()\n",
      "ch_l = get_channel_labels(train)\n",
      "le.fit(ch_l)\n",
      "train = train.add_columns({'channel': le.transform(ch_l)})\n",
      "\n",
      "train_sgn = train.select('presel == 1').select('signal==1')\n",
      "train_bkg = train.select('presel == 1').select('signal==0')\n",
      "\n",
      "ch_lt = get_channel_labels(test)\n",
      "test = test.add_columns({'channel': le.transform(ch_lt), 'channel_label': ch_lt})"
     ],
     "language": "python",
     "metadata": {},
     "outputs": [],
     "prompt_number": 8
    },
    {
     "cell_type": "markdown",
     "metadata": {},
     "source": [
      "## After svr preselection"
     ]
    },
    {
     "cell_type": "code",
     "collapsed": false,
     "input": [
      "s_events_t = set(train_sgn.get_data(['event_id'])['event_id'])\n",
      "b_events_t = set(train_bkg.get_data(['event_id'])['event_id'])\n",
      "print \"All SVR for training signal=%d, bck=%d\" %(len(train_sgn), len(train_bkg))\n",
      "print \"All events for training signal=%d, bck=%d\" %(len(s_events_t), len(b_events_t))"
     ],
     "language": "python",
     "metadata": {},
     "outputs": [
      {
       "output_type": "stream",
       "stream": "stdout",
       "text": [
        "All SVR for training signal=214564, bck=98978\n",
        "All events for training signal=6531, bck=10125\n"
       ]
      }
     ],
     "prompt_number": 9
    },
    {
     "cell_type": "markdown",
     "metadata": {},
     "source": [
      "# Metric"
     ]
    },
    {
     "cell_type": "code",
     "collapsed": false,
     "input": [
      "from pprint import pprint\n",
      "from collections import defaultdict, OrderedDict\n",
      "import pandas\n",
      "\n",
      "empty_events = {11114001: 18, \n",
      "                11124001: 22,\n",
      "                11296013: 0,\n",
      "                11874042: 20, \n",
      "                12103035: 79,\n",
      "                12165106: 86,\n",
      "                12265042: 11,\n",
      "                12873432: 130,\n",
      "                30000000: 99531}\n",
      "    \n",
      "def metric_generate(test, vote=numpy.max, metric_plot=False, channel_vote=numpy.min):\n",
      "    bkg = test[test['signal'] == 0]\n",
      "    total_size_bkg = len(numpy.unique(bkg['event_id'])) + int(empty_events[30000000] / 2)\n",
      "    \n",
      "    # corresponds to rate (Please CHECK!!!!)\n",
      "    required_size = int(5000. / 1e6 * total_size_bkg)\n",
      "#     print required_size\n",
      "\n",
      "    def metric_additional(y_true, y_pred, sample_weight=None):\n",
      "        event_mark = pandas.DataFrame(voting_svr(test, y_pred, vote)).transpose()\n",
      "        event_mark.columns = ['p', 'channel', 'presel', 'bdt_passed', 'bdt_passed_modified']\n",
      "        channels = set(map(int, event_mark['channel']))\n",
      "        bkg_pred = array(event_mark[event_mark['channel'] == 30000000]['p'])\n",
      "        threshold = numpy.sort(bkg_pred)[-required_size - 1]\n",
      "        result_eff = dict()\n",
      "        efficiencies = []\n",
      "        for channel in channels:\n",
      "            result_eff[channel] = dict()\n",
      "            result_eff[channel][\"total\"] = numpy.sum(event_mark['channel'] == channel)\n",
      "            result_eff[channel][\"total_empty\"] = numpy.sum(event_mark['channel'] == channel) + int(empty_events[channel] / 2)\n",
      "            result_eff[channel][\"passed\"] = numpy.sum((event_mark['channel'] == channel) & (event_mark['p'] > threshold))\n",
      "            result_eff[channel][\"p\"] = 1.0 * result_eff[channel][\"passed\"] / result_eff[channel][\"total\"]\n",
      "            result_eff[channel][\"p_empty\"] = 1.0 * result_eff[channel][\"passed\"] / result_eff[channel][\"total_empty\"]\n",
      "            result_eff[channel][\"bdt_passed\"] = 1.* numpy.sum((event_mark['channel'] == channel) & (event_mark['bdt_passed'] > 0)) / \\\n",
      "                                                result_eff[channel][\"total_empty\"]\n",
      "            result_eff[channel][\"bdt_passed_modified\"] = 1. * numpy.sum((event_mark['channel'] == channel) & \n",
      "                                                                   (event_mark['bdt_passed_modified'] > 0)) / \\\n",
      "                                                         result_eff[channel][\"total_empty\"]\n",
      "            result_eff[channel][\"eff_preselected\"] = \\\n",
      "                1.0 *  numpy.sum((event_mark['channel'] == channel) & (event_mark['presel'] == 1)) / result_eff[channel][\"total_empty\"]\n",
      "            if channel != 30000000:\n",
      "                efficiencies.append(result_eff[channel][\"p\"])\n",
      "        return efficiencies, result_eff\n",
      "    \n",
      "    def metric(y_true, y_pred, sample_weight=None):\n",
      "        eff, data = metric_additional(y_true, y_pred, sample_weight=sample_weight)\n",
      "        if not metric_plot:\n",
      "            return channel_vote(eff)\n",
      "        else:\n",
      "            return data\n",
      "    return metric\n",
      "    \n",
      "def voting_svr(data, prediction, vote):\n",
      "    data[\"bdt_passed\"] = bdt_Mike(data)\n",
      "    data[\"bdt_passed_modified\"] = bdt_Mike_modified(data)\n",
      "    data[\"modify_prediction\"] = numpy.array(data['presel']) * numpy.array(prediction)\n",
      "    event_result = dict()\n",
      "    for key, group in data.groupby(\"event_id\"):\n",
      "        event_result[key] = (vote(numpy.array(group[\"modify_prediction\"])), group[\"channel_label\"].iloc[0],\n",
      "                             max(numpy.array(group['presel'])), vote(group[\"bdt_passed\"]), \n",
      "                             vote(group[\"bdt_passed_modified\"]))\n",
      "    return event_result\n",
      "\n",
      "def bdt_Mike(data):\n",
      "    data[\"bdt_cut\"] = 0.4\n",
      "    data[\"bdt_cut\"][data[\"n\"] == 4] = 0.3\n",
      "    data[\"bdt_cut\"][data[\"nmu\"] > 0] = 0.1\n",
      "    passed = numpy.ones(len(data))\n",
      "    passed[array(data[\"bdt\"]) < array(data[\"bdt_cut\"])] = 0\n",
      "    passed[data[\"fdchi2\"].values < 100] = 0\n",
      "    passed[data[\"sumpt\"].values < 4000] = 0\n",
      "    passed[(data[\"n\"].values > 2) * (data[\"sumpt\"].values < 4500)] = 0\n",
      "    passed[data[\"minpt\"].values < 500] = 0\n",
      "    passed[data[\"nhlt1\"].values == 0] = 0\n",
      "    return passed\n",
      "\n",
      "def bdt_Mike_modified(data):\n",
      "    data[\"bdt_cut_m\"] = 0.3\n",
      "    data[\"bdt_cut_m\"][data[\"nmu\"] > 0] = 0.1\n",
      "    passed = numpy.ones(len(data))\n",
      "    passed[array(data[\"bdt\"]) < array(data[\"bdt_cut_m\"])] = 0\n",
      "    passed[data[\"fdchi2\"].values < 32] = 0\n",
      "    return passed"
     ],
     "language": "python",
     "metadata": {},
     "outputs": [],
     "prompt_number": 42
    },
    {
     "cell_type": "markdown",
     "metadata": {},
     "source": [
      "# Plot addition functions"
     ]
    },
    {
     "cell_type": "code",
     "collapsed": false,
     "input": [
      "eff_to_plot = metric_generate(test.get_data(), metric_plot=True)\n",
      "\n",
      "def plot_eff(data_dict, p_label='p', total_label='total', alpha=0.4, move=3, bar_width=1):\n",
      "    for key, value in data_dict.iteritems():\n",
      "        data = value['data']\n",
      "        p_label_ = value['p_label'] if 'p_label' in value else p_label\n",
      "        total_label_ = value['total_label'] if 'total_label' in value else total_label\n",
      "        alpha_ = value['alpha'] if 'alpha' in value else alpha\n",
      "        move_ = value['move'] if 'move' in value else move\n",
      "        color = value['color']\n",
      "        \n",
      "        error_config = {'ecolor': '0.3'}\n",
      "        modes = sort(list(set(data.keys()) - {30000000}))\n",
      "        channel_count = len(modes)\n",
      "        index = np.arange(channel_count)\n",
      "        plt.bar(channel_count * index + move_, [1 - data[mode][p_label_] for mode in modes], bar_width,\n",
      "                       alpha=alpha_, color=color, \n",
      "                       yerr=[sqrt(data[mode][p_label_] * (1 - data[mode][p_label_]) / data[mode][total_label_])\n",
      "                                                   for mode in modes], error_kw=error_config,\n",
      "                       label=key)\n",
      "        plt.xticks(channel_count * index + move_ * bar_width, modes)"
     ],
     "language": "python",
     "metadata": {},
     "outputs": [],
     "prompt_number": 44
    },
    {
     "cell_type": "code",
     "collapsed": false,
     "input": [
      "class PlotMetric:\n",
      "    def __init__(self, metrics, y_true, prob, sample_weight=None):\n",
      "        self.result = {}\n",
      "        for key, func in metrics.iteritems():\n",
      "            self.result[key] = func(y_true, prob, sample_weight=sample_weight)\n",
      "    def plot(self, color='b', size=20, label='classifier', x_push=0):\n",
      "        x = range(len(self.result.keys()))\n",
      "        y = self.result.values()\n",
      "        plt.scatter(x, y, color=color, s=size, label=label)\n",
      "        for x_i, y_i in zip(x, y):\n",
      "            plt.annotate('%1.5f' % y_i, xy = (x_i, y_i), xytext = (x_i + x_push, y_i + 0.1), size='medium', color=color)\n",
      "        plt.xticks(range(len(self.result.keys())), self.result.keys())"
     ],
     "language": "python",
     "metadata": {},
     "outputs": [],
     "prompt_number": 83
    },
    {
     "cell_type": "markdown",
     "metadata": {},
     "source": [
      "# Define different metrics"
     ]
    },
    {
     "cell_type": "code",
     "collapsed": false,
     "input": [
      "def harmonic_mean(x):\n",
      "    x = array(x)\n",
      "    return 1. * len(x) / numpy.sum(1 / x)\n",
      "\n",
      "metric_min_efficiency = metric_generate(test.get_data())\n",
      "metric_min_efficiency_harmonic = metric_generate(test.get_data(), channel_vote=harmonic_mean)\n",
      "metric_min_efficiency_sum_simple = metric_generate(test.get_data(), channel_vote=lambda x: numpy.sum(array(x) ** 3))\n",
      "metric_min_efficiency_perc = metric_generate(test.get_data(), vote=lambda x: numpy.percentile(x, 80))\n",
      "\n",
      "different_metrics = {'min': metric_min_efficiency, \n",
      "                     'harmonic': metric_min_efficiency_harmonic, \n",
      "                     'percentile_80_vote_min': metric_min_efficiency_perc,\n",
      "                     'sum_power_3': metric_min_efficiency_sum_simple}"
     ],
     "language": "python",
     "metadata": {},
     "outputs": [],
     "prompt_number": 43
    },
    {
     "cell_type": "markdown",
     "metadata": {},
     "source": [
      "#Training the best simple classifiers (using some grid search for parameters)."
     ]
    },
    {
     "cell_type": "code",
     "collapsed": false,
     "input": [
      "signal_labels = array(test.get_data(['signal'])['signal'])"
     ],
     "language": "python",
     "metadata": {},
     "outputs": [],
     "prompt_number": 32
    },
    {
     "cell_type": "markdown",
     "metadata": {},
     "source": [
      "## Matrixnet"
     ]
    },
    {
     "cell_type": "code",
     "collapsed": false,
     "input": [
      "# import cPickle\n",
      "# with open('best_simple/ada_best/classifierSklearn') as file:\n",
      "#     ada_best = cPickle.load(file)\n",
      "\n",
      "# import cPickle\n",
      "# with open('mn_simple_best/classifierEF') as file:\n",
      "#     mn_best = cPickle.load(file)\n",
      "\n",
      "# import cPickle\n",
      "# with open('/mnt/w76/notebook/antares/IPythonWorkflow/ugb/classifierSklearn') as file:\n",
      "#     ugb_best = cPickle.load(file)"
     ],
     "language": "python",
     "metadata": {},
     "outputs": [],
     "prompt_number": 23
    },
    {
     "cell_type": "code",
     "collapsed": false,
     "input": [
      "import sklearn\n",
      "from cern_utils import sklearn_classifier, ef_classifier\n",
      "\n",
      "mn_best = ef_classifier.ClassifierEF(directory='mn_simple_best', formula_name='topo_mn_simple_best_1', \n",
      "                                     dataset_name='topo_mn_simple_best_1', url_base='w73.cern.yandex.net')\n",
      "mn_best.set_params(features=variables, iterations=5000, features_sample_rate_per_iteration=1.0,\n",
      "                   training_fraction=0.5, regularization=0.01, sync=False)\n",
      "mn_best.fit(train_sgn, train_bkg)"
     ],
     "language": "python",
     "metadata": {},
     "outputs": [
      {
       "metadata": {},
       "output_type": "pyout",
       "prompt_number": 102,
       "text": [
        "<cern_utils.ef_classifier.ClassifierEF at 0x4cdcbd0>"
       ]
      }
     ],
     "prompt_number": 102
    },
    {
     "cell_type": "code",
     "collapsed": false,
     "input": [
      "prob_mn = mn_best.predict(test)"
     ],
     "language": "python",
     "metadata": {},
     "outputs": [],
     "prompt_number": 24
    },
    {
     "cell_type": "code",
     "collapsed": false,
     "input": [
      "mn_best.get_feature_importance().sort(['effect'], ascending=False)[['effect']].plot(figsize=(13,3), kind='bar')"
     ],
     "language": "python",
     "metadata": {},
     "outputs": [
      {
       "output_type": "stream",
       "stream": "stderr",
       "text": [
        "/local/userdata/shelf/notebook/antares/work/REP/cern_utils/ef_classifier.py:360: SettingWithCopyWarning: A value is trying to be set on a copy of a slice from a DataFrame.\n",
        "Try using .loc[row_index,col_indexer] = value instead\n",
        "  fstr['effect'] /= max(fstr['effect'])\n",
        "/local/userdata/shelf/notebook/antares/work/REP/cern_utils/ef_classifier.py:361: SettingWithCopyWarning: A value is trying to be set on a copy of a slice from a DataFrame.\n",
        "Try using .loc[row_index,col_indexer] = value instead\n",
        "  fstr['information'] /= max(fstr['information'])\n"
       ]
      },
      {
       "output_type": "stream",
       "stream": "stderr",
       "text": [
        "/local/userdata/shelf/notebook/antares/work/REP/cern_utils/ef_classifier.py:362: SettingWithCopyWarning: A value is trying to be set on a copy of a slice from a DataFrame.\n",
        "Try using .loc[row_index,col_indexer] = value instead\n",
        "  fstr['efficiency'] /= max(fstr['efficiency'])\n"
       ]
      },
      {
       "metadata": {},
       "output_type": "pyout",
       "prompt_number": 25,
       "text": [
        "<matplotlib.axes.AxesSubplot at 0x1441f690>"
       ]
      },
      {
       "metadata": {},
       "output_type": "display_data",
       "png": "[encoded data removed]",
       "text": [
        "<matplotlib.figure.Figure at 0x1441f110>"
       ]
      }
     ],
     "prompt_number": 25
    },
    {
     "cell_type": "markdown",
     "metadata": {},
     "source": [
      "## AdaBoost"
     ]
    },
    {
     "cell_type": "code",
     "collapsed": false,
     "input": [
      "from sklearn.ensemble import AdaBoostClassifier\n",
      "from sklearn.tree import DecisionTreeClassifier\n",
      "\n",
      "ada_base = AdaBoostClassifier(n_estimators=400, learning_rate=0.1,\n",
      "                              base_estimator=DecisionTreeClassifier(max_depth=6, min_samples_leaf=30, max_features=6))\n",
      "ada_best = sklearn_classifier.ClassifierSklearn(ada_base, directory='best_simple/ada_best')\n",
      "ada_best.set_params(features=variables)\n",
      "ada_best.fit(train_sgn, train_bkg)"
     ],
     "language": "python",
     "metadata": {},
     "outputs": [
      {
       "metadata": {},
       "output_type": "pyout",
       "prompt_number": 115,
       "text": [
        "<cern_utils.sklearn_classifier.ClassifierSklearn at 0xfe33a90>"
       ]
      }
     ],
     "prompt_number": 115
    },
    {
     "cell_type": "code",
     "collapsed": false,
     "input": [
      "prob_ada = ada_best.predict(test)"
     ],
     "language": "python",
     "metadata": {},
     "outputs": [],
     "prompt_number": 26
    },
    {
     "cell_type": "code",
     "collapsed": false,
     "input": [
      "ada_best.get_feature_importance().sort(['effect'], ascending=False)[['effect']].plot(figsize=(13,3), kind='bar')"
     ],
     "language": "python",
     "metadata": {},
     "outputs": [
      {
       "metadata": {},
       "output_type": "pyout",
       "prompt_number": 27,
       "text": [
        "<matplotlib.axes.AxesSubplot at 0x89e0590>"
       ]
      },
      {
       "metadata": {},
       "output_type": "display_data",
       "png": "[encoded data removed]",
       "text": [
        "<matplotlib.figure.Figure at 0x1372fc50>"
       ]
      }
     ],
     "prompt_number": 27
    },
    {
     "cell_type": "markdown",
     "metadata": {},
     "source": [
      "## Random Forest"
     ]
    },
    {
     "cell_type": "code",
     "collapsed": false,
     "input": [
      "from sklearn.ensemble import RandomForestClassifier\n",
      "\n",
      "forest_base = RandomForestClassifier(max_depth=10, n_estimators=400, min_samples_split=100)\n",
      "forest_best = sklearn_classifier.ClassifierSklearn(forest_base, directory='best_simple/forest_best')\n",
      "forest_best.set_params(features=variables)\n",
      "forest_best.fit(train_sgn, train_bkg)"
     ],
     "language": "python",
     "metadata": {},
     "outputs": [
      {
       "metadata": {},
       "output_type": "pyout",
       "prompt_number": 23,
       "text": [
        "<cern_utils.sklearn_classifier.ClassifierSklearn at 0xd2090d0>"
       ]
      }
     ],
     "prompt_number": 23
    },
    {
     "cell_type": "code",
     "collapsed": false,
     "input": [
      "prob_forest = forest_best.predict(test)"
     ],
     "language": "python",
     "metadata": {},
     "outputs": [],
     "prompt_number": 28
    },
    {
     "cell_type": "code",
     "collapsed": false,
     "input": [
      "forest_best.get_feature_importance().sort(['effect'], ascending=False)[['effect']].plot(figsize=(13,3), kind='bar')"
     ],
     "language": "python",
     "metadata": {},
     "outputs": [
      {
       "metadata": {},
       "output_type": "pyout",
       "prompt_number": 29,
       "text": [
        "<matplotlib.axes.AxesSubplot at 0x7fb7d82e9dd0>"
       ]
      },
      {
       "metadata": {},
       "output_type": "display_data",
       "png": "[encoded data removed]",
       "text": [
        "<matplotlib.figure.Figure at 0x7fb7d82df490>"
       ]
      }
     ],
     "prompt_number": 29
    },
    {
     "cell_type": "markdown",
     "metadata": {},
     "source": [
      "# UGB+FL"
     ]
    },
    {
     "cell_type": "code",
     "collapsed": false,
     "input": [
      "from ugradientboosting import BinFlatnessLossFunction, uGradientBoostingClassifier\n",
      "from ugradientboosting import AbstractFlatnessLossFunction\n",
      "from cern_utils import sklearn_classifier\n",
      "\n",
      "BinFlatnessLossFunction.compute_groups_indices\n",
      "class TopoFlatnessLossFunction(AbstractFlatnessLossFunction):\n",
      "    def compute_groups_indices(self, X, y, label):\n",
      "        result = []\n",
      "        channels = numpy.array(X[self.uniform_variables[0]])\n",
      "        for ch in set(channels[y == label]):\n",
      "            result.append(numpy.where((channels == ch) & (y == label))[0])\n",
      "        return result\n",
      "loss = TopoFlatnessLossFunction(['channel'], ada_coefficient=0.2, uniform_label=1)\n",
      "ugb = uGradientBoostingClassifier(loss=loss, n_estimators=1500, subsample=0.5, max_depth=6, min_samples_leaf=30, max_features=6,\n",
      "                                  learning_rate=0.1, train_variables=variables)\n",
      "\n",
      "ugb_best = sklearn_classifier.ClassifierSklearn(ugb, directory='ugb')\n",
      "ugb_best.set_params(features=variables + ['channel'])\n",
      "ugb_do.fit(train_sgn, train_bkg)"
     ],
     "language": "python",
     "metadata": {},
     "outputs": [],
     "prompt_number": 22
    },
    {
     "cell_type": "code",
     "collapsed": false,
     "input": [
      "ugb_prob = ugb_best.predict(test)"
     ],
     "language": "python",
     "metadata": {},
     "outputs": [],
     "prompt_number": 30
    },
    {
     "cell_type": "code",
     "collapsed": false,
     "input": [
      "learning_ugb = []\n",
      "from itertools import islice\n",
      "for p in islice(ugb_best.base_classifier.staged_predict_proba(test._df), 50, None, 50):\n",
      "    learning_ugb.append(metric_min_efficiency(signal_labels, p[:, 1]))"
     ],
     "language": "python",
     "metadata": {},
     "outputs": [],
     "prompt_number": 47
    },
    {
     "cell_type": "code",
     "collapsed": false,
     "input": [
      "plot(learning_ugb)\n",
      "title('learning curve')"
     ],
     "language": "python",
     "metadata": {},
     "outputs": [
      {
       "metadata": {},
       "output_type": "pyout",
       "prompt_number": 50,
       "text": [
        "<matplotlib.text.Text at 0x1044f710>"
       ]
      },
      {
       "metadata": {},
       "output_type": "display_data",
       "png": "[encoded data removed]",
       "text": [
        "<matplotlib.figure.Figure at 0xd1d8290>"
       ]
      }
     ],
     "prompt_number": 50
    },
    {
     "cell_type": "markdown",
     "metadata": {},
     "source": [
      "# Compare metric"
     ]
    },
    {
     "cell_type": "code",
     "collapsed": false,
     "input": [
      "plt.subplots(figsize=(10,7))\n",
      "PlotMetric(different_metrics, signal_labels, prob_mn).plot(color='g', label='Matrixnet')\n",
      "PlotMetric(different_metrics, signal_labels, prob_ada).plot(color='b', label='AdaBoost', x_push=0.1)\n",
      "f = PlotMetric(different_metrics, signal_labels, prob_forest).plot(color='pink', label='Forest', size=50, x_push=0.2)\n",
      "PlotMetric(different_metrics, signal_labels, ugb_prob).plot(color='red', label='UGB+FL', x_push=0.3)\n",
      "legend(loc='best')\n",
      "title('Compare metrics')"
     ],
     "language": "python",
     "metadata": {},
     "outputs": []
    },
    {
     "cell_type": "markdown",
     "metadata": {},
     "source": [
      "# Prediction pdf on test samples"
     ]
    },
    {
     "cell_type": "code",
     "collapsed": false,
     "input": [
      "from cern_utils.predictions_report import PredictionsInfo\n",
      "report = PredictionsInfo({'MN': mn_best, 'Ada': ada_best, 'Forest': forest_best, 'Uboost': ugb_best}, \n",
      "                         test.select('(signal==1) & (presel==1) & (channel_label==12873432)'), \n",
      "                         test.select('(signal==0) & (presel==1)'))\n"
     ],
     "language": "python",
     "metadata": {},
     "outputs": [],
     "prompt_number": 35
    },
    {
     "cell_type": "code",
     "collapsed": false,
     "input": [
      "report.prediction_pdf(class_type='signal', bins=50).plot(new_plot=True, figsize = (9, 4))"
     ],
     "language": "python",
     "metadata": {},
     "outputs": [
      {
       "metadata": {},
       "output_type": "display_data",
       "png": "[encoded data removed]",
       "text": [
        "<matplotlib.figure.Figure at 0x5012110>"
       ]
      }
     ],
     "prompt_number": 36
    },
    {
     "cell_type": "code",
     "collapsed": false,
     "input": [
      "report.prediction_pdf(class_type='bck').plot(new_plot=True, figsize = (9, 4))"
     ],
     "language": "python",
     "metadata": {},
     "outputs": [
      {
       "metadata": {},
       "output_type": "display_data",
       "png": "[encoded data removed]",
       "text": [
        "<matplotlib.figure.Figure at 0x104619d0>"
       ]
      }
     ],
     "prompt_number": 37
    },
    {
     "cell_type": "markdown",
     "metadata": {},
     "source": [
      "# Plot channel efficiencies with empty events"
     ]
    },
    {
     "cell_type": "code",
     "collapsed": false,
     "input": [
      "plt.subplots(figsize=(13,7))\n",
      "to_plot_res = {}\n",
      "to_plot_res['Matrixnet'] = {'data': eff_to_plot(signal_labels, prob_mn), 'color': 'g', 'move': 3, 'alpha': 1,\n",
      "                            'p_label': 'p_empty', 'total': 'total_empty'}\n",
      "to_plot_res['AdaBoost'] = {'data': eff_to_plot(signal_labels, prob_ada), 'color': 'b', 'move': 4,\n",
      "                           'p_label': 'p_empty', 'total': 'total_empty'}\n",
      "to_plot_res['Forest'] = {'data': eff_to_plot(signal_labels, prob_forest), 'color': 'pink', 'move': 5,\n",
      "                         'p_label': 'p_empty', 'total': 'total_empty'}\n",
      "to_plot_res['UGB+FL'] = {'data': eff_to_plot(signal_labels, ugb_prob), 'color': 'cyan', 'move': 6,\n",
      "                         'p_label': 'p_empty', 'total': 'total_empty'}\n",
      "to_plot_res['BDT_modified'] = {'data': eff_to_plot(signal_labels, numpy.zeros(len(signal_labels))), 'color': 'r', 'move': 7,\n",
      "                         'p_label': 'bdt_passed_modified', 'total': 'total_empty'}\n",
      "    \n",
      "plot_eff(to_plot_res)\n",
      "plt.xlabel('Modes')\n",
      "plt.ylabel('Inefficiency')\n",
      "plt.title('Classifier Inefficiency')\n",
      "plt.legend(loc='best')\n",
      "plt.tight_layout()"
     ],
     "language": "python",
     "metadata": {},
     "outputs": [
      {
       "metadata": {},
       "output_type": "display_data",
       "png": "[encoded data removed]",
       "text": [
        "<matplotlib.figure.Figure at 0x7fb7d8e7a810>"
       ]
      }
     ],
     "prompt_number": 45
    },
    {
     "cell_type": "markdown",
     "metadata": {},
     "source": [
      "# Plot channel efficiencies without empty events"
     ]
    },
    {
     "cell_type": "code",
     "collapsed": false,
     "input": [
      "plt.subplots(figsize=(13,7))\n",
      "to_plot_res = {}\n",
      "to_plot_res['Matrixnet'] = {'data': eff_to_plot(signal_labels, prob_mn), 'color': 'g', 'move': 3, 'alpha': 1}\n",
      "to_plot_res['AdaBoost'] = {'data': eff_to_plot(signal_labels, prob_ada), 'color': 'b', 'move': 4}\n",
      "to_plot_res['Forest'] = {'data': eff_to_plot(signal_labels, prob_forest), 'color': 'pink', 'move': 5}\n",
      "to_plot_res['UGB+FL'] = {'data': eff_to_plot(signal_labels, ugb_prob), 'color': 'cyan', 'move': 6}\n",
      "    \n",
      "plot_eff(to_plot_res)\n",
      "plt.xlabel('Modes')\n",
      "plt.ylabel('Inefficiency')\n",
      "plt.title('Classifier Inefficiency')\n",
      "plt.legend(loc='best')\n",
      "plt.tight_layout()"
     ],
     "language": "python",
     "metadata": {},
     "outputs": [
      {
       "metadata": {},
       "output_type": "display_data",
       "png": "[encoded data removed]",
       "text": [
        "<matplotlib.figure.Figure at 0x1045a350>"
       ]
      }
     ],
     "prompt_number": 46
    },
    {
     "cell_type": "code",
     "collapsed": false,
     "input": [],
     "language": "python",
     "metadata": {},
     "outputs": []
    }
   ],
   "metadata": {}
  }
 ]
}