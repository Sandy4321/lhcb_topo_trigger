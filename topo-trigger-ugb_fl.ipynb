{
 "metadata": {
  "name": "",
  "signature": "sha256:22a6326c8ffeb90a98a29dd2cc29b3f9be823556ce71be2f6bfd455e2066de54"
 },
 "nbformat": 3,
 "nbformat_minor": 0,
 "worksheets": [
  {
   "cells": [
    {
     "cell_type": "code",
     "collapsed": false,
     "input": [
      "channels_all = [\"mod_11114001.csv\", \"mod_11124001.csv\", \n",
      "                \"mod_11296013.csv\", \"mod_11874042.csv\", \n",
      "                \"mod_12103035.csv\", \"mod_12165106.csv\", \n",
      "                \"mod_12265042.csv\", \"mod_30000000.csv\"]\n",
      "folder = \"Topo/csv_data_true/\""
     ],
     "language": "python",
     "metadata": {},
     "outputs": [],
     "prompt_number": 1
    },
    {
     "cell_type": "code",
     "collapsed": false,
     "input": [
      "import io\n",
      "from IPython.nbformat import current\n",
      "\n",
      "def execute_notebook(nbfile):\n",
      "    \n",
      "    with io.open(nbfile) as f:\n",
      "        nb = current.read(f, 'json')\n",
      "    \n",
      "    ip = get_ipython()\n",
      "    \n",
      "    for cell in nb.worksheets[0].cells:\n",
      "        if cell.cell_type != 'code':\n",
      "            continue\n",
      "        ip.run_cell(cell.input)\n",
      "\n",
      "        \n",
      "import sys\n",
      "sys.path.insert(0, '/local/userdata/shelf/notebook/antares/work/REP')\n",
      "sys.path.insert(0, '/local/userdata/shelf/notebook/axelr/lhcb_trigger_ml/IPythonWorkflow/')\n",
      "import cern_utils\n",
      "from cern_utils import converter_csv\n",
      "\n",
      "execute_notebook('metric_generate.ipynb')"
     ],
     "language": "python",
     "metadata": {},
     "outputs": [],
     "prompt_number": 2
    },
    {
     "cell_type": "code",
     "collapsed": false,
     "input": [
      "empty_events = {11114001: 151, \n",
      "                11124001: 52,\n",
      "                11296013: 23,\n",
      "                11874042: 139, \n",
      "                12103035: 417,\n",
      "                12165106: 317,\n",
      "                12265042: 56,\n",
      "                30000000: 107352}"
     ],
     "language": "python",
     "metadata": {},
     "outputs": [],
     "prompt_number": 3
    },
    {
     "cell_type": "code",
     "collapsed": false,
     "input": [
      "# head = True\n",
      "# for channel in channels_all[:-1]:\n",
      "#     t = pandas.read_csv(folder + channel, sep='\\t')\n",
      "#     t.to_csv(folder + 'signal.csv', header=head, index=False, sep='\\t', mode='a')\n",
      "#     head = False"
     ],
     "language": "python",
     "metadata": {},
     "outputs": [],
     "prompt_number": 4
    },
    {
     "cell_type": "code",
     "collapsed": false,
     "input": [
      "variables = [\"sumpt\",\n",
      "             \"m\",\n",
      "             \"mcor\",\n",
      "             \"ipchi2\",\n",
      "             \"vchi2\",\n",
      "             \"sumipchi2\",\n",
      "             \"fdr\",\n",
      "             \"nlt16\",\n",
      "             \"minpt\",\n",
      "             \"ptau\",\n",
      "             \"q\",\n",
      "             \"eta\",\n",
      "             \"nhlt1\",\n",
      "             \"nmu\",\n",
      "             \"n\",\n",
      "             \"fdchi2\"]"
     ],
     "language": "python",
     "metadata": {},
     "outputs": [],
     "prompt_number": 8
    },
    {
     "cell_type": "code",
     "collapsed": false,
     "input": [
      "sig_data = converter_csv.load_from_csv(folder + 'signal.csv', sep='\\t')\n",
      "bck_data = converter_csv.load_from_csv(folder + channels_all[-1], sep='\\t')"
     ],
     "language": "python",
     "metadata": {},
     "outputs": [],
     "prompt_number": 9
    },
    {
     "cell_type": "code",
     "collapsed": false,
     "input": [
      "def get_channel_labels(ds):\n",
      "    channel_label = []\n",
      "\n",
      "    for element in ds['# event_id']:\n",
      "        channel_label.append(int(element.split('_')[0]))\n",
      "    return channel_label"
     ],
     "language": "python",
     "metadata": {},
     "outputs": [],
     "prompt_number": 10
    },
    {
     "cell_type": "code",
     "collapsed": false,
     "input": [
      "from sklearn.preprocessing import LabelEncoder\n",
      "from sklearn import preprocessing\n",
      "le = preprocessing.LabelEncoder()\n",
      "le.fit(map(lambda x: int(x[4:-4]), channels_all))\n",
      "sig_data = sig_data.add_columns({'channel': le.transform(get_channel_labels(sig_data)), \n",
      "                                 'channel_label': get_channel_labels(sig_data)})\n",
      "bck_data = bck_data.add_columns({'channel': le.transform(get_channel_labels(bck_data)),\n",
      "                                 'channel_label': get_channel_labels(bck_data)})"
     ],
     "language": "python",
     "metadata": {},
     "outputs": [],
     "prompt_number": 11
    },
    {
     "cell_type": "code",
     "collapsed": false,
     "input": [
      "bck_data_train, bck_data_test = bck_data.get_train_test(train_size=0.5, \n",
      "                                                        test_size=0.5, group_columns='# event_id')\n",
      "sig_data_train, sig_data_test = sig_data.get_train_test(train_size=0.5, test_size=0.5, group_columns='# event_id')\n",
      "bck_data_train = bck_data_train.select('presel==1')\n",
      "sig_data_train = sig_data_train.select('presel==1')"
     ],
     "language": "python",
     "metadata": {},
     "outputs": [],
     "prompt_number": 14
    },
    {
     "cell_type": "code",
     "collapsed": false,
     "input": [
      "len(sig_data), len(bck_data), len(sig_data_train), len(bck_data_train)"
     ],
     "language": "python",
     "metadata": {},
     "outputs": [
      {
       "metadata": {},
       "output_type": "pyout",
       "prompt_number": 15,
       "text": [
        "(11011932, 1562996, 2588811, 201421)"
       ]
      }
     ],
     "prompt_number": 15
    },
    {
     "cell_type": "markdown",
     "metadata": {},
     "source": [
      "# UGB + FL"
     ]
    },
    {
     "cell_type": "code",
     "collapsed": false,
     "input": [
      "from ugradientboosting import BinFlatnessLossFunction, uGradientBoostingClassifier\n",
      "from ugradientboosting import AbstractFlatnessLossFunction\n",
      "from cern_utils import sklearn_classifier\n",
      "\n",
      "BinFlatnessLossFunction.compute_groups_indices\n",
      "class TopoFlatnessLossFunction(AbstractFlatnessLossFunction):\n",
      "    def compute_groups_indices(self, X, y, label):\n",
      "        result = []\n",
      "        channels = numpy.array(X[self.uniform_variables[0]])\n",
      "        for ch in set(channels[y == label]):\n",
      "            result.append(numpy.where((channels == ch) & (y == label))[0])\n",
      "        return result\n",
      "loss = TopoFlatnessLossFunction(['channel'], ada_coefficient=0.2, uniform_label=1)\n",
      "\n",
      "ugb = uGradientBoostingClassifier(loss=loss, n_estimators=1500, subsample=0.1, max_depth=6, min_samples_leaf=30, max_features=6,\n",
      "                                  learning_rate=0.08, train_variables=variables)\n",
      "ugb_do = sklearn_classifier.ClassifierSklearn(base_classifier=ugb, directory='train_anal/ugb/ugb_all')\n",
      "ugb_do.set_params(features=variables + ['channel'])"
     ],
     "language": "python",
     "metadata": {},
     "outputs": [],
     "prompt_number": 20
    },
    {
     "cell_type": "code",
     "collapsed": false,
     "input": [
      "loss = BinFlatnessLossFunction(['btau'], n_bins=15, ada_coefficient=0.5)\n",
      "ugb_ctau = uGradientBoostingClassifier(loss=loss, n_estimators=1500, subsample=0.1, \n",
      "                                       max_depth=6, min_samples_leaf=30, max_features=6,\n",
      "                                  learning_rate=0.08, train_variables=variables)\n",
      "ugb_ctau_do = sklearn_classifier.ClassifierSklearn(base_classifier=ugb_ctau, directory='train_anal/ugb/ugb_ctau')\n",
      "ugb_ctau_do.set_params(features=variables + ['btau'])"
     ],
     "language": "python",
     "metadata": {},
     "outputs": [],
     "prompt_number": 21
    },
    {
     "cell_type": "code",
     "collapsed": false,
     "input": [
      "loss = BinFlatnessLossFunction(['btau'], n_bins=15, ada_coefficient=0.5)\n",
      "ugb_ctau_true = uGradientBoostingClassifier(loss=loss, n_estimators=1500, subsample=0.3, \n",
      "                                       max_depth=6, min_samples_leaf=30, max_features=6,\n",
      "                                  learning_rate=0.08, train_variables=variables)\n",
      "ugb_ctau_true_do = sklearn_classifier.ClassifierSklearn(base_classifier=ugb_ctau_true, directory='train_anal/ugb/ugb_ctau_true')\n",
      "ugb_ctau_true_do.set_params(features=variables + ['btau'])"
     ],
     "language": "python",
     "metadata": {},
     "outputs": [],
     "prompt_number": 22
    },
    {
     "cell_type": "code",
     "collapsed": false,
     "input": [
      "ugb_do.fit(sig_data_train, bck_data_train)\n",
      "ugb_ctau_do.fit(sig_data_train, bck_data_train)\n",
      "ugb_ctau_true_do.fit(sig_data_train.select('truematch==1'), bck_data_train)"
     ],
     "language": "python",
     "metadata": {},
     "outputs": []
    },
    {
     "cell_type": "code",
     "collapsed": false,
     "input": [
      "test_all = sig_data_test.union([sig_data_test, bck_data_test])\n",
      "eff_to_plot = metric_generate(test_all.get_data(), metric_plot=True)\n",
      "signal_labels = [1] * len(sig_data_test) + [0] * len(bck_data_test)"
     ],
     "language": "python",
     "metadata": {},
     "outputs": []
    },
    {
     "cell_type": "code",
     "collapsed": false,
     "input": [
      "ugb_prob = ugb_do.predict(test_all)\n",
      "ugb_ctau_prob = ugb_ctau_do.predict(test_all)\n",
      "ugb_ctau_true_prob = ugb_ctau_true_do.predict(test_all)"
     ],
     "language": "python",
     "metadata": {},
     "outputs": []
    },
    {
     "cell_type": "code",
     "collapsed": false,
     "input": [
      "to_plot_res = {}\n",
      "to_plot_res['ugb+fl channel'] = {'data': eff_to_plot(signal_labels, ugb_prob), \n",
      "                                  'color': 'blue', 'move': 3, 'alpha': 1,\n",
      "                                  'p_label': 'p_empty', 'total': 'total_empty'}\n",
      "\n",
      "to_plot_res['ugb+fl btau'] = {'data': eff_to_plot(signal_labels, ugb_ctau_prob), \n",
      "                                  'color': 'red', 'move': 4, 'alpha': 1,\n",
      "                                  'p_label': 'p_empty', 'total': 'total_empty'}\n",
      "to_plot_res['ugb+fl btau (train on truematch)'] = {'data': eff_to_plot(signal_labels, ugb_ctau_true_prob), \n",
      "                                  'color': 'green', 'move': 5, 'alpha': 1,\n",
      "                                  'p_label': 'p_empty', 'total': 'total_empty'}"
     ],
     "language": "python",
     "metadata": {},
     "outputs": []
    },
    {
     "cell_type": "code",
     "collapsed": false,
     "input": [
      "plt.subplots(figsize=(13,7))\n",
      "plot_eff(to_plot_res, p_label='p_empty', total_label='total_empty')\n",
      "plt.xlabel('Modes')\n",
      "plt.ylabel('Inefficiency')\n",
      "plt.title('Classifier Inefficiency for UGB+FL')\n",
      "plt.legend(loc='best')\n",
      "plt.tight_layout()"
     ],
     "language": "python",
     "metadata": {},
     "outputs": [
      {
       "metadata": {},
       "output_type": "display_data",
       "png": "[encoded data removed]",
       "text": [
        "<matplotlib.figure.Figure at 0x8031fd10>"
       ]
      }
     ],
     "prompt_number": 32
    }
   ],
   "metadata": {}
  }
 ]
}